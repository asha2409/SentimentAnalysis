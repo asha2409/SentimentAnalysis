{
  "cells": [
    {
      "cell_type": "code",
      "execution_count": null,
      "metadata": {
        "id": "f6Zq3hvBw3IB"
      },
      "outputs": [],
      "source": [
        "import re\n",
        "import nltk\n",
        "import string\n",
        "import warnings\n",
        "import numpy as np\n",
        "import pandas as pd\n",
        "import seaborn as sns\n",
        "import matplotlib.pyplot as plt"
      ]
    },
    {
      "cell_type": "code",
      "execution_count": null,
      "metadata": {
        "id": "lsPtsV7RxcKd"
      },
      "outputs": [],
      "source": [
        "pd.set_option(\"display.max_colwidth\",200)\n",
        "warnings.filterwarnings(\"ignore\",category=DeprecationWarning)"
      ]
    },
    {
      "cell_type": "code",
      "execution_count": null,
      "metadata": {
        "id": "su35O-ZIyZcP"
      },
      "outputs": [],
      "source": [
        "%matplotlib inline"
      ]
    },
    {
      "cell_type": "code",
      "execution_count": null,
      "metadata": {
        "id": "5ocQsEBO3fKG"
      },
      "outputs": [],
      "source": [
        "# Load train file (try comma first, then tab if it looks wrong)\n",
        "train = pd.read_csv(\"/content/drive/MyDrive/SentimentAnalysis/train_E6oV3lV.csv\", sep=\"\\t\", header=None)"
      ]
    },
    {
      "cell_type": "code",
      "execution_count": null,
      "metadata": {
        "id": "RsNkktKWy5RQ"
      },
      "outputs": [],
      "source": [
        "# Load test file\n",
        "test = pd.read_csv(\"/content/drive/MyDrive/SentimentAnalysis/test_tweets_anuFYb8.csv\", header=None, names=[\"tweet_id\", \"label\", \"tweet\"])"
      ]
    },
    {
      "cell_type": "code",
      "source": [
        "train = pd.read_csv('/content/drive/MyDrive/SentimentAnalysis/train_E6oV3lV.csv')  # Make sure you have this file in your working directory\n",
        "print(train['label'].value_counts())\n"
      ],
      "metadata": {
        "id": "5AyFSAXsgXyb",
        "colab": {
          "base_uri": "https://localhost:8080/"
        },
        "outputId": "0cd82f04-83de-48a7-ed41-aa20c7a63447"
      },
      "execution_count": null,
      "outputs": [
        {
          "output_type": "stream",
          "name": "stdout",
          "text": [
            "label\n",
            "0    29720\n",
            "1     2242\n",
            "Name: count, dtype: int64\n"
          ]
        }
      ]
    },
    {
      "cell_type": "code",
      "execution_count": null,
      "metadata": {
        "id": "jHnJCG6E1xLe",
        "colab": {
          "base_uri": "https://localhost:8080/"
        },
        "outputId": "04401893-9e7a-4a74-da92-5b743815f4d0"
      },
      "outputs": [
        {
          "output_type": "stream",
          "name": "stdout",
          "text": [
            "Train shape: (31962, 3)\n",
            "          id  label  \\\n",
            "0          1      0   \n",
            "1          2      0   \n",
            "2          3      0   \n",
            "3          4      0   \n",
            "4          5      0   \n",
            "...      ...    ...   \n",
            "31957  31958      0   \n",
            "31958  31959      0   \n",
            "31959  31960      0   \n",
            "31960  31961      1   \n",
            "31961  31962      0   \n",
            "\n",
            "                                                                                                                                     tweet  \n",
            "0                                    @user when a father is dysfunctional and is so selfish he drags his kids into his dysfunction.   #run  \n",
            "1               @user @user thanks for #lyft credit i can't use cause they don't offer wheelchair vans in pdx.    #disapointed #getthanked  \n",
            "2                                                                                                                      bihday your majesty  \n",
            "3                                                   #model   i love u take with u all the time in urð±!!! ððððð¦ð¦ð¦    \n",
            "4                                                                                                   factsguide: society now    #motivation  \n",
            "...                                                                                                                                    ...  \n",
            "31957                                                                 ate @user isz that youuu?ðððððððððâ¤ï¸   \n",
            "31958    to see nina turner on the airwaves trying to wrap herself in the mantle of a genuine hero like shirley chisolm. #shame #imwithher  \n",
            "31959                                                                      listening to sad songs on a monday morning otw to work is sad    \n",
            "31960                                                                  @user #sikh #temple vandalised in in #calgary, #wso condemns  act    \n",
            "31961                                                                                                     thank you @user for you follow    \n",
            "\n",
            "[31962 rows x 3 columns]\n"
          ]
        }
      ],
      "source": [
        "print(\"Train shape:\", train.shape)\n",
        "print(train)"
      ]
    },
    {
      "cell_type": "code",
      "execution_count": null,
      "metadata": {
        "id": "0c467995",
        "colab": {
          "base_uri": "https://localhost:8080/"
        },
        "outputId": "9de38390-eaf4-402c-cc6a-69b774a89d1c"
      },
      "outputs": [
        {
          "output_type": "stream",
          "name": "stdout",
          "text": [
            "Index(['id', 'label', 'tweet'], dtype='object')\n"
          ]
        }
      ],
      "source": [
        "print(train.columns)"
      ]
    },
    {
      "cell_type": "code",
      "execution_count": null,
      "metadata": {
        "id": "brhtpuna3yyI"
      },
      "outputs": [],
      "source": [
        "train = pd.read_csv(\"/content/drive/MyDrive/SentimentAnalysis/train_E6oV3lV.csv\", sep='\\t', header=None, names=[\"tweet_id\",\"label\", \"tweet\"])"
      ]
    },
    {
      "cell_type": "code",
      "execution_count": null,
      "metadata": {
        "id": "XZ4AZOWT3-r2",
        "colab": {
          "base_uri": "https://localhost:8080/"
        },
        "outputId": "d8fb12b9-1567-4f87-b20a-43a09c9647a6"
      },
      "outputs": [
        {
          "output_type": "execute_result",
          "data": {
            "text/plain": [
              "((31963, 3), (17198, 3))"
            ]
          },
          "metadata": {},
          "execution_count": 188
        }
      ],
      "source": [
        "train.shape,test.shape"
      ]
    },
    {
      "cell_type": "code",
      "execution_count": null,
      "metadata": {
        "id": "LMpRa2NZ4Uge",
        "colab": {
          "base_uri": "https://localhost:8080/"
        },
        "outputId": "60b0791d-fb9c-42f4-aed2-306dbc5c22a4"
      },
      "outputs": [
        {
          "output_type": "stream",
          "name": "stdout",
          "text": [
            "Index(['tweet_id', 'label', 'tweet'], dtype='object')\n"
          ]
        }
      ],
      "source": [
        "print(train.columns)\n"
      ]
    },
    {
      "cell_type": "markdown",
      "metadata": {
        "id": "WujvG-u1Q9R1"
      },
      "source": [
        "alpha=0.5\n",
        "This means each bar is 50% transparent. When the same bins have bars from both datasets, matplotlib blends the colors:\n",
        "\n",
        "Blue (train) + Orange (test) = Brown (overlap)\n",
        "\n",
        "! The brown color in your histogram comes from the overlap between the two histograms:\n",
        "\n",
        "Blue = train_tweets\n",
        "\n",
        "Orange = test_tweets\n",
        "\n",
        "Brown = when blue and orange bars overlap, their colors blend due to alpha=0.5 (transparency), resulting in a mixed color — which appears brown.\n",
        "\n"
      ]
    },
    {
      "cell_type": "markdown",
      "metadata": {
        "id": "vhz5kupQDN4x"
      },
      "source": [
        "Combine Both for Cleaning"
      ]
    },
    {
      "cell_type": "code",
      "execution_count": null,
      "metadata": {
        "id": "WwLSes9pW9Hb",
        "colab": {
          "base_uri": "https://localhost:8080/"
        },
        "outputId": "5f2528fd-f00b-405d-cef6-5b922d8a8286"
      },
      "outputs": [
        {
          "output_type": "stream",
          "name": "stdout",
          "text": [
            "Index(['tweet_id', 'label', 'tweet'], dtype='object')\n"
          ]
        }
      ],
      "source": [
        "combi = pd.concat([train, test], ignore_index=True)\n",
        "print(combi.columns)  # Should show: ['tweet_id', 'label', 'tweet']\n",
        "\n"
      ]
    },
    {
      "cell_type": "code",
      "execution_count": null,
      "metadata": {
        "id": "MgQF5GQmYX1T",
        "colab": {
          "base_uri": "https://localhost:8080/"
        },
        "outputId": "87280072-4a39-4cf4-9799-130725f1abc8"
      },
      "outputs": [
        {
          "output_type": "stream",
          "name": "stdout",
          "text": [
            "(31963, 3)\n",
            "                                                                                                                         tweet_id  \\\n",
            "0                                                                                                                  id,label,tweet   \n",
            "1                      1,0, @user when a father is dysfunctional and is so selfish he drags his kids into his dysfunction.   #run   \n",
            "2  2,0,@user @user thanks for #lyft credit i can't use cause they don't offer wheelchair vans in pdx.    #disapointed #getthanked   \n",
            "\n",
            "   label  tweet  \n",
            "0    NaN    NaN  \n",
            "1    NaN    NaN  \n",
            "2    NaN    NaN  \n"
          ]
        }
      ],
      "source": [
        "print(train.shape)\n",
        "print(train.head(3))\n"
      ]
    },
    {
      "cell_type": "code",
      "execution_count": null,
      "metadata": {
        "id": "pXg2TRk0YdfB",
        "colab": {
          "base_uri": "https://localhost:8080/"
        },
        "outputId": "daebaea2-d731-4669-ae0a-7a650c09201b"
      },
      "outputs": [
        {
          "output_type": "stream",
          "name": "stdout",
          "text": [
            "Train shape: (31963, 3)\n",
            "                                                                                                                         tweet_id  \\\n",
            "0                                                                                                                  id,label,tweet   \n",
            "1                      1,0, @user when a father is dysfunctional and is so selfish he drags his kids into his dysfunction.   #run   \n",
            "2  2,0,@user @user thanks for #lyft credit i can't use cause they don't offer wheelchair vans in pdx.    #disapointed #getthanked   \n",
            "\n",
            "   label  tweet  \n",
            "0    NaN    NaN  \n",
            "1    NaN    NaN  \n",
            "2    NaN    NaN  \n",
            "Test shape: (17198, 3)\n",
            "  tweet_id  \\\n",
            "0       id   \n",
            "1    31963   \n",
            "2    31964   \n",
            "\n",
            "                                                                                                   label  \\\n",
            "0                                                                                                  tweet   \n",
            "1             #studiolife #aislife #requires #passion #dedication #willpower   to find #newmaterialsâ¦    \n",
            "2   @user #white #supremacists want everyone to see the new â  #birdsâ #movie â and hereâs why     \n",
            "\n",
            "   tweet  \n",
            "0    NaN  \n",
            "1    NaN  \n",
            "2    NaN  \n"
          ]
        }
      ],
      "source": [
        "print(\"Train shape:\", train.shape)\n",
        "print(train.head(3))\n",
        "\n",
        "print(\"Test shape:\", test.shape)\n",
        "print(test.head(3))"
      ]
    },
    {
      "cell_type": "code",
      "execution_count": null,
      "metadata": {
        "id": "QUkMq2woEN3r",
        "colab": {
          "base_uri": "https://localhost:8080/"
        },
        "outputId": "de1f9255-ddb7-417f-b46c-76ddfa23bb7d"
      },
      "outputs": [
        {
          "output_type": "stream",
          "name": "stdout",
          "text": [
            "Index(['tweet_id', 'label', 'tweet'], dtype='object')\n",
            "Index(['tweet_id', 'label', 'tweet'], dtype='object')\n"
          ]
        }
      ],
      "source": [
        "print(train.columns)\n",
        "print(test.columns)\n"
      ]
    },
    {
      "cell_type": "code",
      "execution_count": null,
      "metadata": {
        "id": "1jcBWmPnGgZ1",
        "colab": {
          "base_uri": "https://localhost:8080/"
        },
        "outputId": "95cdd127-c174-470a-87e8-d18caf5412d4"
      },
      "outputs": [
        {
          "output_type": "stream",
          "name": "stdout",
          "text": [
            "Index(['id', 'tweet'], dtype='object')\n"
          ]
        }
      ],
      "source": [
        "import pandas as pd\n",
        "\n",
        "test = pd.read_csv(\"/content/drive/MyDrive/SentimentAnalysis/test_tweets_anuFYb8.csv\")  # Replace with actual filename you upload\n",
        "print(test.columns)\n"
      ]
    },
    {
      "cell_type": "code",
      "execution_count": null,
      "metadata": {
        "id": "2aLM3M_RPLNW",
        "colab": {
          "base_uri": "https://localhost:8080/"
        },
        "outputId": "4a2b91bc-3aba-419e-90f1-cd4506a0a34c"
      },
      "outputs": [
        {
          "output_type": "stream",
          "name": "stdout",
          "text": [
            "Index(['tweet_id', 'label', 'tweet'], dtype='object')\n"
          ]
        }
      ],
      "source": [
        "print(combi.columns)\n"
      ]
    },
    {
      "cell_type": "code",
      "execution_count": null,
      "metadata": {
        "id": "zxN_n7qjR_64",
        "colab": {
          "base_uri": "https://localhost:8080/"
        },
        "outputId": "59430904-6a8e-407b-84b3-5da010574de5"
      },
      "outputs": [
        {
          "output_type": "stream",
          "name": "stdout",
          "text": [
            "(49160, 4)\n"
          ]
        }
      ],
      "source": [
        "import pandas as pd\n",
        "combi = pd.concat([train, test], ignore_index=True)\n",
        "print(combi.shape)"
      ]
    },
    {
      "cell_type": "markdown",
      "metadata": {
        "id": "InV_nXIhERLN"
      },
      "source": [
        "1. Removing Twitter Handles (@user)"
      ]
    },
    {
      "cell_type": "code",
      "execution_count": null,
      "metadata": {
        "id": "SI0XGxvSSe0z"
      },
      "outputs": [],
      "source": [
        "def remove_pattern(input_txt, pattern):\n",
        "    r = re.findall(pattern, input_txt)\n",
        "    for i in r:\n",
        "        input_txt = re.sub(i, '', input_txt)\n",
        "    return input_txt"
      ]
    },
    {
      "cell_type": "markdown",
      "metadata": {
        "id": "b9IC--PDEZRq"
      },
      "source": [
        "2. Removing Punctuations, Numbers, and Special Characters"
      ]
    },
    {
      "cell_type": "markdown",
      "metadata": {
        "id": "2iBsg_sCFSi8"
      },
      "source": [
        "2.1 combi DataFrame. Typically, it's created by combining train and test like this:"
      ]
    },
    {
      "cell_type": "markdown",
      "metadata": {
        "id": "oHXNfOmIJDR6"
      },
      "source": [
        "Apply Pattern Removal and Clean Tweet Text\n"
      ]
    },
    {
      "cell_type": "code",
      "execution_count": null,
      "metadata": {
        "id": "GKZKu3phJHLr",
        "colab": {
          "base_uri": "https://localhost:8080/",
          "height": 206
        },
        "outputId": "df4c18cf-ec95-4ef8-ca90-d510d0c53670"
      },
      "outputs": [
        {
          "output_type": "execute_result",
          "data": {
            "text/plain": [
              "  tweet tidy_tweet\n",
              "0                 \n",
              "1                 \n",
              "2                 \n",
              "3                 \n",
              "4                 "
            ],
            "text/html": [
              "\n",
              "  <div id=\"df-e8b08203-8d21-44ca-b3b9-fa4bf1587a81\" class=\"colab-df-container\">\n",
              "    <div>\n",
              "<style scoped>\n",
              "    .dataframe tbody tr th:only-of-type {\n",
              "        vertical-align: middle;\n",
              "    }\n",
              "\n",
              "    .dataframe tbody tr th {\n",
              "        vertical-align: top;\n",
              "    }\n",
              "\n",
              "    .dataframe thead th {\n",
              "        text-align: right;\n",
              "    }\n",
              "</style>\n",
              "<table border=\"1\" class=\"dataframe\">\n",
              "  <thead>\n",
              "    <tr style=\"text-align: right;\">\n",
              "      <th></th>\n",
              "      <th>tweet</th>\n",
              "      <th>tidy_tweet</th>\n",
              "    </tr>\n",
              "  </thead>\n",
              "  <tbody>\n",
              "    <tr>\n",
              "      <th>0</th>\n",
              "      <td></td>\n",
              "      <td></td>\n",
              "    </tr>\n",
              "    <tr>\n",
              "      <th>1</th>\n",
              "      <td></td>\n",
              "      <td></td>\n",
              "    </tr>\n",
              "    <tr>\n",
              "      <th>2</th>\n",
              "      <td></td>\n",
              "      <td></td>\n",
              "    </tr>\n",
              "    <tr>\n",
              "      <th>3</th>\n",
              "      <td></td>\n",
              "      <td></td>\n",
              "    </tr>\n",
              "    <tr>\n",
              "      <th>4</th>\n",
              "      <td></td>\n",
              "      <td></td>\n",
              "    </tr>\n",
              "  </tbody>\n",
              "</table>\n",
              "</div>\n",
              "    <div class=\"colab-df-buttons\">\n",
              "\n",
              "  <div class=\"colab-df-container\">\n",
              "    <button class=\"colab-df-convert\" onclick=\"convertToInteractive('df-e8b08203-8d21-44ca-b3b9-fa4bf1587a81')\"\n",
              "            title=\"Convert this dataframe to an interactive table.\"\n",
              "            style=\"display:none;\">\n",
              "\n",
              "  <svg xmlns=\"http://www.w3.org/2000/svg\" height=\"24px\" viewBox=\"0 -960 960 960\">\n",
              "    <path d=\"M120-120v-720h720v720H120Zm60-500h600v-160H180v160Zm220 220h160v-160H400v160Zm0 220h160v-160H400v160ZM180-400h160v-160H180v160Zm440 0h160v-160H620v160ZM180-180h160v-160H180v160Zm440 0h160v-160H620v160Z\"/>\n",
              "  </svg>\n",
              "    </button>\n",
              "\n",
              "  <style>\n",
              "    .colab-df-container {\n",
              "      display:flex;\n",
              "      gap: 12px;\n",
              "    }\n",
              "\n",
              "    .colab-df-convert {\n",
              "      background-color: #E8F0FE;\n",
              "      border: none;\n",
              "      border-radius: 50%;\n",
              "      cursor: pointer;\n",
              "      display: none;\n",
              "      fill: #1967D2;\n",
              "      height: 32px;\n",
              "      padding: 0 0 0 0;\n",
              "      width: 32px;\n",
              "    }\n",
              "\n",
              "    .colab-df-convert:hover {\n",
              "      background-color: #E2EBFA;\n",
              "      box-shadow: 0px 1px 2px rgba(60, 64, 67, 0.3), 0px 1px 3px 1px rgba(60, 64, 67, 0.15);\n",
              "      fill: #174EA6;\n",
              "    }\n",
              "\n",
              "    .colab-df-buttons div {\n",
              "      margin-bottom: 4px;\n",
              "    }\n",
              "\n",
              "    [theme=dark] .colab-df-convert {\n",
              "      background-color: #3B4455;\n",
              "      fill: #D2E3FC;\n",
              "    }\n",
              "\n",
              "    [theme=dark] .colab-df-convert:hover {\n",
              "      background-color: #434B5C;\n",
              "      box-shadow: 0px 1px 3px 1px rgba(0, 0, 0, 0.15);\n",
              "      filter: drop-shadow(0px 1px 2px rgba(0, 0, 0, 0.3));\n",
              "      fill: #FFFFFF;\n",
              "    }\n",
              "  </style>\n",
              "\n",
              "    <script>\n",
              "      const buttonEl =\n",
              "        document.querySelector('#df-e8b08203-8d21-44ca-b3b9-fa4bf1587a81 button.colab-df-convert');\n",
              "      buttonEl.style.display =\n",
              "        google.colab.kernel.accessAllowed ? 'block' : 'none';\n",
              "\n",
              "      async function convertToInteractive(key) {\n",
              "        const element = document.querySelector('#df-e8b08203-8d21-44ca-b3b9-fa4bf1587a81');\n",
              "        const dataTable =\n",
              "          await google.colab.kernel.invokeFunction('convertToInteractive',\n",
              "                                                    [key], {});\n",
              "        if (!dataTable) return;\n",
              "\n",
              "        const docLinkHtml = 'Like what you see? Visit the ' +\n",
              "          '<a target=\"_blank\" href=https://colab.research.google.com/notebooks/data_table.ipynb>data table notebook</a>'\n",
              "          + ' to learn more about interactive tables.';\n",
              "        element.innerHTML = '';\n",
              "        dataTable['output_type'] = 'display_data';\n",
              "        await google.colab.output.renderOutput(dataTable, element);\n",
              "        const docLink = document.createElement('div');\n",
              "        docLink.innerHTML = docLinkHtml;\n",
              "        element.appendChild(docLink);\n",
              "      }\n",
              "    </script>\n",
              "  </div>\n",
              "\n",
              "\n",
              "    <div id=\"df-1b06c814-e091-4c40-a481-3733a9e0badf\">\n",
              "      <button class=\"colab-df-quickchart\" onclick=\"quickchart('df-1b06c814-e091-4c40-a481-3733a9e0badf')\"\n",
              "                title=\"Suggest charts\"\n",
              "                style=\"display:none;\">\n",
              "\n",
              "<svg xmlns=\"http://www.w3.org/2000/svg\" height=\"24px\"viewBox=\"0 0 24 24\"\n",
              "     width=\"24px\">\n",
              "    <g>\n",
              "        <path d=\"M19 3H5c-1.1 0-2 .9-2 2v14c0 1.1.9 2 2 2h14c1.1 0 2-.9 2-2V5c0-1.1-.9-2-2-2zM9 17H7v-7h2v7zm4 0h-2V7h2v10zm4 0h-2v-4h2v4z\"/>\n",
              "    </g>\n",
              "</svg>\n",
              "      </button>\n",
              "\n",
              "<style>\n",
              "  .colab-df-quickchart {\n",
              "      --bg-color: #E8F0FE;\n",
              "      --fill-color: #1967D2;\n",
              "      --hover-bg-color: #E2EBFA;\n",
              "      --hover-fill-color: #174EA6;\n",
              "      --disabled-fill-color: #AAA;\n",
              "      --disabled-bg-color: #DDD;\n",
              "  }\n",
              "\n",
              "  [theme=dark] .colab-df-quickchart {\n",
              "      --bg-color: #3B4455;\n",
              "      --fill-color: #D2E3FC;\n",
              "      --hover-bg-color: #434B5C;\n",
              "      --hover-fill-color: #FFFFFF;\n",
              "      --disabled-bg-color: #3B4455;\n",
              "      --disabled-fill-color: #666;\n",
              "  }\n",
              "\n",
              "  .colab-df-quickchart {\n",
              "    background-color: var(--bg-color);\n",
              "    border: none;\n",
              "    border-radius: 50%;\n",
              "    cursor: pointer;\n",
              "    display: none;\n",
              "    fill: var(--fill-color);\n",
              "    height: 32px;\n",
              "    padding: 0;\n",
              "    width: 32px;\n",
              "  }\n",
              "\n",
              "  .colab-df-quickchart:hover {\n",
              "    background-color: var(--hover-bg-color);\n",
              "    box-shadow: 0 1px 2px rgba(60, 64, 67, 0.3), 0 1px 3px 1px rgba(60, 64, 67, 0.15);\n",
              "    fill: var(--button-hover-fill-color);\n",
              "  }\n",
              "\n",
              "  .colab-df-quickchart-complete:disabled,\n",
              "  .colab-df-quickchart-complete:disabled:hover {\n",
              "    background-color: var(--disabled-bg-color);\n",
              "    fill: var(--disabled-fill-color);\n",
              "    box-shadow: none;\n",
              "  }\n",
              "\n",
              "  .colab-df-spinner {\n",
              "    border: 2px solid var(--fill-color);\n",
              "    border-color: transparent;\n",
              "    border-bottom-color: var(--fill-color);\n",
              "    animation:\n",
              "      spin 1s steps(1) infinite;\n",
              "  }\n",
              "\n",
              "  @keyframes spin {\n",
              "    0% {\n",
              "      border-color: transparent;\n",
              "      border-bottom-color: var(--fill-color);\n",
              "      border-left-color: var(--fill-color);\n",
              "    }\n",
              "    20% {\n",
              "      border-color: transparent;\n",
              "      border-left-color: var(--fill-color);\n",
              "      border-top-color: var(--fill-color);\n",
              "    }\n",
              "    30% {\n",
              "      border-color: transparent;\n",
              "      border-left-color: var(--fill-color);\n",
              "      border-top-color: var(--fill-color);\n",
              "      border-right-color: var(--fill-color);\n",
              "    }\n",
              "    40% {\n",
              "      border-color: transparent;\n",
              "      border-right-color: var(--fill-color);\n",
              "      border-top-color: var(--fill-color);\n",
              "    }\n",
              "    60% {\n",
              "      border-color: transparent;\n",
              "      border-right-color: var(--fill-color);\n",
              "    }\n",
              "    80% {\n",
              "      border-color: transparent;\n",
              "      border-right-color: var(--fill-color);\n",
              "      border-bottom-color: var(--fill-color);\n",
              "    }\n",
              "    90% {\n",
              "      border-color: transparent;\n",
              "      border-bottom-color: var(--fill-color);\n",
              "    }\n",
              "  }\n",
              "</style>\n",
              "\n",
              "      <script>\n",
              "        async function quickchart(key) {\n",
              "          const quickchartButtonEl =\n",
              "            document.querySelector('#' + key + ' button');\n",
              "          quickchartButtonEl.disabled = true;  // To prevent multiple clicks.\n",
              "          quickchartButtonEl.classList.add('colab-df-spinner');\n",
              "          try {\n",
              "            const charts = await google.colab.kernel.invokeFunction(\n",
              "                'suggestCharts', [key], {});\n",
              "          } catch (error) {\n",
              "            console.error('Error during call to suggestCharts:', error);\n",
              "          }\n",
              "          quickchartButtonEl.classList.remove('colab-df-spinner');\n",
              "          quickchartButtonEl.classList.add('colab-df-quickchart-complete');\n",
              "        }\n",
              "        (() => {\n",
              "          let quickchartButtonEl =\n",
              "            document.querySelector('#df-1b06c814-e091-4c40-a481-3733a9e0badf button');\n",
              "          quickchartButtonEl.style.display =\n",
              "            google.colab.kernel.accessAllowed ? 'block' : 'none';\n",
              "        })();\n",
              "      </script>\n",
              "    </div>\n",
              "\n",
              "    </div>\n",
              "  </div>\n"
            ],
            "application/vnd.google.colaboratory.intrinsic+json": {
              "type": "dataframe",
              "summary": "{\n  \"name\": \"combi[['tweet', 'tidy_tweet']]\",\n  \"rows\": 5,\n  \"fields\": [\n    {\n      \"column\": \"tweet\",\n      \"properties\": {\n        \"dtype\": \"object\",\n        \"num_unique_values\": 1,\n        \"samples\": [\n          \"\"\n        ],\n        \"semantic_type\": \"\",\n        \"description\": \"\"\n      }\n    },\n    {\n      \"column\": \"tidy_tweet\",\n      \"properties\": {\n        \"dtype\": \"object\",\n        \"num_unique_values\": 1,\n        \"samples\": [\n          \"\"\n        ],\n        \"semantic_type\": \"\",\n        \"description\": \"\"\n      }\n    }\n  ]\n}"
            }
          },
          "metadata": {},
          "execution_count": 198
        }
      ],
      "source": [
        "# Fill NaN with empty string\n",
        "combi['tweet'] = combi['tweet'].fillna('')\n",
        "\n",
        "# Apply regex pattern removal\n",
        "combi['tidy_tweet'] = np.vectorize(remove_pattern)(combi['tweet'], \"@[\\w]*\")\n",
        "\n",
        "# Remove everything except letters and hashtags\n",
        "combi['tidy_tweet'] = combi['tidy_tweet'].str.replace(\"[^a-zA-Z#]\", \" \", regex=True)\n",
        "\n",
        "# View sample\n",
        "combi[['tweet', 'tidy_tweet']].head()\n"
      ]
    },
    {
      "cell_type": "code",
      "execution_count": null,
      "metadata": {
        "id": "697fa76b",
        "colab": {
          "base_uri": "https://localhost:8080/",
          "height": 472
        },
        "outputId": "ae031a64-6c1f-4782-c437-659a93c71c7e"
      },
      "outputs": [
        {
          "output_type": "display_data",
          "data": {
            "text/plain": [
              "<Figure size 640x480 with 1 Axes>"
            ],
            "image/png": "[encoded data removed]"
          },
          "metadata": {}
        }
      ],
      "source": [
        "length_train = train['tweet'].astype(str).str.len()\n",
        "length_test = test['tweet'].astype(str).str.len()\n",
        "import matplotlib.pyplot as plt\n",
        "\n",
        "plt.hist(length_train, bins=20, alpha=0.5, label=\"train_tweets\", color='blue', density=True)\n",
        "plt.hist(length_test, bins=20, alpha=0.5, label=\"test_tweets\", color='orange', density=True)\n",
        "plt.legend()\n",
        "plt.title(\"Tweet Length Distribution\")\n",
        "plt.xlabel(\"Tweet Length\")\n",
        "plt.ylabel(\"Density\")\n",
        "plt.show()"
      ]
    },
    {
      "cell_type": "code",
      "execution_count": null,
      "metadata": {
        "id": "Qx3RApBEKXKQ",
        "colab": {
          "base_uri": "https://localhost:8080/"
        },
        "outputId": "e9439aa9-c2ec-47cd-c578-9b8ecbb8bef4"
      },
      "outputs": [
        {
          "output_type": "execute_result",
          "data": {
            "text/plain": [
              "(49160, 4)"
            ]
          },
          "metadata": {},
          "execution_count": 200
        }
      ],
      "source": [
        "combi = pd.concat([train, test], ignore_index=True)\n",
        "combi.shape"
      ]
    },
    {
      "cell_type": "code",
      "execution_count": null,
      "metadata": {
        "id": "SGIOnWCyLTor"
      },
      "outputs": [],
      "source": [
        "def remove_pattern(input_txt, pattern):\n",
        "    r = re.findall(pattern, input_txt)\n",
        "    for i in r:\n",
        "        input_txt = re.sub(i, '', input_txt)\n",
        "    return input_txt\n"
      ]
    },
    {
      "cell_type": "markdown",
      "metadata": {
        "id": "_IjtuMdcMJeE"
      },
      "source": [
        "Convert tweets to regular strings before applying regex\n",
        "1. Removing Twitter Handles (@user)"
      ]
    },
    {
      "cell_type": "code",
      "execution_count": null,
      "metadata": {
        "id": "Sidh71A9L08z"
      },
      "outputs": [],
      "source": [
        "combi['tweet'] = combi['tweet'].astype(str)\n",
        "\n",
        "combi['tidy_tweet'] = np.vectorize(remove_pattern)(combi['tweet'], r\"@[\\w]*\")\n"
      ]
    },
    {
      "cell_type": "code",
      "execution_count": null,
      "metadata": {
        "id": "4HPs1bjDMMO8",
        "colab": {
          "base_uri": "https://localhost:8080/",
          "height": 275
        },
        "outputId": "c2a74b1e-7b67-471f-b980-eece6ce945e2"
      },
      "outputs": [
        {
          "output_type": "execute_result",
          "data": {
            "text/plain": [
              "                                                                                                                                            tweet  \\\n",
              "0                                                                                                                                           tweet   \n",
              "1                                                      #studiolife #aislife #requires #passion #dedication #willpower   to find #newmaterialsâ¦    \n",
              "2                                            @user #white #supremacists want everyone to see the new â  #birdsâ #movie â and hereâs why     \n",
              "3                                                                         safe ways to heal your #acne!!    #altwaystoheal #healthy   #healing!!    \n",
              "4  is the hp and the cursed child book up for reservations already? if yes, where? if no, when? ððð   #harrypotter #pottermore #favorite   \n",
              "\n",
              "                                                                                                                                      clean_tweet  \n",
              "0                                                                                                                                           tweet  \n",
              "1                                                      #studiolife #aislife #requires #passion #dedication #willpower   to find #newmaterials      \n",
              "2                                                  #white #supremacists want everyone to see the new      #birds    #movie     and here   s why    \n",
              "3                                                                         safe ways to heal your #acne      #altwaystoheal #healthy   #healing     \n",
              "4  is the hp and the cursed child book up for reservations already  if yes  where  if no  when                 #harrypotter #pottermore #favorite  "
            ],
            "text/html": [
              "\n",
              "  <div id=\"df-679ff7f4-a35a-45a8-974f-21fd5df01945\" class=\"colab-df-container\">\n",
              "    <div>\n",
              "<style scoped>\n",
              "    .dataframe tbody tr th:only-of-type {\n",
              "        vertical-align: middle;\n",
              "    }\n",
              "\n",
              "    .dataframe tbody tr th {\n",
              "        vertical-align: top;\n",
              "    }\n",
              "\n",
              "    .dataframe thead th {\n",
              "        text-align: right;\n",
              "    }\n",
              "</style>\n",
              "<table border=\"1\" class=\"dataframe\">\n",
              "  <thead>\n",
              "    <tr style=\"text-align: right;\">\n",
              "      <th></th>\n",
              "      <th>tweet</th>\n",
              "      <th>clean_tweet</th>\n",
              "    </tr>\n",
              "  </thead>\n",
              "  <tbody>\n",
              "    <tr>\n",
              "      <th>0</th>\n",
              "      <td>tweet</td>\n",
              "      <td>tweet</td>\n",
              "    </tr>\n",
              "    <tr>\n",
              "      <th>1</th>\n",
              "      <td>#studiolife #aislife #requires #passion #dedication #willpower   to find #newmaterialsâ¦</td>\n",
              "      <td>#studiolife #aislife #requires #passion #dedication #willpower   to find #newmaterials</td>\n",
              "    </tr>\n",
              "    <tr>\n",
              "      <th>2</th>\n",
              "      <td>@user #white #supremacists want everyone to see the new â  #birdsâ #movie â and hereâs why</td>\n",
              "      <td>#white #supremacists want everyone to see the new      #birds    #movie     and here   s why</td>\n",
              "    </tr>\n",
              "    <tr>\n",
              "      <th>3</th>\n",
              "      <td>safe ways to heal your #acne!!    #altwaystoheal #healthy   #healing!!</td>\n",
              "      <td>safe ways to heal your #acne      #altwaystoheal #healthy   #healing</td>\n",
              "    </tr>\n",
              "    <tr>\n",
              "      <th>4</th>\n",
              "      <td>is the hp and the cursed child book up for reservations already? if yes, where? if no, when? ððð   #harrypotter #pottermore #favorite</td>\n",
              "      <td>is the hp and the cursed child book up for reservations already  if yes  where  if no  when                 #harrypotter #pottermore #favorite</td>\n",
              "    </tr>\n",
              "  </tbody>\n",
              "</table>\n",
              "</div>\n",
              "    <div class=\"colab-df-buttons\">\n",
              "\n",
              "  <div class=\"colab-df-container\">\n",
              "    <button class=\"colab-df-convert\" onclick=\"convertToInteractive('df-679ff7f4-a35a-45a8-974f-21fd5df01945')\"\n",
              "            title=\"Convert this dataframe to an interactive table.\"\n",
              "            style=\"display:none;\">\n",
              "\n",
              "  <svg xmlns=\"http://www.w3.org/2000/svg\" height=\"24px\" viewBox=\"0 -960 960 960\">\n",
              "    <path d=\"M120-120v-720h720v720H120Zm60-500h600v-160H180v160Zm220 220h160v-160H400v160Zm0 220h160v-160H400v160ZM180-400h160v-160H180v160Zm440 0h160v-160H620v160ZM180-180h160v-160H180v160Zm440 0h160v-160H620v160Z\"/>\n",
              "  </svg>\n",
              "    </button>\n",
              "\n",
              "  <style>\n",
              "    .colab-df-container {\n",
              "      display:flex;\n",
              "      gap: 12px;\n",
              "    }\n",
              "\n",
              "    .colab-df-convert {\n",
              "      background-color: #E8F0FE;\n",
              "      border: none;\n",
              "      border-radius: 50%;\n",
              "      cursor: pointer;\n",
              "      display: none;\n",
              "      fill: #1967D2;\n",
              "      height: 32px;\n",
              "      padding: 0 0 0 0;\n",
              "      width: 32px;\n",
              "    }\n",
              "\n",
              "    .colab-df-convert:hover {\n",
              "      background-color: #E2EBFA;\n",
              "      box-shadow: 0px 1px 2px rgba(60, 64, 67, 0.3), 0px 1px 3px 1px rgba(60, 64, 67, 0.15);\n",
              "      fill: #174EA6;\n",
              "    }\n",
              "\n",
              "    .colab-df-buttons div {\n",
              "      margin-bottom: 4px;\n",
              "    }\n",
              "\n",
              "    [theme=dark] .colab-df-convert {\n",
              "      background-color: #3B4455;\n",
              "      fill: #D2E3FC;\n",
              "    }\n",
              "\n",
              "    [theme=dark] .colab-df-convert:hover {\n",
              "      background-color: #434B5C;\n",
              "      box-shadow: 0px 1px 3px 1px rgba(0, 0, 0, 0.15);\n",
              "      filter: drop-shadow(0px 1px 2px rgba(0, 0, 0, 0.3));\n",
              "      fill: #FFFFFF;\n",
              "    }\n",
              "  </style>\n",
              "\n",
              "    <script>\n",
              "      const buttonEl =\n",
              "        document.querySelector('#df-679ff7f4-a35a-45a8-974f-21fd5df01945 button.colab-df-convert');\n",
              "      buttonEl.style.display =\n",
              "        google.colab.kernel.accessAllowed ? 'block' : 'none';\n",
              "\n",
              "      async function convertToInteractive(key) {\n",
              "        const element = document.querySelector('#df-679ff7f4-a35a-45a8-974f-21fd5df01945');\n",
              "        const dataTable =\n",
              "          await google.colab.kernel.invokeFunction('convertToInteractive',\n",
              "                                                    [key], {});\n",
              "        if (!dataTable) return;\n",
              "\n",
              "        const docLinkHtml = 'Like what you see? Visit the ' +\n",
              "          '<a target=\"_blank\" href=https://colab.research.google.com/notebooks/data_table.ipynb>data table notebook</a>'\n",
              "          + ' to learn more about interactive tables.';\n",
              "        element.innerHTML = '';\n",
              "        dataTable['output_type'] = 'display_data';\n",
              "        await google.colab.output.renderOutput(dataTable, element);\n",
              "        const docLink = document.createElement('div');\n",
              "        docLink.innerHTML = docLinkHtml;\n",
              "        element.appendChild(docLink);\n",
              "      }\n",
              "    </script>\n",
              "  </div>\n",
              "\n",
              "\n",
              "    <div id=\"df-5bde680f-9418-45b9-b995-9ee34714f2af\">\n",
              "      <button class=\"colab-df-quickchart\" onclick=\"quickchart('df-5bde680f-9418-45b9-b995-9ee34714f2af')\"\n",
              "                title=\"Suggest charts\"\n",
              "                style=\"display:none;\">\n",
              "\n",
              "<svg xmlns=\"http://www.w3.org/2000/svg\" height=\"24px\"viewBox=\"0 0 24 24\"\n",
              "     width=\"24px\">\n",
              "    <g>\n",
              "        <path d=\"M19 3H5c-1.1 0-2 .9-2 2v14c0 1.1.9 2 2 2h14c1.1 0 2-.9 2-2V5c0-1.1-.9-2-2-2zM9 17H7v-7h2v7zm4 0h-2V7h2v10zm4 0h-2v-4h2v4z\"/>\n",
              "    </g>\n",
              "</svg>\n",
              "      </button>\n",
              "\n",
              "<style>\n",
              "  .colab-df-quickchart {\n",
              "      --bg-color: #E8F0FE;\n",
              "      --fill-color: #1967D2;\n",
              "      --hover-bg-color: #E2EBFA;\n",
              "      --hover-fill-color: #174EA6;\n",
              "      --disabled-fill-color: #AAA;\n",
              "      --disabled-bg-color: #DDD;\n",
              "  }\n",
              "\n",
              "  [theme=dark] .colab-df-quickchart {\n",
              "      --bg-color: #3B4455;\n",
              "      --fill-color: #D2E3FC;\n",
              "      --hover-bg-color: #434B5C;\n",
              "      --hover-fill-color: #FFFFFF;\n",
              "      --disabled-bg-color: #3B4455;\n",
              "      --disabled-fill-color: #666;\n",
              "  }\n",
              "\n",
              "  .colab-df-quickchart {\n",
              "    background-color: var(--bg-color);\n",
              "    border: none;\n",
              "    border-radius: 50%;\n",
              "    cursor: pointer;\n",
              "    display: none;\n",
              "    fill: var(--fill-color);\n",
              "    height: 32px;\n",
              "    padding: 0;\n",
              "    width: 32px;\n",
              "  }\n",
              "\n",
              "  .colab-df-quickchart:hover {\n",
              "    background-color: var(--hover-bg-color);\n",
              "    box-shadow: 0 1px 2px rgba(60, 64, 67, 0.3), 0 1px 3px 1px rgba(60, 64, 67, 0.15);\n",
              "    fill: var(--button-hover-fill-color);\n",
              "  }\n",
              "\n",
              "  .colab-df-quickchart-complete:disabled,\n",
              "  .colab-df-quickchart-complete:disabled:hover {\n",
              "    background-color: var(--disabled-bg-color);\n",
              "    fill: var(--disabled-fill-color);\n",
              "    box-shadow: none;\n",
              "  }\n",
              "\n",
              "  .colab-df-spinner {\n",
              "    border: 2px solid var(--fill-color);\n",
              "    border-color: transparent;\n",
              "    border-bottom-color: var(--fill-color);\n",
              "    animation:\n",
              "      spin 1s steps(1) infinite;\n",
              "  }\n",
              "\n",
              "  @keyframes spin {\n",
              "    0% {\n",
              "      border-color: transparent;\n",
              "      border-bottom-color: var(--fill-color);\n",
              "      border-left-color: var(--fill-color);\n",
              "    }\n",
              "    20% {\n",
              "      border-color: transparent;\n",
              "      border-left-color: var(--fill-color);\n",
              "      border-top-color: var(--fill-color);\n",
              "    }\n",
              "    30% {\n",
              "      border-color: transparent;\n",
              "      border-left-color: var(--fill-color);\n",
              "      border-top-color: var(--fill-color);\n",
              "      border-right-color: var(--fill-color);\n",
              "    }\n",
              "    40% {\n",
              "      border-color: transparent;\n",
              "      border-right-color: var(--fill-color);\n",
              "      border-top-color: var(--fill-color);\n",
              "    }\n",
              "    60% {\n",
              "      border-color: transparent;\n",
              "      border-right-color: var(--fill-color);\n",
              "    }\n",
              "    80% {\n",
              "      border-color: transparent;\n",
              "      border-right-color: var(--fill-color);\n",
              "      border-bottom-color: var(--fill-color);\n",
              "    }\n",
              "    90% {\n",
              "      border-color: transparent;\n",
              "      border-bottom-color: var(--fill-color);\n",
              "    }\n",
              "  }\n",
              "</style>\n",
              "\n",
              "      <script>\n",
              "        async function quickchart(key) {\n",
              "          const quickchartButtonEl =\n",
              "            document.querySelector('#' + key + ' button');\n",
              "          quickchartButtonEl.disabled = true;  // To prevent multiple clicks.\n",
              "          quickchartButtonEl.classList.add('colab-df-spinner');\n",
              "          try {\n",
              "            const charts = await google.colab.kernel.invokeFunction(\n",
              "                'suggestCharts', [key], {});\n",
              "          } catch (error) {\n",
              "            console.error('Error during call to suggestCharts:', error);\n",
              "          }\n",
              "          quickchartButtonEl.classList.remove('colab-df-spinner');\n",
              "          quickchartButtonEl.classList.add('colab-df-quickchart-complete');\n",
              "        }\n",
              "        (() => {\n",
              "          let quickchartButtonEl =\n",
              "            document.querySelector('#df-5bde680f-9418-45b9-b995-9ee34714f2af button');\n",
              "          quickchartButtonEl.style.display =\n",
              "            google.colab.kernel.accessAllowed ? 'block' : 'none';\n",
              "        })();\n",
              "      </script>\n",
              "    </div>\n",
              "\n",
              "    </div>\n",
              "  </div>\n"
            ],
            "application/vnd.google.colaboratory.intrinsic+json": {
              "type": "dataframe",
              "summary": "{\n  \"name\": \"test[['tweet', 'clean_tweet']]\",\n  \"rows\": 5,\n  \"fields\": [\n    {\n      \"column\": \"tweet\",\n      \"properties\": {\n        \"dtype\": \"string\",\n        \"num_unique_values\": 5,\n        \"samples\": [\n          \"#studiolife #aislife #requires #passion #dedication #willpower   to find #newmaterials\\u00e2\\u0080\\u00a6 \",\n          \"is the hp and the cursed child book up for reservations already? if yes, where? if no, when? \\u00f0\\u009f\\u0098\\u008d\\u00f0\\u009f\\u0098\\u008d\\u00f0\\u009f\\u0098\\u008d   #harrypotter #pottermore #favorite\",\n          \" @user #white #supremacists want everyone to see the new \\u00e2\\u0080\\u0098  #birds\\u00e2\\u0080\\u0099 #movie \\u00e2\\u0080\\u0094 and here\\u00e2\\u0080\\u0099s why  \"\n        ],\n        \"semantic_type\": \"\",\n        \"description\": \"\"\n      }\n    },\n    {\n      \"column\": \"clean_tweet\",\n      \"properties\": {\n        \"dtype\": \"string\",\n        \"num_unique_values\": 5,\n        \"samples\": [\n          \"#studiolife #aislife #requires #passion #dedication #willpower   to find #newmaterials    \",\n          \"is the hp and the cursed child book up for reservations already  if yes  where  if no  when                 #harrypotter #pottermore #favorite\",\n          \"  #white #supremacists want everyone to see the new      #birds    #movie     and here   s why  \"\n        ],\n        \"semantic_type\": \"\",\n        \"description\": \"\"\n      }\n    }\n  ]\n}"
            }
          },
          "metadata": {},
          "execution_count": 203
        }
      ],
      "source": [
        "import pandas as pd\n",
        "import numpy as np\n",
        "import re\n",
        "\n",
        "test = pd.read_csv(\"/content/drive/MyDrive/SentimentAnalysis/test_tweets_anuFYb8.csv\", encoding='utf-8', header=None)\n",
        "test.columns = ['id', 'tweet']\n",
        "\n",
        "\n",
        "# Make sure tweet column is string\n",
        "test['tweet'] = test['tweet'].astype(str)\n",
        "\n",
        "# 1. Remove Twitter handles (@user)\n",
        "def remove_pattern(input_txt, pattern):\n",
        "    r = re.findall(pattern, input_txt)\n",
        "    for i in r:\n",
        "        input_txt = re.sub(i, '', input_txt)\n",
        "    return input_txt\n",
        "\n",
        "test['clean_tweet'] = np.vectorize(remove_pattern)(test['tweet'], r\"@[\\w]*\")\n",
        "\n",
        "# 2. Remove special characters, numbers, punctuation (keep hashtags and words)\n",
        "test['clean_tweet'] = test['clean_tweet'].str.replace(\"[^a-zA-Z#]\", \" \", regex=True)\n",
        "\n",
        "# 3. Optional: Convert to lowercase\n",
        "test['clean_tweet'] = test['clean_tweet'].str.lower()\n",
        "\n",
        "# View result\n",
        "test[['tweet', 'clean_tweet']].head()\n"
      ]
    },
    {
      "cell_type": "markdown",
      "metadata": {
        "id": "wUvZJTPxWm-G"
      },
      "source": [
        "Removed @user mentions\n",
        "\n",
        "Removed special characters\n",
        "\n",
        "Lowercased the tweets"
      ]
    },
    {
      "cell_type": "markdown",
      "metadata": {
        "id": "1cA4lws-Wuzs"
      },
      "source": [
        "Now your cleaned data is ready for further processing like:\n",
        "\n",
        "Tokenization\n",
        "\n",
        "Removing stopwords\n",
        "\n",
        "Vectorization (TF-IDF or CountVectorizer)\n",
        "\n",
        "Modeling (classification, clustering, etc.)\n",
        "\n",
        "🔍 Example Output You Should See\n",
        "tweet\tclean_tweet\n",
        "@user This is amazing!! 😍 #love\tthis is amazing love\n",
        "Happy birthday @john123!!\thappy birthday\n",
        "\n"
      ]
    },
    {
      "cell_type": "markdown",
      "metadata": {
        "id": "tE8vEKmeXSqQ"
      },
      "source": [
        "2. Removing Punctuations, Numbers, and Special Characters\n",
        "Here we will replace everything except characters and hashtags with spaces. The regular expression \"[^a-zA-Z#]\" means anything except alphabets and '#'."
      ]
    },
    {
      "cell_type": "code",
      "execution_count": null,
      "metadata": {
        "id": "y1puGg5NXAhB",
        "colab": {
          "base_uri": "https://localhost:8080/",
          "height": 414
        },
        "outputId": "ac823ac8-2210-43f2-ce4e-7a516117aaf1"
      },
      "outputs": [
        {
          "output_type": "execute_result",
          "data": {
            "text/plain": [
              "                                                                                                                                              tweet_id  \\\n",
              "0                                                                                                                                       id,label,tweet   \n",
              "1                                           1,0, @user when a father is dysfunctional and is so selfish he drags his kids into his dysfunction.   #run   \n",
              "2                       2,0,@user @user thanks for #lyft credit i can't use cause they don't offer wheelchair vans in pdx.    #disapointed #getthanked   \n",
              "3                                                                                                                            3,0,  bihday your majesty   \n",
              "4                                                           4,0,#model   i love u take with u all the time in urð±!!! ðððð\n",
              "ð¦ð¦ð¦     \n",
              "5                                                                                                          5,0, factsguide: society now    #motivation   \n",
              "6                             6,0,[2/2] huge fan fare and big talking before they leave. chaos and pay disputes when they get there. #allshowandnogo     \n",
              "7                                                                       7,0, @user camping tomorrow @user @user @user @user @user @user @user dannyâ¦   \n",
              "8  8,0,the next school year is the year for exams.ð¯ can't think about that ð­ #school #exams   #hate #imagine #actorslife #revolutionschool #girl   \n",
              "9                                                          9,0,we won!!! love the land!!! #allin #cavs #champions #cleveland #clevelandcavaliers  â¦    \n",
              "\n",
              "   label tweet  id tidy_tweet  \n",
              "0    NaN   nan NaN        nan  \n",
              "1    NaN   nan NaN        nan  \n",
              "2    NaN   nan NaN        nan  \n",
              "3    NaN   nan NaN        nan  \n",
              "4    NaN   nan NaN        nan  \n",
              "5    NaN   nan NaN        nan  \n",
              "6    NaN   nan NaN        nan  \n",
              "7    NaN   nan NaN        nan  \n",
              "8    NaN   nan NaN        nan  \n",
              "9    NaN   nan NaN        nan  "
            ],
            "text/html": [
              "\n",
              "  <div id=\"df-247e7579-c8b0-47e1-bf62-709981dc678d\" class=\"colab-df-container\">\n",
              "    <div>\n",
              "<style scoped>\n",
              "    .dataframe tbody tr th:only-of-type {\n",
              "        vertical-align: middle;\n",
              "    }\n",
              "\n",
              "    .dataframe tbody tr th {\n",
              "        vertical-align: top;\n",
              "    }\n",
              "\n",
              "    .dataframe thead th {\n",
              "        text-align: right;\n",
              "    }\n",
              "</style>\n",
              "<table border=\"1\" class=\"dataframe\">\n",
              "  <thead>\n",
              "    <tr style=\"text-align: right;\">\n",
              "      <th></th>\n",
              "      <th>tweet_id</th>\n",
              "      <th>label</th>\n",
              "      <th>tweet</th>\n",
              "      <th>id</th>\n",
              "      <th>tidy_tweet</th>\n",
              "    </tr>\n",
              "  </thead>\n",
              "  <tbody>\n",
              "    <tr>\n",
              "      <th>0</th>\n",
              "      <td>id,label,tweet</td>\n",
              "      <td>NaN</td>\n",
              "      <td>nan</td>\n",
              "      <td>NaN</td>\n",
              "      <td>nan</td>\n",
              "    </tr>\n",
              "    <tr>\n",
              "      <th>1</th>\n",
              "      <td>1,0, @user when a father is dysfunctional and is so selfish he drags his kids into his dysfunction.   #run</td>\n",
              "      <td>NaN</td>\n",
              "      <td>nan</td>\n",
              "      <td>NaN</td>\n",
              "      <td>nan</td>\n",
              "    </tr>\n",
              "    <tr>\n",
              "      <th>2</th>\n",
              "      <td>2,0,@user @user thanks for #lyft credit i can't use cause they don't offer wheelchair vans in pdx.    #disapointed #getthanked</td>\n",
              "      <td>NaN</td>\n",
              "      <td>nan</td>\n",
              "      <td>NaN</td>\n",
              "      <td>nan</td>\n",
              "    </tr>\n",
              "    <tr>\n",
              "      <th>3</th>\n",
              "      <td>3,0,  bihday your majesty</td>\n",
              "      <td>NaN</td>\n",
              "      <td>nan</td>\n",
              "      <td>NaN</td>\n",
              "      <td>nan</td>\n",
              "    </tr>\n",
              "    <tr>\n",
              "      <th>4</th>\n",
              "      <td>4,0,#model   i love u take with u all the time in urð±!!! ððððð¦ð¦ð¦</td>\n",
              "      <td>NaN</td>\n",
              "      <td>nan</td>\n",
              "      <td>NaN</td>\n",
              "      <td>nan</td>\n",
              "    </tr>\n",
              "    <tr>\n",
              "      <th>5</th>\n",
              "      <td>5,0, factsguide: society now    #motivation</td>\n",
              "      <td>NaN</td>\n",
              "      <td>nan</td>\n",
              "      <td>NaN</td>\n",
              "      <td>nan</td>\n",
              "    </tr>\n",
              "    <tr>\n",
              "      <th>6</th>\n",
              "      <td>6,0,[2/2] huge fan fare and big talking before they leave. chaos and pay disputes when they get there. #allshowandnogo</td>\n",
              "      <td>NaN</td>\n",
              "      <td>nan</td>\n",
              "      <td>NaN</td>\n",
              "      <td>nan</td>\n",
              "    </tr>\n",
              "    <tr>\n",
              "      <th>7</th>\n",
              "      <td>7,0, @user camping tomorrow @user @user @user @user @user @user @user dannyâ¦</td>\n",
              "      <td>NaN</td>\n",
              "      <td>nan</td>\n",
              "      <td>NaN</td>\n",
              "      <td>nan</td>\n",
              "    </tr>\n",
              "    <tr>\n",
              "      <th>8</th>\n",
              "      <td>8,0,the next school year is the year for exams.ð¯ can't think about that ð­ #school #exams   #hate #imagine #actorslife #revolutionschool #girl</td>\n",
              "      <td>NaN</td>\n",
              "      <td>nan</td>\n",
              "      <td>NaN</td>\n",
              "      <td>nan</td>\n",
              "    </tr>\n",
              "    <tr>\n",
              "      <th>9</th>\n",
              "      <td>9,0,we won!!! love the land!!! #allin #cavs #champions #cleveland #clevelandcavaliers  â¦</td>\n",
              "      <td>NaN</td>\n",
              "      <td>nan</td>\n",
              "      <td>NaN</td>\n",
              "      <td>nan</td>\n",
              "    </tr>\n",
              "  </tbody>\n",
              "</table>\n",
              "</div>\n",
              "    <div class=\"colab-df-buttons\">\n",
              "\n",
              "  <div class=\"colab-df-container\">\n",
              "    <button class=\"colab-df-convert\" onclick=\"convertToInteractive('df-247e7579-c8b0-47e1-bf62-709981dc678d')\"\n",
              "            title=\"Convert this dataframe to an interactive table.\"\n",
              "            style=\"display:none;\">\n",
              "\n",
              "  <svg xmlns=\"http://www.w3.org/2000/svg\" height=\"24px\" viewBox=\"0 -960 960 960\">\n",
              "    <path d=\"M120-120v-720h720v720H120Zm60-500h600v-160H180v160Zm220 220h160v-160H400v160Zm0 220h160v-160H400v160ZM180-400h160v-160H180v160Zm440 0h160v-160H620v160ZM180-180h160v-160H180v160Zm440 0h160v-160H620v160Z\"/>\n",
              "  </svg>\n",
              "    </button>\n",
              "\n",
              "  <style>\n",
              "    .colab-df-container {\n",
              "      display:flex;\n",
              "      gap: 12px;\n",
              "    }\n",
              "\n",
              "    .colab-df-convert {\n",
              "      background-color: #E8F0FE;\n",
              "      border: none;\n",
              "      border-radius: 50%;\n",
              "      cursor: pointer;\n",
              "      display: none;\n",
              "      fill: #1967D2;\n",
              "      height: 32px;\n",
              "      padding: 0 0 0 0;\n",
              "      width: 32px;\n",
              "    }\n",
              "\n",
              "    .colab-df-convert:hover {\n",
              "      background-color: #E2EBFA;\n",
              "      box-shadow: 0px 1px 2px rgba(60, 64, 67, 0.3), 0px 1px 3px 1px rgba(60, 64, 67, 0.15);\n",
              "      fill: #174EA6;\n",
              "    }\n",
              "\n",
              "    .colab-df-buttons div {\n",
              "      margin-bottom: 4px;\n",
              "    }\n",
              "\n",
              "    [theme=dark] .colab-df-convert {\n",
              "      background-color: #3B4455;\n",
              "      fill: #D2E3FC;\n",
              "    }\n",
              "\n",
              "    [theme=dark] .colab-df-convert:hover {\n",
              "      background-color: #434B5C;\n",
              "      box-shadow: 0px 1px 3px 1px rgba(0, 0, 0, 0.15);\n",
              "      filter: drop-shadow(0px 1px 2px rgba(0, 0, 0, 0.3));\n",
              "      fill: #FFFFFF;\n",
              "    }\n",
              "  </style>\n",
              "\n",
              "    <script>\n",
              "      const buttonEl =\n",
              "        document.querySelector('#df-247e7579-c8b0-47e1-bf62-709981dc678d button.colab-df-convert');\n",
              "      buttonEl.style.display =\n",
              "        google.colab.kernel.accessAllowed ? 'block' : 'none';\n",
              "\n",
              "      async function convertToInteractive(key) {\n",
              "        const element = document.querySelector('#df-247e7579-c8b0-47e1-bf62-709981dc678d');\n",
              "        const dataTable =\n",
              "          await google.colab.kernel.invokeFunction('convertToInteractive',\n",
              "                                                    [key], {});\n",
              "        if (!dataTable) return;\n",
              "\n",
              "        const docLinkHtml = 'Like what you see? Visit the ' +\n",
              "          '<a target=\"_blank\" href=https://colab.research.google.com/notebooks/data_table.ipynb>data table notebook</a>'\n",
              "          + ' to learn more about interactive tables.';\n",
              "        element.innerHTML = '';\n",
              "        dataTable['output_type'] = 'display_data';\n",
              "        await google.colab.output.renderOutput(dataTable, element);\n",
              "        const docLink = document.createElement('div');\n",
              "        docLink.innerHTML = docLinkHtml;\n",
              "        element.appendChild(docLink);\n",
              "      }\n",
              "    </script>\n",
              "  </div>\n",
              "\n",
              "\n",
              "    <div id=\"df-5a05fe7d-1158-4758-8e4c-d5518998c25a\">\n",
              "      <button class=\"colab-df-quickchart\" onclick=\"quickchart('df-5a05fe7d-1158-4758-8e4c-d5518998c25a')\"\n",
              "                title=\"Suggest charts\"\n",
              "                style=\"display:none;\">\n",
              "\n",
              "<svg xmlns=\"http://www.w3.org/2000/svg\" height=\"24px\"viewBox=\"0 0 24 24\"\n",
              "     width=\"24px\">\n",
              "    <g>\n",
              "        <path d=\"M19 3H5c-1.1 0-2 .9-2 2v14c0 1.1.9 2 2 2h14c1.1 0 2-.9 2-2V5c0-1.1-.9-2-2-2zM9 17H7v-7h2v7zm4 0h-2V7h2v10zm4 0h-2v-4h2v4z\"/>\n",
              "    </g>\n",
              "</svg>\n",
              "      </button>\n",
              "\n",
              "<style>\n",
              "  .colab-df-quickchart {\n",
              "      --bg-color: #E8F0FE;\n",
              "      --fill-color: #1967D2;\n",
              "      --hover-bg-color: #E2EBFA;\n",
              "      --hover-fill-color: #174EA6;\n",
              "      --disabled-fill-color: #AAA;\n",
              "      --disabled-bg-color: #DDD;\n",
              "  }\n",
              "\n",
              "  [theme=dark] .colab-df-quickchart {\n",
              "      --bg-color: #3B4455;\n",
              "      --fill-color: #D2E3FC;\n",
              "      --hover-bg-color: #434B5C;\n",
              "      --hover-fill-color: #FFFFFF;\n",
              "      --disabled-bg-color: #3B4455;\n",
              "      --disabled-fill-color: #666;\n",
              "  }\n",
              "\n",
              "  .colab-df-quickchart {\n",
              "    background-color: var(--bg-color);\n",
              "    border: none;\n",
              "    border-radius: 50%;\n",
              "    cursor: pointer;\n",
              "    display: none;\n",
              "    fill: var(--fill-color);\n",
              "    height: 32px;\n",
              "    padding: 0;\n",
              "    width: 32px;\n",
              "  }\n",
              "\n",
              "  .colab-df-quickchart:hover {\n",
              "    background-color: var(--hover-bg-color);\n",
              "    box-shadow: 0 1px 2px rgba(60, 64, 67, 0.3), 0 1px 3px 1px rgba(60, 64, 67, 0.15);\n",
              "    fill: var(--button-hover-fill-color);\n",
              "  }\n",
              "\n",
              "  .colab-df-quickchart-complete:disabled,\n",
              "  .colab-df-quickchart-complete:disabled:hover {\n",
              "    background-color: var(--disabled-bg-color);\n",
              "    fill: var(--disabled-fill-color);\n",
              "    box-shadow: none;\n",
              "  }\n",
              "\n",
              "  .colab-df-spinner {\n",
              "    border: 2px solid var(--fill-color);\n",
              "    border-color: transparent;\n",
              "    border-bottom-color: var(--fill-color);\n",
              "    animation:\n",
              "      spin 1s steps(1) infinite;\n",
              "  }\n",
              "\n",
              "  @keyframes spin {\n",
              "    0% {\n",
              "      border-color: transparent;\n",
              "      border-bottom-color: var(--fill-color);\n",
              "      border-left-color: var(--fill-color);\n",
              "    }\n",
              "    20% {\n",
              "      border-color: transparent;\n",
              "      border-left-color: var(--fill-color);\n",
              "      border-top-color: var(--fill-color);\n",
              "    }\n",
              "    30% {\n",
              "      border-color: transparent;\n",
              "      border-left-color: var(--fill-color);\n",
              "      border-top-color: var(--fill-color);\n",
              "      border-right-color: var(--fill-color);\n",
              "    }\n",
              "    40% {\n",
              "      border-color: transparent;\n",
              "      border-right-color: var(--fill-color);\n",
              "      border-top-color: var(--fill-color);\n",
              "    }\n",
              "    60% {\n",
              "      border-color: transparent;\n",
              "      border-right-color: var(--fill-color);\n",
              "    }\n",
              "    80% {\n",
              "      border-color: transparent;\n",
              "      border-right-color: var(--fill-color);\n",
              "      border-bottom-color: var(--fill-color);\n",
              "    }\n",
              "    90% {\n",
              "      border-color: transparent;\n",
              "      border-bottom-color: var(--fill-color);\n",
              "    }\n",
              "  }\n",
              "</style>\n",
              "\n",
              "      <script>\n",
              "        async function quickchart(key) {\n",
              "          const quickchartButtonEl =\n",
              "            document.querySelector('#' + key + ' button');\n",
              "          quickchartButtonEl.disabled = true;  // To prevent multiple clicks.\n",
              "          quickchartButtonEl.classList.add('colab-df-spinner');\n",
              "          try {\n",
              "            const charts = await google.colab.kernel.invokeFunction(\n",
              "                'suggestCharts', [key], {});\n",
              "          } catch (error) {\n",
              "            console.error('Error during call to suggestCharts:', error);\n",
              "          }\n",
              "          quickchartButtonEl.classList.remove('colab-df-spinner');\n",
              "          quickchartButtonEl.classList.add('colab-df-quickchart-complete');\n",
              "        }\n",
              "        (() => {\n",
              "          let quickchartButtonEl =\n",
              "            document.querySelector('#df-5a05fe7d-1158-4758-8e4c-d5518998c25a button');\n",
              "          quickchartButtonEl.style.display =\n",
              "            google.colab.kernel.accessAllowed ? 'block' : 'none';\n",
              "        })();\n",
              "      </script>\n",
              "    </div>\n",
              "\n",
              "    </div>\n",
              "  </div>\n"
            ],
            "application/vnd.google.colaboratory.intrinsic+json": {
              "type": "dataframe",
              "variable_name": "combi",
              "summary": "{\n  \"name\": \"combi\",\n  \"rows\": 49160,\n  \"fields\": [\n    {\n      \"column\": \"tweet_id\",\n      \"properties\": {\n        \"dtype\": \"string\",\n        \"num_unique_values\": 31963,\n        \"samples\": [\n          \"12227,0,\\\"@user \\u00f0\\u009f\\u0098\\u008fpathetic, selfish &amp; disrespectful. yet today's kids think this is cool  !  \\\"\",\n          \"14711,0, @user @user just few hours left your bihday..  #hbddave\",\n          \"19320,0,hating the conservative homophobes using this tragedy as a way of spouting anti-islam trash. not in my name you bastards!!   #orlando\"\n        ],\n        \"semantic_type\": \"\",\n        \"description\": \"\"\n      }\n    },\n    {\n      \"column\": \"label\",\n      \"properties\": {\n        \"dtype\": \"number\",\n        \"std\": null,\n        \"min\": null,\n        \"max\": null,\n        \"num_unique_values\": 0,\n        \"samples\": [],\n        \"semantic_type\": \"\",\n        \"description\": \"\"\n      }\n    },\n    {\n      \"column\": \"tweet\",\n      \"properties\": {\n        \"dtype\": \"category\",\n        \"num_unique_values\": 16131,\n        \"samples\": [],\n        \"semantic_type\": \"\",\n        \"description\": \"\"\n      }\n    },\n    {\n      \"column\": \"id\",\n      \"properties\": {\n        \"dtype\": \"number\",\n        \"std\": 4964.49062509606,\n        \"min\": 31963.0,\n        \"max\": 49159.0,\n        \"num_unique_values\": 17197,\n        \"samples\": [],\n        \"semantic_type\": \"\",\n        \"description\": \"\"\n      }\n    },\n    {\n      \"column\": \"tidy_tweet\",\n      \"properties\": {\n        \"dtype\": \"category\",\n        \"num_unique_values\": 16130,\n        \"samples\": [],\n        \"semantic_type\": \"\",\n        \"description\": \"\"\n      }\n    }\n  ]\n}"
            }
          },
          "metadata": {},
          "execution_count": 204
        }
      ],
      "source": [
        "combi['tidy_tweet'] = combi['tidy_tweet'].str.replace(\"[^a-zA-Z#]\", \"\")\n",
        "combi.head(10)"
      ]
    },
    {
      "cell_type": "markdown",
      "metadata": {
        "id": "DtUd3kZtXkJV"
      },
      "source": [
        "3. Removing Short Words\n",
        "We have to be a little careful here in selecting the length of the words which we want to remove. So, I have decided to remove all the words having length 3 or less. For example, terms like \"hmm\", \"oh\" are of very little use. It is better to get rid of them.\n",
        "combi['tidy_tweet'] = combi['tidy_tweet').apply(lambda x: in x.split() if len(w)>3])) '.join([w for w\n",
        "Let's take another look at the first few rows of the combined dataframe.\n",
        "combi.head()"
      ]
    },
    {
      "cell_type": "code",
      "execution_count": null,
      "metadata": {
        "id": "ajAtdQuQXiGa"
      },
      "outputs": [],
      "source": [
        "combi['tidy_tweet'] = combi ['tidy_tweet'].apply(lambda x: '' .join([w for w in x.split() if len(w)>3]))"
      ]
    },
    {
      "cell_type": "code",
      "execution_count": null,
      "metadata": {
        "id": "uvhvDESnX3AY",
        "colab": {
          "base_uri": "https://localhost:8080/",
          "height": 223
        },
        "outputId": "26636dca-27ce-4f5f-a4e8-cbfc5edd4ee5"
      },
      "outputs": [
        {
          "output_type": "execute_result",
          "data": {
            "text/plain": [
              "                                                                                                                         tweet_id  \\\n",
              "0                                                                                                                  id,label,tweet   \n",
              "1                      1,0, @user when a father is dysfunctional and is so selfish he drags his kids into his dysfunction.   #run   \n",
              "2  2,0,@user @user thanks for #lyft credit i can't use cause they don't offer wheelchair vans in pdx.    #disapointed #getthanked   \n",
              "3                                                                                                       3,0,  bihday your majesty   \n",
              "4                                      4,0,#model   i love u take with u all the time in urð±!!! ðððð\n",
              "ð¦ð¦ð¦     \n",
              "\n",
              "   label tweet  id tidy_tweet  \n",
              "0    NaN   nan NaN             \n",
              "1    NaN   nan NaN             \n",
              "2    NaN   nan NaN             \n",
              "3    NaN   nan NaN             \n",
              "4    NaN   nan NaN             "
            ],
            "text/html": [
              "\n",
              "  <div id=\"df-438051e8-ba62-41f2-99e5-a4615b26e4db\" class=\"colab-df-container\">\n",
              "    <div>\n",
              "<style scoped>\n",
              "    .dataframe tbody tr th:only-of-type {\n",
              "        vertical-align: middle;\n",
              "    }\n",
              "\n",
              "    .dataframe tbody tr th {\n",
              "        vertical-align: top;\n",
              "    }\n",
              "\n",
              "    .dataframe thead th {\n",
              "        text-align: right;\n",
              "    }\n",
              "</style>\n",
              "<table border=\"1\" class=\"dataframe\">\n",
              "  <thead>\n",
              "    <tr style=\"text-align: right;\">\n",
              "      <th></th>\n",
              "      <th>tweet_id</th>\n",
              "      <th>label</th>\n",
              "      <th>tweet</th>\n",
              "      <th>id</th>\n",
              "      <th>tidy_tweet</th>\n",
              "    </tr>\n",
              "  </thead>\n",
              "  <tbody>\n",
              "    <tr>\n",
              "      <th>0</th>\n",
              "      <td>id,label,tweet</td>\n",
              "      <td>NaN</td>\n",
              "      <td>nan</td>\n",
              "      <td>NaN</td>\n",
              "      <td></td>\n",
              "    </tr>\n",
              "    <tr>\n",
              "      <th>1</th>\n",
              "      <td>1,0, @user when a father is dysfunctional and is so selfish he drags his kids into his dysfunction.   #run</td>\n",
              "      <td>NaN</td>\n",
              "      <td>nan</td>\n",
              "      <td>NaN</td>\n",
              "      <td></td>\n",
              "    </tr>\n",
              "    <tr>\n",
              "      <th>2</th>\n",
              "      <td>2,0,@user @user thanks for #lyft credit i can't use cause they don't offer wheelchair vans in pdx.    #disapointed #getthanked</td>\n",
              "      <td>NaN</td>\n",
              "      <td>nan</td>\n",
              "      <td>NaN</td>\n",
              "      <td></td>\n",
              "    </tr>\n",
              "    <tr>\n",
              "      <th>3</th>\n",
              "      <td>3,0,  bihday your majesty</td>\n",
              "      <td>NaN</td>\n",
              "      <td>nan</td>\n",
              "      <td>NaN</td>\n",
              "      <td></td>\n",
              "    </tr>\n",
              "    <tr>\n",
              "      <th>4</th>\n",
              "      <td>4,0,#model   i love u take with u all the time in urð±!!! ððððð¦ð¦ð¦</td>\n",
              "      <td>NaN</td>\n",
              "      <td>nan</td>\n",
              "      <td>NaN</td>\n",
              "      <td></td>\n",
              "    </tr>\n",
              "  </tbody>\n",
              "</table>\n",
              "</div>\n",
              "    <div class=\"colab-df-buttons\">\n",
              "\n",
              "  <div class=\"colab-df-container\">\n",
              "    <button class=\"colab-df-convert\" onclick=\"convertToInteractive('df-438051e8-ba62-41f2-99e5-a4615b26e4db')\"\n",
              "            title=\"Convert this dataframe to an interactive table.\"\n",
              "            style=\"display:none;\">\n",
              "\n",
              "  <svg xmlns=\"http://www.w3.org/2000/svg\" height=\"24px\" viewBox=\"0 -960 960 960\">\n",
              "    <path d=\"M120-120v-720h720v720H120Zm60-500h600v-160H180v160Zm220 220h160v-160H400v160Zm0 220h160v-160H400v160ZM180-400h160v-160H180v160Zm440 0h160v-160H620v160ZM180-180h160v-160H180v160Zm440 0h160v-160H620v160Z\"/>\n",
              "  </svg>\n",
              "    </button>\n",
              "\n",
              "  <style>\n",
              "    .colab-df-container {\n",
              "      display:flex;\n",
              "      gap: 12px;\n",
              "    }\n",
              "\n",
              "    .colab-df-convert {\n",
              "      background-color: #E8F0FE;\n",
              "      border: none;\n",
              "      border-radius: 50%;\n",
              "      cursor: pointer;\n",
              "      display: none;\n",
              "      fill: #1967D2;\n",
              "      height: 32px;\n",
              "      padding: 0 0 0 0;\n",
              "      width: 32px;\n",
              "    }\n",
              "\n",
              "    .colab-df-convert:hover {\n",
              "      background-color: #E2EBFA;\n",
              "      box-shadow: 0px 1px 2px rgba(60, 64, 67, 0.3), 0px 1px 3px 1px rgba(60, 64, 67, 0.15);\n",
              "      fill: #174EA6;\n",
              "    }\n",
              "\n",
              "    .colab-df-buttons div {\n",
              "      margin-bottom: 4px;\n",
              "    }\n",
              "\n",
              "    [theme=dark] .colab-df-convert {\n",
              "      background-color: #3B4455;\n",
              "      fill: #D2E3FC;\n",
              "    }\n",
              "\n",
              "    [theme=dark] .colab-df-convert:hover {\n",
              "      background-color: #434B5C;\n",
              "      box-shadow: 0px 1px 3px 1px rgba(0, 0, 0, 0.15);\n",
              "      filter: drop-shadow(0px 1px 2px rgba(0, 0, 0, 0.3));\n",
              "      fill: #FFFFFF;\n",
              "    }\n",
              "  </style>\n",
              "\n",
              "    <script>\n",
              "      const buttonEl =\n",
              "        document.querySelector('#df-438051e8-ba62-41f2-99e5-a4615b26e4db button.colab-df-convert');\n",
              "      buttonEl.style.display =\n",
              "        google.colab.kernel.accessAllowed ? 'block' : 'none';\n",
              "\n",
              "      async function convertToInteractive(key) {\n",
              "        const element = document.querySelector('#df-438051e8-ba62-41f2-99e5-a4615b26e4db');\n",
              "        const dataTable =\n",
              "          await google.colab.kernel.invokeFunction('convertToInteractive',\n",
              "                                                    [key], {});\n",
              "        if (!dataTable) return;\n",
              "\n",
              "        const docLinkHtml = 'Like what you see? Visit the ' +\n",
              "          '<a target=\"_blank\" href=https://colab.research.google.com/notebooks/data_table.ipynb>data table notebook</a>'\n",
              "          + ' to learn more about interactive tables.';\n",
              "        element.innerHTML = '';\n",
              "        dataTable['output_type'] = 'display_data';\n",
              "        await google.colab.output.renderOutput(dataTable, element);\n",
              "        const docLink = document.createElement('div');\n",
              "        docLink.innerHTML = docLinkHtml;\n",
              "        element.appendChild(docLink);\n",
              "      }\n",
              "    </script>\n",
              "  </div>\n",
              "\n",
              "\n",
              "    <div id=\"df-69ab4925-3025-41a5-ab00-df1880d869ad\">\n",
              "      <button class=\"colab-df-quickchart\" onclick=\"quickchart('df-69ab4925-3025-41a5-ab00-df1880d869ad')\"\n",
              "                title=\"Suggest charts\"\n",
              "                style=\"display:none;\">\n",
              "\n",
              "<svg xmlns=\"http://www.w3.org/2000/svg\" height=\"24px\"viewBox=\"0 0 24 24\"\n",
              "     width=\"24px\">\n",
              "    <g>\n",
              "        <path d=\"M19 3H5c-1.1 0-2 .9-2 2v14c0 1.1.9 2 2 2h14c1.1 0 2-.9 2-2V5c0-1.1-.9-2-2-2zM9 17H7v-7h2v7zm4 0h-2V7h2v10zm4 0h-2v-4h2v4z\"/>\n",
              "    </g>\n",
              "</svg>\n",
              "      </button>\n",
              "\n",
              "<style>\n",
              "  .colab-df-quickchart {\n",
              "      --bg-color: #E8F0FE;\n",
              "      --fill-color: #1967D2;\n",
              "      --hover-bg-color: #E2EBFA;\n",
              "      --hover-fill-color: #174EA6;\n",
              "      --disabled-fill-color: #AAA;\n",
              "      --disabled-bg-color: #DDD;\n",
              "  }\n",
              "\n",
              "  [theme=dark] .colab-df-quickchart {\n",
              "      --bg-color: #3B4455;\n",
              "      --fill-color: #D2E3FC;\n",
              "      --hover-bg-color: #434B5C;\n",
              "      --hover-fill-color: #FFFFFF;\n",
              "      --disabled-bg-color: #3B4455;\n",
              "      --disabled-fill-color: #666;\n",
              "  }\n",
              "\n",
              "  .colab-df-quickchart {\n",
              "    background-color: var(--bg-color);\n",
              "    border: none;\n",
              "    border-radius: 50%;\n",
              "    cursor: pointer;\n",
              "    display: none;\n",
              "    fill: var(--fill-color);\n",
              "    height: 32px;\n",
              "    padding: 0;\n",
              "    width: 32px;\n",
              "  }\n",
              "\n",
              "  .colab-df-quickchart:hover {\n",
              "    background-color: var(--hover-bg-color);\n",
              "    box-shadow: 0 1px 2px rgba(60, 64, 67, 0.3), 0 1px 3px 1px rgba(60, 64, 67, 0.15);\n",
              "    fill: var(--button-hover-fill-color);\n",
              "  }\n",
              "\n",
              "  .colab-df-quickchart-complete:disabled,\n",
              "  .colab-df-quickchart-complete:disabled:hover {\n",
              "    background-color: var(--disabled-bg-color);\n",
              "    fill: var(--disabled-fill-color);\n",
              "    box-shadow: none;\n",
              "  }\n",
              "\n",
              "  .colab-df-spinner {\n",
              "    border: 2px solid var(--fill-color);\n",
              "    border-color: transparent;\n",
              "    border-bottom-color: var(--fill-color);\n",
              "    animation:\n",
              "      spin 1s steps(1) infinite;\n",
              "  }\n",
              "\n",
              "  @keyframes spin {\n",
              "    0% {\n",
              "      border-color: transparent;\n",
              "      border-bottom-color: var(--fill-color);\n",
              "      border-left-color: var(--fill-color);\n",
              "    }\n",
              "    20% {\n",
              "      border-color: transparent;\n",
              "      border-left-color: var(--fill-color);\n",
              "      border-top-color: var(--fill-color);\n",
              "    }\n",
              "    30% {\n",
              "      border-color: transparent;\n",
              "      border-left-color: var(--fill-color);\n",
              "      border-top-color: var(--fill-color);\n",
              "      border-right-color: var(--fill-color);\n",
              "    }\n",
              "    40% {\n",
              "      border-color: transparent;\n",
              "      border-right-color: var(--fill-color);\n",
              "      border-top-color: var(--fill-color);\n",
              "    }\n",
              "    60% {\n",
              "      border-color: transparent;\n",
              "      border-right-color: var(--fill-color);\n",
              "    }\n",
              "    80% {\n",
              "      border-color: transparent;\n",
              "      border-right-color: var(--fill-color);\n",
              "      border-bottom-color: var(--fill-color);\n",
              "    }\n",
              "    90% {\n",
              "      border-color: transparent;\n",
              "      border-bottom-color: var(--fill-color);\n",
              "    }\n",
              "  }\n",
              "</style>\n",
              "\n",
              "      <script>\n",
              "        async function quickchart(key) {\n",
              "          const quickchartButtonEl =\n",
              "            document.querySelector('#' + key + ' button');\n",
              "          quickchartButtonEl.disabled = true;  // To prevent multiple clicks.\n",
              "          quickchartButtonEl.classList.add('colab-df-spinner');\n",
              "          try {\n",
              "            const charts = await google.colab.kernel.invokeFunction(\n",
              "                'suggestCharts', [key], {});\n",
              "          } catch (error) {\n",
              "            console.error('Error during call to suggestCharts:', error);\n",
              "          }\n",
              "          quickchartButtonEl.classList.remove('colab-df-spinner');\n",
              "          quickchartButtonEl.classList.add('colab-df-quickchart-complete');\n",
              "        }\n",
              "        (() => {\n",
              "          let quickchartButtonEl =\n",
              "            document.querySelector('#df-69ab4925-3025-41a5-ab00-df1880d869ad button');\n",
              "          quickchartButtonEl.style.display =\n",
              "            google.colab.kernel.accessAllowed ? 'block' : 'none';\n",
              "        })();\n",
              "      </script>\n",
              "    </div>\n",
              "\n",
              "    </div>\n",
              "  </div>\n"
            ],
            "application/vnd.google.colaboratory.intrinsic+json": {
              "type": "dataframe",
              "variable_name": "combi",
              "summary": "{\n  \"name\": \"combi\",\n  \"rows\": 49160,\n  \"fields\": [\n    {\n      \"column\": \"tweet_id\",\n      \"properties\": {\n        \"dtype\": \"string\",\n        \"num_unique_values\": 31963,\n        \"samples\": [\n          \"12227,0,\\\"@user \\u00f0\\u009f\\u0098\\u008fpathetic, selfish &amp; disrespectful. yet today's kids think this is cool  !  \\\"\",\n          \"14711,0, @user @user just few hours left your bihday..  #hbddave\",\n          \"19320,0,hating the conservative homophobes using this tragedy as a way of spouting anti-islam trash. not in my name you bastards!!   #orlando\"\n        ],\n        \"semantic_type\": \"\",\n        \"description\": \"\"\n      }\n    },\n    {\n      \"column\": \"label\",\n      \"properties\": {\n        \"dtype\": \"number\",\n        \"std\": null,\n        \"min\": null,\n        \"max\": null,\n        \"num_unique_values\": 0,\n        \"samples\": [],\n        \"semantic_type\": \"\",\n        \"description\": \"\"\n      }\n    },\n    {\n      \"column\": \"tweet\",\n      \"properties\": {\n        \"dtype\": \"category\",\n        \"num_unique_values\": 16131,\n        \"samples\": [],\n        \"semantic_type\": \"\",\n        \"description\": \"\"\n      }\n    },\n    {\n      \"column\": \"id\",\n      \"properties\": {\n        \"dtype\": \"number\",\n        \"std\": 4964.49062509606,\n        \"min\": 31963.0,\n        \"max\": 49159.0,\n        \"num_unique_values\": 17197,\n        \"samples\": [],\n        \"semantic_type\": \"\",\n        \"description\": \"\"\n      }\n    },\n    {\n      \"column\": \"tidy_tweet\",\n      \"properties\": {\n        \"dtype\": \"category\",\n        \"num_unique_values\": 15764,\n        \"samples\": [],\n        \"semantic_type\": \"\",\n        \"description\": \"\"\n      }\n    }\n  ]\n}"
            }
          },
          "metadata": {},
          "execution_count": 206
        }
      ],
      "source": [
        "combi.head()"
      ]
    },
    {
      "cell_type": "markdown",
      "metadata": {
        "id": "_dY_6VwDYOOF"
      },
      "source": [
        "4. Text Normalization\n",
        "Here we will use nltk's PorterStemmer() function to normalize the tweets. But before that v will have to tokenize the tweets. Tokens are individual terms or words, and tokenization is th process of splitting a string of text into tokens."
      ]
    },
    {
      "cell_type": "code",
      "execution_count": null,
      "metadata": {
        "id": "IWHilkOjYGb8",
        "colab": {
          "base_uri": "https://localhost:8080/",
          "height": 240
        },
        "outputId": "95e3da74-9960-4f34-f71d-3ddfc50e2371"
      },
      "outputs": [
        {
          "output_type": "execute_result",
          "data": {
            "text/plain": [
              "0    []\n",
              "1    []\n",
              "2    []\n",
              "3    []\n",
              "4    []\n",
              "Name: tidy_tweet, dtype: object"
            ],
            "text/html": [
              "<div>\n",
              "<style scoped>\n",
              "    .dataframe tbody tr th:only-of-type {\n",
              "        vertical-align: middle;\n",
              "    }\n",
              "\n",
              "    .dataframe tbody tr th {\n",
              "        vertical-align: top;\n",
              "    }\n",
              "\n",
              "    .dataframe thead th {\n",
              "        text-align: right;\n",
              "    }\n",
              "</style>\n",
              "<table border=\"1\" class=\"dataframe\">\n",
              "  <thead>\n",
              "    <tr style=\"text-align: right;\">\n",
              "      <th></th>\n",
              "      <th>tidy_tweet</th>\n",
              "    </tr>\n",
              "  </thead>\n",
              "  <tbody>\n",
              "    <tr>\n",
              "      <th>0</th>\n",
              "      <td>[]</td>\n",
              "    </tr>\n",
              "    <tr>\n",
              "      <th>1</th>\n",
              "      <td>[]</td>\n",
              "    </tr>\n",
              "    <tr>\n",
              "      <th>2</th>\n",
              "      <td>[]</td>\n",
              "    </tr>\n",
              "    <tr>\n",
              "      <th>3</th>\n",
              "      <td>[]</td>\n",
              "    </tr>\n",
              "    <tr>\n",
              "      <th>4</th>\n",
              "      <td>[]</td>\n",
              "    </tr>\n",
              "  </tbody>\n",
              "</table>\n",
              "</div><br><label><b>dtype:</b> object</label>"
            ]
          },
          "metadata": {},
          "execution_count": 209
        }
      ],
      "source": [
        "tokenized_tweet = combi['tidy_tweet'].apply(lambda x: x.split()) #tokenizing\n",
        "tokenized_tweet.head()"
      ]
    },
    {
      "cell_type": "markdown",
      "metadata": {
        "id": "9keLa2ivYrxE"
      },
      "source": [
        "Now we can normalize the tokenized tweets."
      ]
    },
    {
      "cell_type": "markdown",
      "metadata": {
        "id": "VstbFz3HVl3I"
      },
      "source": [
        "Story Generation and Visualization from Tweets"
      ]
    },
    {
      "cell_type": "markdown",
      "metadata": {
        "id": "offRgbAsV8xD"
      },
      "source": [
        "A) Understanding the common words used in the tweets: WordCloud"
      ]
    },
    {
      "cell_type": "code",
      "execution_count": null,
      "metadata": {
        "id": "RlDs02uWSXSe",
        "colab": {
          "base_uri": "https://localhost:8080/",
          "height": 521
        },
        "outputId": "df214637-9ef6-4deb-a49c-e1869657ebc6"
      },
      "outputs": [
        {
          "output_type": "display_data",
          "data": {
            "text/plain": [
              "<Figure size 1000x700 with 1 Axes>"
            ],
            "image/png": "[encoded data removed]"
          },
          "metadata": {}
        }
      ],
      "source": [
        "all_words = ''.join([text for text in combi['tidy_tweet']])\n",
        "from wordcloud import WordCloud\n",
        "wordcloud = WordCloud (width=800, height=500,\n",
        "random_state=21, max_font_size=110).generate (all_words)\n",
        "plt.figure(figsize=(10, 7))\n",
        "plt.imshow(wordcloud, interpolation=\"bilinear\")\n",
        "plt.axis('off')\n",
        "plt.show()"
      ]
    },
    {
      "cell_type": "markdown",
      "metadata": {
        "id": "367kmlPvVrFo"
      },
      "source": [
        "B) Words in non racist/sexist tweets"
      ]
    },
    {
      "cell_type": "code",
      "execution_count": null,
      "metadata": {
        "id": "oiMxDKy7U-0Z",
        "colab": {
          "base_uri": "https://localhost:8080/"
        },
        "outputId": "34b25578-cc39-48c4-d340-0ddc89ebd4e2"
      },
      "outputs": [
        {
          "output_type": "stream",
          "name": "stdout",
          "text": [
            "No words available for label 0.\n"
          ]
        }
      ],
      "source": [
        "from wordcloud import WordCloud\n",
        "import matplotlib.pyplot as plt\n",
        "\n",
        "# Ensure 'tidy_tweet' column exists and is cleaned\n",
        "# Get all tidy tweets with label 0 (non-racist/sexist)\n",
        "normal_words = ' '.join(combi[combi['label'] == 0]['tidy_tweet'].astype(str))\n",
        "\n",
        "# Generate and display WordCloud\n",
        "if normal_words.strip():  # make sure it's not just empty/space\n",
        "    wordcloud = WordCloud(width=800, height=500, random_state=21, max_font_size=110).generate(normal_words)\n",
        "\n",
        "    plt.figure(figsize=(10, 7))\n",
        "    plt.imshow(wordcloud, interpolation=\"bilinear\")\n",
        "    plt.axis('off')\n",
        "    plt.title(\"Most frequent words in non-racist/sexist tweets\", fontsize=16)\n",
        "    plt.show()\n",
        "else:\n",
        "    print(\"No words available for label 0.\")\n"
      ]
    },
    {
      "cell_type": "markdown",
      "metadata": {
        "id": "lv4JGungV0JA"
      },
      "source": [
        "C) Racist/Sexist Tweets"
      ]
    },
    {
      "cell_type": "code",
      "execution_count": null,
      "metadata": {
        "id": "OszKghEWV1Qa",
        "colab": {
          "base_uri": "https://localhost:8080/"
        },
        "outputId": "eb688205-d7ae-4570-cb2e-82d493155c9d"
      },
      "outputs": [
        {
          "output_type": "stream",
          "name": "stdout",
          "text": [
            "No words available for label 0.\n"
          ]
        }
      ],
      "source": [
        "from wordcloud import WordCloud\n",
        "import matplotlib.pyplot as plt\n",
        "\n",
        "if normal_words.strip():  # make sure it's not just empty/space\n",
        "    wordcloud = WordCloud(width=800, height=500, random_state=21, max_font_size=110).generate(normal_words)\n",
        "\n",
        "    plt.figure(figsize=(10, 7))\n",
        "    plt.imshow(wordcloud, interpolation=\"bilinear\")\n",
        "    plt.axis('off')\n",
        "    plt.show()\n",
        "else:\n",
        "    print(\"No words available for label 0.\")\n"
      ]
    },
    {
      "cell_type": "markdown",
      "metadata": {
        "id": "kLZSLSFlYwhR"
      },
      "source": [
        "D) Understanding the impact of Hashtags on tweets sentiment"
      ]
    },
    {
      "cell_type": "code",
      "execution_count": null,
      "metadata": {
        "id": "gwJHpOv7Y8zH"
      },
      "outputs": [],
      "source": [
        "# function to collect hashtags\n",
        "def hashtag_extract(tweets):\n",
        "    hashtags = []\n",
        "    # Loop over the words in the tweet\n",
        "    for tweet in tweets:\n",
        "        ht = re.findall(r\"#(\\w+)\", tweet)\n",
        "        hashtags.append(ht)\n",
        "    return hashtags\n",
        "\n",
        "# extracting hashtags from non racist/sexist tweets\n",
        "HT_regular = hashtag_extract(combi.loc[combi['label'] == '0', 'tidy_tweet'])\n",
        "\n",
        "# extracting hashtags from racist/sexist tweets\n",
        "HT_negative = hashtag_extract(combi.loc[combi['label'] == '1', 'tidy_tweet'])\n",
        "\n",
        "# unnesting list\n",
        "HT_regular = sum(HT_regular, [])\n",
        "HT_negative = sum(HT_negative, [])"
      ]
    },
    {
      "cell_type": "markdown",
      "metadata": {
        "id": "wpROfCLxaxdG"
      },
      "source": [
        "Non-Racist/Sexist Tweets"
      ]
    },
    {
      "cell_type": "code",
      "execution_count": null,
      "metadata": {
        "id": "UK_dHIzLamhC",
        "colab": {
          "base_uri": "https://localhost:8080/",
          "height": 482
        },
        "outputId": "87d6b33a-61f8-499f-f534-a6ab661d524f"
      },
      "outputs": [
        {
          "output_type": "display_data",
          "data": {
            "text/plain": [
              "<Figure size 1600x500 with 1 Axes>"
            ],
            "image/png": "[encoded data removed]"
          },
          "metadata": {}
        }
      ],
      "source": [
        "a = nltk. FreqDist(HT_regular)\n",
        "d = pd. DataFrame({'Hashtag':\n",
        "list(a.keys()),'Count': list(a.values())})\n",
        "# selecting top 20 most frequent hashtags\n",
        "d =d.nlargest(columns=\"Count\", n = 20 )\n",
        "plt.figure(figsize=(16,5))\n",
        "ax =sns.barplot(data=d, x= \"Hashtag\", y = \"Count\")\n",
        "ax.set(ylabel = 'Count')\n",
        "plt.xticks(rotation=45, ha='right') # Rotate x-axis labels\n",
        "plt.show()"
      ]
    },
    {
      "cell_type": "code",
      "execution_count": null,
      "metadata": {
        "id": "83c9c6f9",
        "colab": {
          "base_uri": "https://localhost:8080/",
          "height": 343
        },
        "outputId": "beab44d0-537a-481e-aa15-7d0e9e6253c7"
      },
      "outputs": [
        {
          "output_type": "display_data",
          "data": {
            "text/plain": [
              "<Figure size 1600x500 with 1 Axes>"
            ],
            "image/png": "[encoded data removed]"
          },
          "metadata": {}
        }
      ],
      "source": [
        "b = nltk.FreqDist(HT_negative)\n",
        "e = pd.DataFrame({'Hashtag': list(b.keys()), 'Count': list(b.values())})\n",
        "# selecting top 20 most frequent hashtags\n",
        "e = e.nlargest(columns=\"Count\", n = 20)\n",
        "plt.figure(figsize=(16,5))\n",
        "ax = sns.barplot(data=e, x= \"Hashtag\", y = \"Count\")\n",
        "ax.set(ylabel = 'Count')\n",
        "plt.xticks(rotation=45, ha='right') # Rotate x-axis labels\n",
        "# Add frequency count on top of each bar\n",
        "for container in ax.containers:\n",
        "    ax.bar_label(container)\n",
        "plt.show()"
      ]
    },
    {
      "cell_type": "code",
      "execution_count": null,
      "metadata": {
        "id": "e5aae242",
        "colab": {
          "base_uri": "https://localhost:8080/",
          "height": 343
        },
        "outputId": "d2b07b3a-2321-4d3e-ada1-7a41b1d8c632"
      },
      "outputs": [
        {
          "output_type": "display_data",
          "data": {
            "text/plain": [
              "<Figure size 1600x500 with 1 Axes>"
            ],
            "image/png": "[encoded data removed]"
          },
          "metadata": {}
        }
      ],
      "source": [
        "# Define a list of RGB values for colors (you can replace these with your desired colors)\n",
        "# The number of colors should match the number of bars (top 20 hashtags)\n",
        "colors = [(1.0, 0.0, 0.0),  # Red\n",
        "          (0.0, 1.0, 0.0),  # Green\n",
        "          (0.0, 0.0, 1.0),  # Blue\n",
        "          (1.0, 1.0, 0.0),  # Yellow\n",
        "          (1.0, 0.0, 1.0),  # Magenta\n",
        "          (0.0, 1.0, 1.0),  # Cyan\n",
        "          (0.5, 0.0, 0.0),  # Dark Red\n",
        "          (0.0, 0.5, 0.0),  # Dark Green\n",
        "          (0.0, 0.0, 0.5),  # Dark Blue\n",
        "          (0.5, 0.5, 0.0),  # Olive\n",
        "          (0.5, 0.0, 0.5),  # Purple\n",
        "          (0.0, 0.5, 0.5),  # Teal\n",
        "          (0.7, 0.2, 0.1),\n",
        "          (0.1, 0.7, 0.2),\n",
        "          (0.2, 0.1, 0.7),\n",
        "          (0.6, 0.3, 0.9),\n",
        "          (0.9, 0.6, 0.3),\n",
        "          (0.3, 0.9, 0.6),\n",
        "          (0.4, 0.5, 0.8),\n",
        "          (0.8, 0.4, 0.5)\n",
        "         ]\n",
        "\n",
        "b = nltk.FreqDist(HT_negative)\n",
        "e = pd.DataFrame({'Hashtag': list(b.keys()), 'Count': list(b.values())})\n",
        "# selecting top 20 most frequent hashtags\n",
        "e = e.nlargest(columns=\"Count\", n = 20)\n",
        "\n",
        "plt.figure(figsize=(16,5))\n",
        "# Use the custom color palette\n",
        "ax = sns.barplot(data=e, x= \"Hashtag\", y = \"Count\", palette=colors)\n",
        "ax.set(ylabel = 'Count')\n",
        "plt.xticks(rotation=45, ha='right') # Rotate x-axis labels\n",
        "# Add frequency count on top of each bar\n",
        "for container in ax.containers:\n",
        "    ax.bar_label(container)\n",
        "plt.show()"
      ]
    },
    {
      "cell_type": "code",
      "execution_count": null,
      "metadata": {
        "id": "dfcfd303",
        "colab": {
          "base_uri": "https://localhost:8080/",
          "height": 343
        },
        "outputId": "1bc6f756-2199-4e51-d1ac-9823c83eeb64"
      },
      "outputs": [
        {
          "output_type": "display_data",
          "data": {
            "text/plain": [
              "<Figure size 1600x500 with 1 Axes>"
            ],
            "image/png": "[encoded data removed]"
          },
          "metadata": {}
        }
      ],
      "source": [
        "b = nltk.FreqDist(HT_negative)\n",
        "e = pd.DataFrame({'Hashtag': list(b.keys()), 'Count': list(b.values())})\n",
        "# selecting top 20 most frequent hashtags\n",
        "e = e.nlargest(columns=\"Count\", n = 20)\n",
        "plt.figure(figsize=(16,5))\n",
        "ax = sns.barplot(data=e, x= \"Hashtag\", y = \"Count\")\n",
        "ax.set(ylabel = 'Count')\n",
        "plt.xticks(rotation=45, ha='right') # Rotate x-axis labels\n",
        "# Add frequency count on top of each bar\n",
        "for container in ax.containers:\n",
        "    ax.bar_label(container)\n",
        "plt.show()"
      ]
    },
    {
      "cell_type": "code",
      "execution_count": null,
      "metadata": {
        "id": "MUei5JIZdNm1",
        "colab": {
          "base_uri": "https://localhost:8080/",
          "height": 450
        },
        "outputId": "5c6ea17a-ced8-46ad-f6ea-ccbb70338d95"
      },
      "outputs": [
        {
          "output_type": "display_data",
          "data": {
            "text/plain": [
              "<Figure size 1600x700 with 1 Axes>"
            ],
            "image/png": "[encoded data removed]"
          },
          "metadata": {}
        }
      ],
      "source": [
        "b = nltk. FreqDist(HT_negative)\n",
        "e = pd.DataFrame({'Hashtag':\n",
        "list(b.keys()), 'Count': list(b.values())})\n",
        "# selecting top 10 most frequent hashtags e =\n",
        "e.nlargest(columns=\"Count\", n = 10 )\n",
        "plt.figure(figsize=(16,7)) # Increased figure size\n",
        "ax =sns.barplot(data=e, x= \"Hashtag\", y = \"Count\")\n",
        "#ax.set(ylabel = 'Count')\n",
        "#plt.xticks(rotation=45, ha='right') # Keep x-axis labels rotated\n",
        "#plt.show() # Added plt.show() to display the plot"
      ]
    },
    {
      "cell_type": "code",
      "execution_count": null,
      "metadata": {
        "id": "cb1456da",
        "colab": {
          "base_uri": "https://localhost:8080/"
        },
        "outputId": "09861a12-a750-4b96-ff69-dd5acec9a7c4"
      },
      "outputs": [
        {
          "output_type": "stream",
          "name": "stdout",
          "text": [
            "Shape of TF-IDF matrix: (49160, 1000)\n"
          ]
        }
      ],
      "source": [
        "from sklearn.feature_extraction.text import TfidfVectorizer\n",
        "\n",
        "# Initialize TF-IDF vectorizer\n",
        "# You might want to adjust parameters like max_features, min_df, max_df, ngram_range\n",
        "tfidf_vectorizer = TfidfVectorizer(max_df=0.90, min_df=2, max_features=1000, stop_words='english')\n",
        "\n",
        "# Fit and transform the 'tidy_tweet' column\n",
        "# Assuming 'combi' DataFrame and 'tidy_tweet' column are available from previous steps\n",
        "tfidf_matrix = tfidf_vectorizer.fit_transform(combi['tidy_tweet'])\n",
        "\n",
        "# You can now use tfidf_matrix for training your model\n",
        "print(\"Shape of TF-IDF matrix:\", tfidf_matrix.shape)"
      ]
    },
    {
      "cell_type": "code",
      "execution_count": null,
      "metadata": {
        "id": "3OdtawZLQ6yY",
        "colab": {
          "base_uri": "https://localhost:8080/"
        },
        "outputId": "02729b74-1eaf-4dca-ce9e-1280196f7a9f"
      },
      "outputs": [
        {
          "output_type": "stream",
          "name": "stdout",
          "text": [
            "shell-init: error retrieving current directory: getcwd: cannot access parent directories: No such file or directory\n",
            "shell-init: error retrieving current directory: getcwd: cannot access parent directories: No such file or directory\n",
            "The folder you are executing pip from can no longer be found.\n"
          ]
        }
      ],
      "source": [
        "from sklearn.feature_extraction.text import TfidfVectorizer, CountVectorizer\n",
        "!pip install --upgrade numpy gensim"
      ]
    },
    {
      "cell_type": "code",
      "execution_count": null,
      "metadata": {
        "id": "550W-H92tTrQ",
        "colab": {
          "base_uri": "https://localhost:8080/"
        },
        "outputId": "55c5e5af-89ff-449d-da28-de7891b788a7"
      },
      "outputs": [
        {
          "output_type": "execute_result",
          "data": {
            "text/plain": [
              "(49160, 1000)"
            ]
          },
          "metadata": {},
          "execution_count": 221
        }
      ],
      "source": [
        "from sklearn.feature_extraction.text import TfidfVectorizer\n",
        "\n",
        "tfidf_vectorizer = TfidfVectorizer(max_df=0.90, min_df=2,\n",
        "max_features=1000, stop_words='english')\n",
        "tfidf =tfidf_vectorizer.fit_transform(combi ['tidy_tweet'])\n",
        "tfidf.shape"
      ]
    },
    {
      "cell_type": "code",
      "execution_count": null,
      "metadata": {
        "id": "w40akvTSt6f2",
        "colab": {
          "base_uri": "https://localhost:8080/"
        },
        "outputId": "4df9efcf-a51b-4025-aad5-3fd050655efb"
      },
      "outputs": [
        {
          "output_type": "execute_result",
          "data": {
            "text/plain": [
              "(8433, 85925)"
            ]
          },
          "metadata": {},
          "execution_count": 222
        }
      ],
      "source": [
        "from gensim.models import Word2Vec\n",
        "\n",
        "# Assuming you have tokenized tweets in a list of lists like:\n",
        "# tokenized_tweet = [['happy', 'life'], ['hate', 'racism'], ...]\n",
        "\n",
        "# Initialize the Word2Vec model\n",
        "model_w2v = Word2Vec(\n",
        "    vector_size=200, window=5, min_count=2, sg=1, hs=0, negative=10,\n",
        "    workers=2, seed=34\n",
        ")\n",
        "\n",
        "# Build vocabulary\n",
        "model_w2v.build_vocab(tokenized_tweet)\n",
        "\n",
        "# Train the model\n",
        "model_w2v.train(tokenized_tweet, total_examples=model_w2v.corpus_count, epochs=model_w2v.epochs)\n"
      ]
    },
    {
      "cell_type": "code",
      "source": [
        "print(list(model_w2v.wv.index_to_key[:50]))  # Show first 50 words in vocab\n"
      ],
      "metadata": {
        "id": "g-O96z0c7kwH",
        "colab": {
          "base_uri": "https://localhost:8080/"
        },
        "outputId": "d801f934-1c82-4c52-98e0-4f3b4cd365a3"
      },
      "execution_count": null,
      "outputs": [
        {
          "output_type": "stream",
          "name": "stdout",
          "text": [
            "['#modellovetakewithtimeurð\\x9f\\x93±!!!ð\\x9f\\x98\\x99ð\\x9f\\x98\\x8eð\\x9f\\x91\\x84ð\\x9f\\x91ð\\x9f\\x92¦ð\\x9f\\x92¦ð\\x9f\\x92¦', 'finallyfounddeletetweets!mightfindusefulwell:#deletetweets', \"yeahit'sgoodbingbongbingbong\", '#gratefulthat#affirmations', 'mightlibtardif...#libtard#sjw#liberal#politics', '#lighttherapyhelpwith#depression?#altwaystoheal#healthy#happy', '#feminismiscancer#feminismisterrorism#feminismmuktbharat#malevoteignored', 'ð\\x9f\\x94\\x9d#love#instagood#photoofthedaytop.tags#tbt#cute#beautiful#followme#followâ\\x80¦', 'saveloginsbrokers#change#memes#love#education#university', '#enjoy#music#today#free#apps#free#music', 'best#essentialoils#anxiety#healthy#peace#altwaystoheal', '#lighttherapyhelpwith#sad#depression?#altwaystoheal#healthy', \"#peoplearen'tprotesting#trumpbecause#republicanwon-theybecausetrumpfuhered&amp;â\\x80¦\", 'haveloverstopbeingangryvisitus..&gt;&gt;&gt;#lover#friend#astrologer#love', '#black&amp;feellikestompingyou?listen#retweet#tampa#miamiâ\\x80¦', 'amazinghealthbenefitscucumbers!#healthy#altwaystoheal!', 'lookingfeelmore#joy?joinspeakersfreesummit#unleashyourjoy', '#atherapy#musictherapyhealyourlife?#altwaystoheal#healthy#healing!', 'bihday', '&lt;3listenmostbeautifulbestfriendsingingwithmostamazingvoice&lt;3&lt;3&lt;3&lt;3', 'foods#healingyourbody!!#doplants!#healthy', 'shepherdsuppoersracist!#antiracism#seashepherd', 'thoughtfactory:left-rightpolarisation!#trump#uselections2016#leadership#politics#brexit#blm', 'poweryourmind#healyourbody!!#altwaystoheal#healthy#peace!', 'stuckrace?findyourfreedom.#masterkeyexperience', '#lawofattraction#healing!!#altwaystoheal#healthy', 'thankfullove.#thankful#positive', '#fathersdaygiftprouddads.available', 'todayperfect#happiness#lifecoach#reinventimpossible', 'safewayshealyour#acne!!#altwaystoheal#healthy#healing!!', 'best#lawofattraction#resources#healing!#altwaystoheal#healthy#idwp', 'laughing!cryingonlymakessad.#laugh#cry#distressed#anxious#change#mindset#depressed', '#healwith#lawofattraction#loa#altwaystoheal#healthy#wellness', 'poweryourmind#healyourbody!#altwaystoheal#healthy', '#music#therapytool#healing!#altwaystoheal#healthy', '#cloudchaserbullhillclimb:havereachtargetcompletetasksurvive.withstrong', 'angrysqueakingfrogvideo:#frog#nature#animals#cute#adorable', 'love#abrahamhicks#lawofattraction#healthy#healing#joytrain', 'what#detoxdiet?#altwaystoheal!#healthy', 'best#essentialoils#weightloss!!#altwaystoheal#healthy', 'herbalsleepremediesthatwork!!#altwaystoheal#healthy#healing', 'teengirlkilled,othersinjureddowntownoaklandshooting.#guns#mentalillness#gangsð\\x9f\\x87¨ð\\x9f\\x87¦ð\\x9f\\x87¨ð\\x9f\\x87¦ð\\x9f\\x87¨ð\\x9f\\x87¦#orlando', 'savethousandsfreesearchloginsbrokers#actor#seeklearning#stafresh', 'besthomeopathicremedies#anxiety#altwaystoheal#healing#peace', 'snowwhite--&gt;open!--&gt;#sleepy,#sneezy#bashful.today!', \"won'tspareleader#kolianwali,willmeetfate#ravisidhu:capt#amarinder\", \"photo'sjustbeenaccepted&amp;it'ssale#photography\", '&amp;#gratefulthat#moneycomes#increasingquantitiesfrom#multiplesources#continuousbasis', 'this', '#flagday2016#flag#day#2016#(30#photos)thingsabout\"flag2016\":']\n"
          ]
        }
      ]
    },
    {
      "cell_type": "markdown",
      "source": [
        "Use this to extract all individual hashtags:"
      ],
      "metadata": {
        "id": "yIc20Ya-8kDe"
      }
    },
    {
      "cell_type": "code",
      "execution_count": null,
      "metadata": {
        "id": "qPhqQpRUvF5z",
        "colab": {
          "base_uri": "https://localhost:8080/"
        },
        "outputId": "e8ee7520-2569-4920-9966-32b10d019ca8"
      },
      "outputs": [
        {
          "output_type": "stream",
          "name": "stdout",
          "text": [
            "['#sicletrip16', '#bigphilspeaks', '#cognitivethati', '#netflixð', '#i_am', '#know', '#warriorsseries', '#bestmumever', '#lovemyweekend', '#rebellious']\n"
          ]
        }
      ],
      "source": [
        "import re\n",
        "\n",
        "# Extract hashtags from all tweets\n",
        "all_hashtags = []\n",
        "for tweet in combi['tidy_tweet']:\n",
        "    all_hashtags.extend(re.findall(r\"#\\w+\", tweet))\n",
        "\n",
        "# Remove duplicates and check few examples\n",
        "all_hashtags = list(set(all_hashtags))\n",
        "print(all_hashtags[:10])  # sample words\n"
      ]
    },
    {
      "cell_type": "markdown",
      "source": [
        "✅ Step 2: Try .most_similar() on real tokens\n",
        "Pick one of the words printed from above (say, \"#happy\"):"
      ],
      "metadata": {
        "id": "FTxv8dmw8oaW"
      }
    },
    {
      "cell_type": "code",
      "source": [
        "if \"#happy\" in model_w2v.wv.key_to_index:\n",
        "    print(model_w2v.wv.most_similar(positive=[\"#happy\"]))\n",
        "else:\n",
        "    print(\"Word not in vocabulary\")\n"
      ],
      "metadata": {
        "id": "SopuadeV8g5H",
        "colab": {
          "base_uri": "https://localhost:8080/"
        },
        "outputId": "742fc5a7-fad9-4546-cc7e-30113a4d7b11"
      },
      "execution_count": null,
      "outputs": [
        {
          "output_type": "stream",
          "name": "stdout",
          "text": [
            "Word not in vocabulary\n"
          ]
        }
      ]
    },
    {
      "cell_type": "code",
      "execution_count": null,
      "metadata": {
        "id": "33eacf84",
        "colab": {
          "base_uri": "https://localhost:8080/"
        },
        "outputId": "2cbbef21-d5b3-4dce-a288-f7060f3c74be"
      },
      "outputs": [
        {
          "output_type": "execute_result",
          "data": {
            "text/plain": [
              "(49161, 5)"
            ]
          },
          "metadata": {},
          "execution_count": 226
        }
      ],
      "source": [
        "import pandas as pd\n",
        "combi = pd.concat([train, test], ignore_index=True)\n",
        "combi.shape"
      ]
    },
    {
      "cell_type": "code",
      "execution_count": null,
      "metadata": {
        "id": "c2ed3b75"
      },
      "outputs": [],
      "source": [
        "train = pd.read_csv(\n",
        "    \"/content/drive/MyDrive/SentimentAnalysis/train_E6oV3lV.csv\",\n",
        "    header=None,\n",
        "    names=[\"tweet_id\", \"label\", \"tweet\"],\n",
        "    quotechar='\"',\n",
        "    escapechar='\\\\',\n",
        "    encoding='utf-8',\n",
        "    on_bad_lines='skip'  # for pandas >= 1.3\n",
        ")\n"
      ]
    },
    {
      "cell_type": "code",
      "execution_count": null,
      "metadata": {
        "id": "23b3f7dd",
        "colab": {
          "base_uri": "https://localhost:8080/"
        },
        "outputId": "11a161ae-c123-4d06-b178-4ac5eaddb661"
      },
      "outputs": [
        {
          "output_type": "stream",
          "name": "stdout",
          "text": [
            "(49161, 1000)\n"
          ]
        }
      ],
      "source": [
        "from sklearn.feature_extraction.text import TfidfVectorizer\n",
        "\n",
        "# Fill NaNs in the 'tweet' column\n",
        "combi['tweet'] = combi['tweet'].fillna('')\n",
        "\n",
        "# Initialize the vectorizer\n",
        "tfidf_vectorizer = TfidfVectorizer(max_df=0.90, min_df=2,\n",
        "                                   max_features=1000, stop_words='english')\n",
        "\n",
        "# Fit and transform the tweets\n",
        "tfidf = tfidf_vectorizer.fit_transform(combi['tweet'])\n",
        "\n",
        "# Check shape\n",
        "print(tfidf.shape)\n",
        "\n"
      ]
    },
    {
      "cell_type": "code",
      "source": [
        "# Make sure clean_tweet is string and has no NaN\n",
        "combi['clean_tweet'] = combi['clean_tweet'].fillna('').astype(str)\n",
        "\n",
        "# Vectorize using clean tweets\n",
        "tfidf = tfidf_vectorizer.fit_transform(combi['clean_tweet'])\n",
        "print(tfidf.shape)"
      ],
      "metadata": {
        "id": "0KAv-3599XoS",
        "colab": {
          "base_uri": "https://localhost:8080/"
        },
        "outputId": "e7da476b-1c30-403c-cfe4-cb4e4528eab0"
      },
      "execution_count": null,
      "outputs": [
        {
          "output_type": "stream",
          "name": "stdout",
          "text": [
            "(49161, 1000)\n"
          ]
        }
      ]
    },
    {
      "cell_type": "code",
      "execution_count": null,
      "metadata": {
        "id": "6d19aebe",
        "colab": {
          "base_uri": "https://localhost:8080/",
          "height": 260
        },
        "outputId": "075df92f-f8a6-45ed-961f-c9d5e5c9d7d8"
      },
      "outputs": [
        {
          "output_type": "display_data",
          "data": {
            "text/plain": [
              "  tweet tidy_tweet\n",
              "0                 \n",
              "1                 \n",
              "2                 \n",
              "3                 \n",
              "4                 "
            ],
            "text/html": [
              "\n",
              "  <div id=\"df-6c098d54-21c7-4ceb-91f8-1f57021e617f\" class=\"colab-df-container\">\n",
              "    <div>\n",
              "<style scoped>\n",
              "    .dataframe tbody tr th:only-of-type {\n",
              "        vertical-align: middle;\n",
              "    }\n",
              "\n",
              "    .dataframe tbody tr th {\n",
              "        vertical-align: top;\n",
              "    }\n",
              "\n",
              "    .dataframe thead th {\n",
              "        text-align: right;\n",
              "    }\n",
              "</style>\n",
              "<table border=\"1\" class=\"dataframe\">\n",
              "  <thead>\n",
              "    <tr style=\"text-align: right;\">\n",
              "      <th></th>\n",
              "      <th>tweet</th>\n",
              "      <th>tidy_tweet</th>\n",
              "    </tr>\n",
              "  </thead>\n",
              "  <tbody>\n",
              "    <tr>\n",
              "      <th>0</th>\n",
              "      <td></td>\n",
              "      <td></td>\n",
              "    </tr>\n",
              "    <tr>\n",
              "      <th>1</th>\n",
              "      <td></td>\n",
              "      <td></td>\n",
              "    </tr>\n",
              "    <tr>\n",
              "      <th>2</th>\n",
              "      <td></td>\n",
              "      <td></td>\n",
              "    </tr>\n",
              "    <tr>\n",
              "      <th>3</th>\n",
              "      <td></td>\n",
              "      <td></td>\n",
              "    </tr>\n",
              "    <tr>\n",
              "      <th>4</th>\n",
              "      <td></td>\n",
              "      <td></td>\n",
              "    </tr>\n",
              "  </tbody>\n",
              "</table>\n",
              "</div>\n",
              "    <div class=\"colab-df-buttons\">\n",
              "\n",
              "  <div class=\"colab-df-container\">\n",
              "    <button class=\"colab-df-convert\" onclick=\"convertToInteractive('df-6c098d54-21c7-4ceb-91f8-1f57021e617f')\"\n",
              "            title=\"Convert this dataframe to an interactive table.\"\n",
              "            style=\"display:none;\">\n",
              "\n",
              "  <svg xmlns=\"http://www.w3.org/2000/svg\" height=\"24px\" viewBox=\"0 -960 960 960\">\n",
              "    <path d=\"M120-120v-720h720v720H120Zm60-500h600v-160H180v160Zm220 220h160v-160H400v160Zm0 220h160v-160H400v160ZM180-400h160v-160H180v160Zm440 0h160v-160H620v160ZM180-180h160v-160H180v160Zm440 0h160v-160H620v160Z\"/>\n",
              "  </svg>\n",
              "    </button>\n",
              "\n",
              "  <style>\n",
              "    .colab-df-container {\n",
              "      display:flex;\n",
              "      gap: 12px;\n",
              "    }\n",
              "\n",
              "    .colab-df-convert {\n",
              "      background-color: #E8F0FE;\n",
              "      border: none;\n",
              "      border-radius: 50%;\n",
              "      cursor: pointer;\n",
              "      display: none;\n",
              "      fill: #1967D2;\n",
              "      height: 32px;\n",
              "      padding: 0 0 0 0;\n",
              "      width: 32px;\n",
              "    }\n",
              "\n",
              "    .colab-df-convert:hover {\n",
              "      background-color: #E2EBFA;\n",
              "      box-shadow: 0px 1px 2px rgba(60, 64, 67, 0.3), 0px 1px 3px 1px rgba(60, 64, 67, 0.15);\n",
              "      fill: #174EA6;\n",
              "    }\n",
              "\n",
              "    .colab-df-buttons div {\n",
              "      margin-bottom: 4px;\n",
              "    }\n",
              "\n",
              "    [theme=dark] .colab-df-convert {\n",
              "      background-color: #3B4455;\n",
              "      fill: #D2E3FC;\n",
              "    }\n",
              "\n",
              "    [theme=dark] .colab-df-convert:hover {\n",
              "      background-color: #434B5C;\n",
              "      box-shadow: 0px 1px 3px 1px rgba(0, 0, 0, 0.15);\n",
              "      filter: drop-shadow(0px 1px 2px rgba(0, 0, 0, 0.3));\n",
              "      fill: #FFFFFF;\n",
              "    }\n",
              "  </style>\n",
              "\n",
              "    <script>\n",
              "      const buttonEl =\n",
              "        document.querySelector('#df-6c098d54-21c7-4ceb-91f8-1f57021e617f button.colab-df-convert');\n",
              "      buttonEl.style.display =\n",
              "        google.colab.kernel.accessAllowed ? 'block' : 'none';\n",
              "\n",
              "      async function convertToInteractive(key) {\n",
              "        const element = document.querySelector('#df-6c098d54-21c7-4ceb-91f8-1f57021e617f');\n",
              "        const dataTable =\n",
              "          await google.colab.kernel.invokeFunction('convertToInteractive',\n",
              "                                                    [key], {});\n",
              "        if (!dataTable) return;\n",
              "\n",
              "        const docLinkHtml = 'Like what you see? Visit the ' +\n",
              "          '<a target=\"_blank\" href=https://colab.research.google.com/notebooks/data_table.ipynb>data table notebook</a>'\n",
              "          + ' to learn more about interactive tables.';\n",
              "        element.innerHTML = '';\n",
              "        dataTable['output_type'] = 'display_data';\n",
              "        await google.colab.output.renderOutput(dataTable, element);\n",
              "        const docLink = document.createElement('div');\n",
              "        docLink.innerHTML = docLinkHtml;\n",
              "        element.appendChild(docLink);\n",
              "      }\n",
              "    </script>\n",
              "  </div>\n",
              "\n",
              "\n",
              "    <div id=\"df-cf1986f0-2335-4d80-9e2a-c0a962365630\">\n",
              "      <button class=\"colab-df-quickchart\" onclick=\"quickchart('df-cf1986f0-2335-4d80-9e2a-c0a962365630')\"\n",
              "                title=\"Suggest charts\"\n",
              "                style=\"display:none;\">\n",
              "\n",
              "<svg xmlns=\"http://www.w3.org/2000/svg\" height=\"24px\"viewBox=\"0 0 24 24\"\n",
              "     width=\"24px\">\n",
              "    <g>\n",
              "        <path d=\"M19 3H5c-1.1 0-2 .9-2 2v14c0 1.1.9 2 2 2h14c1.1 0 2-.9 2-2V5c0-1.1-.9-2-2-2zM9 17H7v-7h2v7zm4 0h-2V7h2v10zm4 0h-2v-4h2v4z\"/>\n",
              "    </g>\n",
              "</svg>\n",
              "      </button>\n",
              "\n",
              "<style>\n",
              "  .colab-df-quickchart {\n",
              "      --bg-color: #E8F0FE;\n",
              "      --fill-color: #1967D2;\n",
              "      --hover-bg-color: #E2EBFA;\n",
              "      --hover-fill-color: #174EA6;\n",
              "      --disabled-fill-color: #AAA;\n",
              "      --disabled-bg-color: #DDD;\n",
              "  }\n",
              "\n",
              "  [theme=dark] .colab-df-quickchart {\n",
              "      --bg-color: #3B4455;\n",
              "      --fill-color: #D2E3FC;\n",
              "      --hover-bg-color: #434B5C;\n",
              "      --hover-fill-color: #FFFFFF;\n",
              "      --disabled-bg-color: #3B4455;\n",
              "      --disabled-fill-color: #666;\n",
              "  }\n",
              "\n",
              "  .colab-df-quickchart {\n",
              "    background-color: var(--bg-color);\n",
              "    border: none;\n",
              "    border-radius: 50%;\n",
              "    cursor: pointer;\n",
              "    display: none;\n",
              "    fill: var(--fill-color);\n",
              "    height: 32px;\n",
              "    padding: 0;\n",
              "    width: 32px;\n",
              "  }\n",
              "\n",
              "  .colab-df-quickchart:hover {\n",
              "    background-color: var(--hover-bg-color);\n",
              "    box-shadow: 0 1px 2px rgba(60, 64, 67, 0.3), 0 1px 3px 1px rgba(60, 64, 67, 0.15);\n",
              "    fill: var(--button-hover-fill-color);\n",
              "  }\n",
              "\n",
              "  .colab-df-quickchart-complete:disabled,\n",
              "  .colab-df-quickchart-complete:disabled:hover {\n",
              "    background-color: var(--disabled-bg-color);\n",
              "    fill: var(--disabled-fill-color);\n",
              "    box-shadow: none;\n",
              "  }\n",
              "\n",
              "  .colab-df-spinner {\n",
              "    border: 2px solid var(--fill-color);\n",
              "    border-color: transparent;\n",
              "    border-bottom-color: var(--fill-color);\n",
              "    animation:\n",
              "      spin 1s steps(1) infinite;\n",
              "  }\n",
              "\n",
              "  @keyframes spin {\n",
              "    0% {\n",
              "      border-color: transparent;\n",
              "      border-bottom-color: var(--fill-color);\n",
              "      border-left-color: var(--fill-color);\n",
              "    }\n",
              "    20% {\n",
              "      border-color: transparent;\n",
              "      border-left-color: var(--fill-color);\n",
              "      border-top-color: var(--fill-color);\n",
              "    }\n",
              "    30% {\n",
              "      border-color: transparent;\n",
              "      border-left-color: var(--fill-color);\n",
              "      border-top-color: var(--fill-color);\n",
              "      border-right-color: var(--fill-color);\n",
              "    }\n",
              "    40% {\n",
              "      border-color: transparent;\n",
              "      border-right-color: var(--fill-color);\n",
              "      border-top-color: var(--fill-color);\n",
              "    }\n",
              "    60% {\n",
              "      border-color: transparent;\n",
              "      border-right-color: var(--fill-color);\n",
              "    }\n",
              "    80% {\n",
              "      border-color: transparent;\n",
              "      border-right-color: var(--fill-color);\n",
              "      border-bottom-color: var(--fill-color);\n",
              "    }\n",
              "    90% {\n",
              "      border-color: transparent;\n",
              "      border-bottom-color: var(--fill-color);\n",
              "    }\n",
              "  }\n",
              "</style>\n",
              "\n",
              "      <script>\n",
              "        async function quickchart(key) {\n",
              "          const quickchartButtonEl =\n",
              "            document.querySelector('#' + key + ' button');\n",
              "          quickchartButtonEl.disabled = true;  // To prevent multiple clicks.\n",
              "          quickchartButtonEl.classList.add('colab-df-spinner');\n",
              "          try {\n",
              "            const charts = await google.colab.kernel.invokeFunction(\n",
              "                'suggestCharts', [key], {});\n",
              "          } catch (error) {\n",
              "            console.error('Error during call to suggestCharts:', error);\n",
              "          }\n",
              "          quickchartButtonEl.classList.remove('colab-df-spinner');\n",
              "          quickchartButtonEl.classList.add('colab-df-quickchart-complete');\n",
              "        }\n",
              "        (() => {\n",
              "          let quickchartButtonEl =\n",
              "            document.querySelector('#df-cf1986f0-2335-4d80-9e2a-c0a962365630 button');\n",
              "          quickchartButtonEl.style.display =\n",
              "            google.colab.kernel.accessAllowed ? 'block' : 'none';\n",
              "        })();\n",
              "      </script>\n",
              "    </div>\n",
              "\n",
              "    </div>\n",
              "  </div>\n"
            ],
            "application/vnd.google.colaboratory.intrinsic+json": {
              "type": "dataframe",
              "summary": "{\n  \"name\": \"print(combi\",\n  \"rows\": 5,\n  \"fields\": [\n    {\n      \"column\": \"tweet\",\n      \"properties\": {\n        \"dtype\": \"object\",\n        \"num_unique_values\": 1,\n        \"samples\": [\n          \"\"\n        ],\n        \"semantic_type\": \"\",\n        \"description\": \"\"\n      }\n    },\n    {\n      \"column\": \"tidy_tweet\",\n      \"properties\": {\n        \"dtype\": \"object\",\n        \"num_unique_values\": 1,\n        \"samples\": [\n          \"\"\n        ],\n        \"semantic_type\": \"\",\n        \"description\": \"\"\n      }\n    }\n  ]\n}"
            }
          },
          "metadata": {}
        },
        {
          "output_type": "stream",
          "name": "stdout",
          "text": [
            "\n",
            "Columns after cleaning:\n",
            "Index(['tweet_id', 'label', 'tweet', 'id', 'clean_tweet', 'tidy_tweet'], dtype='object')\n"
          ]
        }
      ],
      "source": [
        "# Assuming the remove_pattern function is defined in a previous cell and accessible\n",
        "# If not, you might need to redefine it here or ensure the previous cell is executed.\n",
        "# For this step, I will assume remove_pattern is available.\n",
        "\n",
        "# Apply cleaning to remove @user and unwanted characters\n",
        "# Convert the 'tweet' column to string type to handle potential non-string values (already done in the previous step, but good to be explicit)\n",
        "combi['tweet'] = combi['tweet'].astype(str)\n",
        "combi['tidy_tweet'] = np.vectorize(remove_pattern)(combi['tweet'], \"@[\\w]*\")\n",
        "combi['tidy_tweet'] = combi['tidy_tweet'].str.replace(\"[^a-zA-Z#]\", \" \", regex=True)\n",
        "\n",
        "# Preview cleaned tweets and show columns to verify 'tidy_tweet' exists\n",
        "display(combi[['tweet', 'tidy_tweet']].head())\n",
        "print(\"\\nColumns after cleaning:\")\n",
        "print(combi.columns)"
      ]
    },
    {
      "cell_type": "code",
      "execution_count": null,
      "metadata": {
        "id": "ebbbd6d9"
      },
      "outputs": [],
      "source": [
        "import re\n",
        "import nltk\n",
        "import string\n",
        "import warnings\n",
        "import numpy as np\n",
        "import pandas as pd\n",
        "import seaborn as sns\n",
        "import matplotlib.pyplot as plt"
      ]
    },
    {
      "cell_type": "code",
      "source": [
        "words_to_check = ['label', 'day', 'happy', 'tragedy']\n",
        "\n",
        "for word in words_to_check:\n",
        "    if word in model_w2v.wv:\n",
        "        print(f\"{word}: {len(model_w2v.wv[word])}\")\n"
      ],
      "metadata": {
        "id": "1LRWhQG9byvK"
      },
      "execution_count": null,
      "outputs": []
    },
    {
      "cell_type": "markdown",
      "source": [
        "It means the word \"happy\" exists in your Word2Vec model, and the length of its corresponding word vector (embedding) is 200."
      ],
      "metadata": {
        "id": "Bgb3hRQAifL_"
      }
    },
    {
      "cell_type": "markdown",
      "source": [],
      "metadata": {
        "id": "Qcwkxemwie6x"
      }
    },
    {
      "cell_type": "code",
      "source": [
        "# All words in the model's vocabulary\n",
        "print(list(model_w2v.wv.index_to_key))\n"
      ],
      "metadata": {
        "id": "Lm91cMo_hTwg",
        "colab": {
          "base_uri": "https://localhost:8080/"
        },
        "outputId": "799c624e-fef0-42b9-f2bd-5d804b944307"
      },
      "execution_count": null,
      "outputs": [
        {
          "output_type": "stream",
          "name": "stdout",
          "text": [
            "['#modellovetakewithtimeurð\\x9f\\x93±!!!ð\\x9f\\x98\\x99ð\\x9f\\x98\\x8eð\\x9f\\x91\\x84ð\\x9f\\x91ð\\x9f\\x92¦ð\\x9f\\x92¦ð\\x9f\\x92¦', 'finallyfounddeletetweets!mightfindusefulwell:#deletetweets', \"yeahit'sgoodbingbongbingbong\", '#gratefulthat#affirmations', 'mightlibtardif...#libtard#sjw#liberal#politics', '#lighttherapyhelpwith#depression?#altwaystoheal#healthy#happy', '#feminismiscancer#feminismisterrorism#feminismmuktbharat#malevoteignored', 'ð\\x9f\\x94\\x9d#love#instagood#photoofthedaytop.tags#tbt#cute#beautiful#followme#followâ\\x80¦', 'saveloginsbrokers#change#memes#love#education#university', '#enjoy#music#today#free#apps#free#music', 'best#essentialoils#anxiety#healthy#peace#altwaystoheal', '#lighttherapyhelpwith#sad#depression?#altwaystoheal#healthy', \"#peoplearen'tprotesting#trumpbecause#republicanwon-theybecausetrumpfuhered&amp;â\\x80¦\", 'haveloverstopbeingangryvisitus..&gt;&gt;&gt;#lover#friend#astrologer#love', '#black&amp;feellikestompingyou?listen#retweet#tampa#miamiâ\\x80¦', 'amazinghealthbenefitscucumbers!#healthy#altwaystoheal!', 'lookingfeelmore#joy?joinspeakersfreesummit#unleashyourjoy', '#atherapy#musictherapyhealyourlife?#altwaystoheal#healthy#healing!', 'bihday', '&lt;3listenmostbeautifulbestfriendsingingwithmostamazingvoice&lt;3&lt;3&lt;3&lt;3', 'foods#healingyourbody!!#doplants!#healthy', 'shepherdsuppoersracist!#antiracism#seashepherd', 'thoughtfactory:left-rightpolarisation!#trump#uselections2016#leadership#politics#brexit#blm', 'poweryourmind#healyourbody!!#altwaystoheal#healthy#peace!', 'stuckrace?findyourfreedom.#masterkeyexperience', '#lawofattraction#healing!!#altwaystoheal#healthy', 'thankfullove.#thankful#positive', '#fathersdaygiftprouddads.available', 'todayperfect#happiness#lifecoach#reinventimpossible', 'safewayshealyour#acne!!#altwaystoheal#healthy#healing!!', 'best#lawofattraction#resources#healing!#altwaystoheal#healthy#idwp', 'laughing!cryingonlymakessad.#laugh#cry#distressed#anxious#change#mindset#depressed', '#healwith#lawofattraction#loa#altwaystoheal#healthy#wellness', 'poweryourmind#healyourbody!#altwaystoheal#healthy', '#music#therapytool#healing!#altwaystoheal#healthy', '#cloudchaserbullhillclimb:havereachtargetcompletetasksurvive.withstrong', 'angrysqueakingfrogvideo:#frog#nature#animals#cute#adorable', 'love#abrahamhicks#lawofattraction#healthy#healing#joytrain', 'what#detoxdiet?#altwaystoheal!#healthy', 'best#essentialoils#weightloss!!#altwaystoheal#healthy', 'herbalsleepremediesthatwork!!#altwaystoheal#healthy#healing', 'teengirlkilled,othersinjureddowntownoaklandshooting.#guns#mentalillness#gangsð\\x9f\\x87¨ð\\x9f\\x87¦ð\\x9f\\x87¨ð\\x9f\\x87¦ð\\x9f\\x87¨ð\\x9f\\x87¦#orlando', 'savethousandsfreesearchloginsbrokers#actor#seeklearning#stafresh', 'besthomeopathicremedies#anxiety#altwaystoheal#healing#peace', 'snowwhite--&gt;open!--&gt;#sleepy,#sneezy#bashful.today!', \"won'tspareleader#kolianwali,willmeetfate#ravisidhu:capt#amarinder\", \"photo'sjustbeenaccepted&amp;it'ssale#photography\", '&amp;#gratefulthat#moneycomes#increasingquantitiesfrom#multiplesources#continuousbasis', 'this', '#flagday2016#flag#day#2016#(30#photos)thingsabout\"flag2016\":', 'thankfulpassion.#thankful#positive', 'damn,thisreallymadetearlittle.#mustread', '#brokenbuffalosimulation:buffalotakevicinitytheirhomesthisway,', '#saysomethingbullwilldominateyourbullwilldirectwhateverwantwhen', '#lawofattraction#healing#loa#healthy#well#idwp', '#asedbullwilldominateyourbullwilldirectwhateverwantwhen', 'savedate!1-4-2017sourcenation!live#thependulum#newshow#policebrutalityâ\\x80¦', '#taylorswift1989bullwilldominateyourbullwilldirectwhateverwant', '#greensbullhillclimb:havereachtargetcompletetasksurvive.withstrongexcitem', 'powerful.#i_am#positive#affirmation', 'intelligent.#i_am#positive#affirmation', 'rss|ruggedmaxxx|#love#instagood#tbt#photooftheday#cute#beautiful#follâ\\x80¦', '#flowerlovebullwilldominateyourbullwilldirectwhateverwantwhen', '#herbalremedies#anxietythatwork!#altwaystoheal#healthy#healing#peace', '#parentebullwilldominateyourbullwilldirectwhateverwantwhen', '#tgif#gamedev#indiedev#indiegamedev#squad!', 'thrilling.#i_am#positive#affirmation', '#toptweeterslikethisâ\\x99¥#venusexchangeâ\\x99¥', \"removal#aapspokesperson#alkalambashowcases'dictatorial'mindset#kejriwal:\", '#spiritualgrowthbullwilldominateyourbullwilldirectwhateverwant', 'does#magnettherapyreallywork?#altwaystoheal#healing#healthy', 'justkeysthatfoundyourcomputer#enjoy#life.#inspiration#advice', 'thatcomeslastracedeclaredwinner?#putinschoice#putinspuppet#retweetâ\\x80¦', 'thankfulhope.#thankful#positive', 'bestessentialoils#healing!!#altwaystoheal#healthy', '#zaynmalikbullwilldominateyourbullwilldirectwhateverwantwhen', '#springfieldbullwilldominateyourbullwilldirectwhateverwantwhen', 'yourcommentsreflectionsignorance', \"mightgoinghell,we'resurprised#versace\", 'happy,workconference:rightmindsetleadsculture-of-developmentorganizations#work#mindset', 'thankfulhome.#thankful#positive', 'nuuring.#i_am#positive#affirmation', 'sometimes,takessmile#smile', 'glamorous.#i_am#positive#affirmation', 'choosingthoughtschoose#blessed#grateful#themoodcards', '#quotesilovepolarbearclimbracing:angrypolarbearclimbracing,polarbearlivingcoldplaces', '#rawfooddietbenefits!#altwaystoheal#healthy#healing#peace#joy#love', 'powerfulminutes#freepodcast#anxiety#stress#life#success#nowplaying', 'safe.#i_am#positive#affirmation', 'growalongwithbestâ\\x80\\x94robebrowning#wedding#love', 'thankfulfreedomspeech.#thankful#positive', '#justinbgorillasimulator:needadaptenvironment.needtearcity.materia', '#lessismorepolarbearclimbracing:angrypolarbearclimbracing,polarbearlivingcoldplaces', 'wantcreativeworkers,givethemenoughtimeplay.#success#quote', \"#facebookattackbullchase:whenleavedespitefactthatyou'restrongsource\", '#cotdpolarbearclimbracing:angrypolarbearclimbracing,polarbearlivingcoldplaceslooking', 'watch#weddingplanning#whenpeople', 'thankfullaughter.#thankful#positive', '#smaphonebullwilldominateyourbullwilldirectwhateverwantwhen', 'thankfulhavinginternetconnection.#thankful#positive', 'graceful.#i_am#positive#affirmation', 'genuine.#i_am#positive#affirmation', '#meditationgorillasimulator:needadaptenvironment.needtearcity.mate', 'refined.#i_am#positive#affirmation', 'founate.#i_am#positive#affirmation', 'blackcokwhiteass#kinky#snapshot#naughty#nasty#porn#wet#slut#horny#young#shy#xxx#sexy...', 'thankfulhavingpaner.#thankful#positive', '#peppabirds#lollipop#fingerfamily#nurseryrhymeslyric...', '#allahsoiltermjihadhighly-contestedconcept.#teambts#teamsuperjuniorâ\\x80¦', '#hispanicfeellikestompingyou?listen#retweet#boricuaâ\\x80¦', 'respected.#i_am#positive#affirmation', 'fabulous.#i_am#positive#affirmation', 'generous.#i_am#positive#affirmation', '#winterfashionbullwilldominateyourbullwilldirectwhateverwant', '#scribblepolarbearclimbracing:angrypolarbearclimbracing,polarbearlivingcoldplaces', '#tattoosleevesgorillasimulator:needadaptenvironment.needtearcity.', '#hispanic&amp;feelstompingyou?listen#retweet#boricua#miamiâ\\x80¦', 'thankfuleah.#thankful#positive', 'thankfulcountry.#thankful#positive', '#itwingplayimpoantrole2017polls:listoffice-bearers', '#decorsbuffalosimulation:buffalotakevicinitytheirhomesthisway,', '#fathersday#the#comfo#zone\":#father\\'s#daythingsabout\"fatherday\":', 'cutemuscleboys#nasty#wet#hot#young#slut#xxx#kinky#naughty#porn#sexy#shy#horny#nude', 'very#blackheathstandard#summerfairð\\x9f\\x98\\x84', 'thankfulphotographs.#thankful#positive', 'thankfulmistakes.#thankful#positive', 'thankfulsunshine.#thankful#positive', 'energetic.#i_am#positive#affirmation', '#allahsoillikereligions,islamstrongunifyingforce.#teambtsâ\\x80¦', 'thankfulforgiveness.#thankful#positive', 'thankfulclouds.#thankful#positive', 'have#success...thatorder!', '#bestseller#family#motivation\"neverwithout#dreamwakeupwithout#hope\"', 'happyworkco.nference:rightmindsetleadsculture-of-developmentorganizations#work#mindset', 'steps#healthy#aging', 'thankfulapologies.#thankful#positive', '#rainbowrowellbullwilldominateyourbullwilldirectwhateverwant', 'book#german#colonialismglobal#imperialism#blm', '#mountainsroostersimulation:wantclimbvastexpansemountains.reachedleakagecock', 'thriving.#i_am#positive#affirmation', 'happyday!#altwaystoheal#healthy', '#studioattackbullgamereallythinkthatheademptyaroundcity.eachside', '#trainhardpolarbearclimbracing:angrypolarbearclimbracing,polarbearlivingcoldplaces', '#nature_perfectionbullhillclimb:havereachtargetcompletetasksurvive.with', '#newstarbullwilldominateyourbullwilldirectwhateverwantwhen', 'thankfulfood.#thankful#positive', '#hispanic&amp;likestompingyou?listen#retweet#boricua#miamiâ\\x80¦', 'sirfashiqfollowkaren#iqbal#galib#wasi#faraz#mohsinfullpoetryfollowsend4o4o4', 'tylerperryclaimsâ\\x80\\x98reverseracismâ\\x80\\x99criticsseries#tyler#perry#claims#reverse#criticsâ\\x80¦â\\x80¦', '#contactcenters#quality#your#improve#fun#perks#avi#ootd#resultbestâ\\x80¦', 'bubbly.#i_am#positive#affirmation', 'cute.#i_am#positive#affirmation', 'spendyourlifewithpeoplemake#quote#inspiration', '#hafordbuffalosimulation:buffalotakevicinitytheirhomesthisway,', '#hispanic&amp;feellikestompingyou?listen#retweet#boricuaâ\\x80¦', 'revolutionoccurredâ\\x80\\x95justmarxexpected#teambts#teamsuperjuniorâ\\x80¦', 'sunday', '#late#gamedev#indiedev#indiegamedev#squad!', 'speciallytrainedofficerstopsangrydogswithoutviolence[video]', 'thankfulbeingablesee.#thankful#positive', 'thankfulbeingablelearn.#thankful#positive', 'haileysporn#sexy#shy#porn#horny#nasty#naughty#slut#hot#xxx#nude#wet#kinky#young', 'introductionhappydays#days', 'thankfulrain.#thankful#positive', 'thankfulplaces.#thankful#positive', '#drakeandjoshbuffalosimulation:buffalotakevicinitytheirhomesthis', '#quoteofthedaybullwilldominateyourbullwilldirectwhateverwant', 'ð\\x9f\\x8c¸the#gardenwisdom#wisdom#saturdaymorningð\\x9f\\x8c¸#flower#saterday#vine(vine', \"lots#resistance#challengesfromsomefavorite#thoughtleaders#mentorsit'sjust\", 'thankfulpeace.#thankful#positive', 'tipshelpflourish#positivity#success#growth#balance', 'thankfulfun.#thankful#positive', 'thankfulhavingfreedomvote.#thankful#positive', '#lightroombullwilldominateyourbullwilldirectwhateverwantwhen', 'â\\x80¦you#black&amp;feellikestompingyou?listen#retweet#tampa#miamiâ\\x80¦', 'nothingmakeshappierthantastymeal!#fathersday', '#filmbullwilldominateyourbullwilldirectwhateverwantwhen', \"it's#smilepowerday!showyourbestcheesygrinspearlywhites#smile#teeth\", \"happyworkconference:right'mindsetleadsculture-of-developmentorganizations#work#mindset\", 'thankfulsummer.#thankful#positive', '#playinggamesbuffalosimulation:buffalotakevicinitytheirhomesthis', 'elegant.#i_am#positive#affirmation', 'choosehappy,matterwhatyourcircumstancesare!willfreeyou!#smile', 'yes..youdecide...#happy', '#likescambullhillclimb:havereachtargetcompletetasksurvive.withstrongexcit', 'thankfulfridays.#thankful#positive', 'sharedthisoutright', 'thankfulbeingablewalk.#thankful#positive', 'painpleasure#music#melancholy#tragedy#emotions#study', 'thankfulvaccines.#thankful#positive', 'effoless.#i_am#positive#affirmation', 'toldthatimmigrantshaverapelongergettingrapedkind!â\\x80¦', 'givesomethingernie', 'medialiterallyinvestingmillionsjustdestroyislamsimage.', 'germany!ó¾¬\\x90#gogermany#em2016#family#love#germany#selfie#lovemyfamily#smileâ\\x80¦...', 'â\\x96ºâ\\x96ºâ\\x96ºtweepslostphonelaptoppassword', 'amazingmanâ\\x9d¤#amazing#man#perfect#love#man#sweety#dearest', 'arrived#nwwawithfinal#prosecco', '#petalpolarbearclimbracing:angrypolarbearclimbracing,polarbearlivingcoldplaceslookin', 'inter-terrestrial#scifi#sciencefiction#kindleunlimited#kindlebooksabout#prejudice', 'excellent!moremorecustomerswithrealprodissues#apachespark!developmentoperations!!!', 'from#prfectpitch.missepisode?playbackhere', '&lt;3&lt;3&lt;3&lt;3lookmostbeautifulbestfriendsingingwithmostamazingvoice&lt;3&lt;3&lt;3', 'thankfullife.#thankful#positive', 'bihdaybuddy', 'now.#feelgoodnow.thatâ\\x80\\x99sonlythinghave', 'thankfulhikingtrails.#thankful#positive', 'justcouponmailthatexpireddaysago.#whatdididotodeservethis#iwantmypotato', '#selamatmalam#coffee#timethankvisitingbeautifullongweekendâ\\x80¦', 'whenfeelrecognizing,expressing&amp;managinganger.printableactivity,colorb&amp;w', '#yooo#swaggybihdaythis#kid#right#here#one', 'alwayssings#flashligth', 'thisaint#tragic#superagic', '#graduationtonight!!!!â\\x9c\\x94ï¸\\x8fyearearly!!!#onwiththemusicð\\x9f\\x98\\x8eð\\x9f\\x8e¼â\\x9d\\x97ï¸\\x8fð\\x9f\\x91\\x8að\\x9f\\x8f¼', 'listenjakegullyhall#autocorrectshookthatferrethard.', 'light.#i_am#positive#affirmation', \"#kejriwalmustacceptrolemaking#udtapunjab',conspiracydefame#punjab:\", 'â\\x80\\x9clearnwithwhathavewhilepursuethatwant.â\\x80\\x9d#leadership#success', '#increase#profit#hits#salestweetsÂ£60-Â£500worldwide#photooftheday#beautiful', 'lifeboringwhenaround.happybihdayletâ\\x80\\x99smake#life#bihday#friends', 'happ.yworkconference:rightmindsetleadsculture-of-developmentorganizations#work#mindset', 'happypicturesvideos:#webcam#pictures#videos', 'brandâ\\x80¢hsâ\\x80¢â\\x9d¤ï¸\\x8fð\\x9f\\x8d¾', 'justdaysuntilchampionshipfixturesannounced.#bees#brentfordfc', 'thankfulwarmrunningwater.#thankful#positive', 'thankfulfallleaves.#thankful#positive', \"normalizationisn't\", \"stressed?don'tloseyourself#greatbook#amreading#relax#life\", 'fathersday#fathers#day#saying#quotes#imagesthingsabout\"happyfathâ\\x80¦', 'ashleymorrisx#nude#xxx#slut#nasty#wet#sexy#naughty#kinky#young#hot#porn#shy#horny', \"#fathersdaylookingsomethingwhat'strendingyourcommunity\", 'exiting!!loveeverythingrepresents!!!#growth#expand', '#ottawa#policeconfirmofficerpostedcommentsabout#anniepootoogookâ\\x80\\x99sdeath#aptn2016â\\x80¦', 'happycolorshappysummer!#summer#fashion#colors#handmade#jewelry#hamsa#necklace#pink#shells#fashionable#y', 'whitelandhighschoolindianawhitecommunitywantskeepnativemascot.#notyourmascotâ\\x80¦', 'bitterness#ebook#happiness#freetoday!', 'takescountrydowntoo.justfeedorangeclown.', 'saidbreakingeasy.theytellthatthistimewould#single#life', \"punishmentdoesn'tworkwithchildren.here'swhatdoes:\", 'goodmorningguys#love#instagood#photooftheday#fashion#cute#summer#fun#smile', '#sikh#templevandalised#calgary,#wsocondemns', 'thankfulnow.#thankful#positive', '#burlap#farm-dogs#fun-dogs#animals#cute#funnyplaying#hay', 'lifewhatmakeletâ\\x80\\x99smake#motivation', 'just', \"it'stime#yesawardswinnerannouncements!\", 'missingsmallhumanâ\\x9d¤ï¸\\x8fnothinggoodwithout#girlie#snugs', 'lawsuitalleges#versacestore', '#visitinggorillasimulator:needadaptenvironment.needtearcity.materi', 'loveall.trustfew.wrongnone#friends#workâ\\x80¦', 'happybihdaybabygirllillyð\\x9f\\x8e\\x82ð\\x9f\\x8e\\x82ð\\x9f\\x92\\x9eð\\x9f\\x92\\x9eyearsalreadywhoopwhoopð\\x9f\\x92\\x9eð\\x9f\\x92\\x9e#bihday#girl', 'town\"whiteland\"fightsnativeamericanschoolmascot#notyourmascot#whiteprivilege', 'thankfulkisses.#thankful#positive', 'what?exclusiveditchlabelwilldroppingnextweek!', \"ationalbedfriendsdayy'allbeenwithfromjump\", 'thisterribletragedy!r.i.p#christinagrimmieworldscaryplace#heabroken', 'sexlessseason.lovescenesimpoantsee.#disappointed#puzzled#outlander', 'donaldyourunfavorabilityratingð\\x9f\\x98\\x82ð\\x9f\\x98\\x82ð\\x9f\\x98\\x82ð\\x9f\\x98\\x82ð\\x9f\\x98\\x82ð\\x9f\\x98\\x82ð\\x9f\\x98\\x82', 'weddingteaser&amp;photography#wedding#photography#bride#groom#moments', '#zumbatonight!wellowhall,#romsey-7pm.havetunes#fitness#dancefit#noneedtobookð\\x9f\\x92\\x83ð\\x9f\\x8f¼ð\\x9f\\x92\\x83ð\\x9f\\x8f¼ð\\x9f\\x92\\x83ð\\x9f\\x8f¼ð\\x9f\\x92\\x83ð\\x9f\\x8f¼ð\\x9f\\x98\\x8e', 'thankfulstars.#thankful#positive', 'ð\\x9f\\x98\\x94#socialmedianiifqatarinvestmentauthorityinksboostinfra...', 'thankfulgettingencouragement.#thankful#positive', 'docutopicsincl.:dividing#labor,#iww,#syndicalism,#revolutionaryunionism,#childlabor,#anarchism,lâ\\x80¦', 'dazzling.#i_am#positive#affirmation', 'hopeguysreadyrequested#rage#callofduty#gaming#youtube#ragenation', \"can'talbumuntiltomorrow,readreview:\", 'thisvideowhenreferredsen.warrenpocahontasstablepatternignorance.â\\x80¦', 'willneverunderstandleftwhenyoung....#deep#inthefeels', 'electronicmusicfrom#bogota#colombia#puntohost#cedm#edm#fashion#music', \"onlyretweetsoverhalfthat'sbecauseownerslikehubby&amp;don'trespectyourfanaticism\", '#oambosoon!!#sasocp16', \"havebegunsomething#newthispage&amp;superaboutit'sdailytarotguidancewitha...\", \"trump'slonghistoryexplained1970'sthru2016#nevermypresident#theresistance\", 'burntgarlicbread#devastated', \"he'sadmittinghavingsmallstaff???#flipflopper#disgraceful\", \"isn'tlove...isn't....\", '#macbookgorillasimulator:needadaptenvironment.needtearcity.materia', 'thankfulhealth.#thankful#positive', 'happyworkconference:rig.htmindsetleadsculture-of-developmentorganizations#work#mindset', 'knowing.#i_am#positive#affirmation', 'tylerward&amp;cimorellicoverpharrellwilliams#music#video', 'comingsoonamazon#coloringbook#oliviagraceowens', '#nakedbustylovethismuch!', 'stepsaging#healthy', '#badventcalendarday24#trump#election2016.#donatef*kinsave2016ð\\x9f\\x91\\x89', '#marathonbullwilldominateyourbullwilldirectwhateverwantwhen', '#weekend&amp;#ramadan#everyonefindyourdream#propeythis#weekendwith#dubai#uae...', 'troubleupdatingblackberrypasspo10.3.2.2836alwaysstopinstallingneedhelp.', 'finallyfounddeletetweets!mightfindusefulwell:#deletetweâ\\x80¦', 'seemslikeepisodeearlierwatching...#aldubthesender', 'thankfulcompliments.#thankful#positive', '&gt;ironicallyusingimagesdoverrallywhereantifaretreatedredditlicktheirwounds', 'anyscott#young#nasty#nude#naughty#horny#wet#sexy#porn#slut#xxx#hot#kinky#snapshot#shy', 'goodmorning!hopeyourshappymine!extreme#masochistcomingsessionfew.', 'â\\x80\\x9cwepeopleâ\\x80\\x9doriginallymeantâ\\x80\\x9cwewhite,landholdingmales.â\\x80\\x9d#2017in3wordsâ\\x80¦', '#dentalclinic#bangalorewishesvery#morning...!!', 'sirfashiqfollowkaren#iqbal#galib#wasi#faraz#mohsinfullpoetryfollow', '#allahsoilbearâ\\x80\\x99srapacioushungeralsosealeddoom.#teambtsâ\\x80¦', 'ð\\x9f\\x98\\x84#smile#smilingtop.tags#toptags#smiles#beautifulsmile#smiley#smilee#pretty', 'jesserushotcomplimentspresentsmakehorny.daddy!:#slut#shy#sexy#snapshot#xxx...', 'thatpeoplemustthinkgooddrugsjustreallygoodactors.#happiness#joy#flow#love', '[trans]160609bigbadboii_1219:dragonboatfestival#', '\"therealitythattechindustrymaderegular-asspeople.\"#tech#discrimination', \"kindsay:â\\x80\\x9edon'tworry,!â\\x80\\x9c#dogsarejoy\", 'thankfulgoodhealth.#thankful#positive', 'tranquil.#i_am#positive#affirmation', '#samsunggalaxys2roostersimulation:wantclimbvastexpansemountains.reachedleakage', 'happyfathersday!!!!#fathers#day', 'thankfulbabygiggles.#thankful#positive', 'thankfulhavingsensesmell.#thankful#positive', '#select#retailers:#planet#organic#lemonadesave$1.00size.#cashbackoffers...', '[backview]#blowoutsbringhappinessanotherclient!havebookedyourappointment', \"#iâ\\x9d¤ï¸\\x8fmfthat'sofficial!!firstchildprotectionvetting#muchly\", 'excitedfeaturedsummerissue#fashionista#fashionblogger', 'acquaintedwith#punjabiculture,#kejriwaltryinglure#punjabis:', 'feelingsabout#landfill#worried#guilty#solution#depressed#teamcarpitza##empathy#yyc', 'ryderrideutogether:#snapshot#young#shy#kinky#wet#porn#hot#xxx#horny#s...', 'theresmoreinstructivelensthroughwhichviewhistoryâ\\x80\\x95thelensempire.â\\x80¦â\\x80¦', 'alreemgroup#aly_alshahawy#cute#summer#photographerdubai#sun#hair#mydubaiâ\\x80¦', 'mostracistu.s.presidentsamericaspromisesequalitylies', \"rightnailit'shellagreeingshareð\\x9f¤\\x94\", 'alabamacountyrefuseslowerflaghonororlandoshootingvictims.beenloweredenteainer', 'fathersday#father\\'s#day!#the#columbus#postthingsabout\"happyfaâ\\x80¦', '#cedarrapidsbullwilldominateyourbullwilldirectwhateverwantwhen', '#leicesterpoliceofficersackedafterfilmedusinglanguage#england', 'havethis!thismakes#float#perfectly.', 'most#muslimfamiliesused#decoratetheirhomesshowthey#ramadan', '#tragedy#happydaysknowledgeempowerssite::love#blindonly#marriageopensyoureyes', 'video!very#manspreadingyear!#manspread#mansplain#happynewyear', '#childhoodbullwilldominateyourbullwilldirectwhateverwantwhen', 'happy^workconference:rightmindsetleadsculture-of-developmentorganizations#work#mindset', '#angels#archangelsfromhighherehelplive#spirituallives', '\"florida\"missestoo.soon!!!!ð\\x9f\\x98\\x89ð\\x9f\\x92\\x97â\\x98\\x80ï¸\\x8fð\\x9f\\x8c´ð\\x9f\\x8d¹ð\\x9f\\x90\\x9að\\x9f\\x8c\\x8að\\x9f\\x87ºð\\x9f\\x87¸', 'thankfulschool.#thankful#positive', 'your#cute,notesetting\"cuddlealarm\":verymuchaâ\\x80¦', 'thankfulparents.#thankful#positive', \"#fitnessaddictattackbullchase:whenleavedespitefactthatyou'restrongsource\", '83-yr-oldwomanbeaten&amp;fireblackgang,wherecries', 'goodreadlovelyweatherwhat.whatmoredoessomeoneneedfromholidayð\\x9f\\x98\\x80#ibiza#escanar', 'hellyeahwhatgreatsurpriseyourpresentenjoythispicture#bihday', 'attractive.#i_am#positive#affirmation', 'devastatesjournalistthat#misogyny&amp;over-rodejournalisticintegrity.pressdespisedtheâ\\x80¦', \"muchlovedadstheretodayespeciallybrianl'italien!#fatherâ\\x80¦\", 'read#dancingmakeshere:', 'nashvilletourmonday!!#nashvilleontourð\\x9f\\x92\\x97', 'whateverdecidemakesuremakes', 'holaentrega!happynow.#flowerlamp#acrilic#design#likesforlikes', 'makes', '#tailstravelingtoday#fureverhomesfavouritetime#targoviste#adoptdontshop', 'healthy.#i_am#positive#affirmation', 'optimistic.#i_am#positive#affirmation', 'joinessence#life.www.face#care#inspire#love#quote#quoteoftheday#suppo', \"eightwaysguaranteeyou'llmiserable#happiness\", 'feelingwithbookinside#pharrellwilliams&amp;kidslove', 'congratulationsqualifyinggirlschampionship.#proud', 'thankfulsundays.#thankful#positive', 'afterphoto#cwp#diet#essex#london#weightloss#healthy', '#gameshowbullhillclimb:havereachtargetcompletetasksurvive.withstrongexcit', 'ð\\x9f\\x87¦ð\\x9f\\x87ºdoesnâ\\x80\\x99thavemonopolytherewilledignorancegovtbarbaritythatdeeplyshames#refugeesâ\\x80¦', 'ha.ppyworkconference:rightmindsetleadsculture-of-developmentorganizations#work#mindset', 'almostshieldcharger(~20seconddelay,mobsaroundwhenstaed.', 'rock#logo#audiojungle;#soundclip:#royaltyfreemusic', 'originalillustrationmissyou,swordtruthinspiredkahlan,siâ\\x80¦#jankala', '#tgif#gamer#squad!', 'doesbeing#hungrylongtimemake#irritated#science', '\"somedon\\'tknowdontcareaboutdestructionwronginformationbring\"', '#photoshopbullwilldominateyourbullwilldirectwhateverwantwhen', \"#4daysleftrelease*newmusic*'suit'yourselfreadyanotherbang!ð\\x9f\\x92¥â\\x9c¨ð\\x9f\\x99\\x8câ\\x9c\\x8c\", '#vehiclegorillasimulator:needadaptenvironment.needtearcity.materia', \"isn'ttimejustcallthem#neonazis?#minimize#hate#antisemitism?needtoâ\\x80¦\", '\"nigger?\"#lifelessonswhitegrew60\\'s.#blogpost#whitepeople#respectâ\\x80¦', 'year', '#koreagorillasimulator:needadaptenvironment.needtearcity.material', 'havehappyweekendð\\x9f\\x8cºâ\\x98ºï¸\\x8fð\\x9f\\x8d\\x82#weekend#friday#success#nature#flower#life#good#kuwait', \"whenfeelchildren'sstoryaboutrecognizing,expressingmanagingsadness.\", 'brave.#i_am#positive#affirmation', \"ransoms#landlordswere#cats....thiswhatthey'dlooklike!join&amp;ð\\x9f\\x98\\x8a#exeter\", '[facebook]22nd2015ë\\x9e©ëª¬day#btsrmday2015', 'enjoy#life', 'delahmade#playlisteveryoneovehinkingtn..?ovehinking?delahnoche*#music#blah#vibes', '#bestsellers#inspiration#golf\"neverwithout#dreamwakeupwithout#hope\"', 'when#kids#parenting#toddlers', 'bunchkidstwitterworkforcelifethinktheyruleplanetlmfao.', 'thankfulbeingableremember.#thankful#positive', 'haveonlinesourcingsystemopentalklivewebsitesametime.#brokers', 'massivecensorship', 'luisenjoyingmedalalmostmuch1.57.41#soggyfeet#thisgirlcan', '#hispanic&amp;feellikestompingyou?listen#retweet#boricua#miami#newyork#losangeles', 'bookedreadyconstruct2016austin!#csi#construct', 'super.#i_am#positive#affirmation', 'afterlongstrollharbourhavereward(big)gins.with#sunseaandlariosð\\x9f\\x92\\x99', 'somepeopletweetwithoutgrammaticalerroronlywhentheycopytheirtweetsfromaicleð\\x9f\\x98\\x82ð\\x9f\\x98\\x82ð\\x9f\\x98\\x82ð\\x9f\\x98\\x82ð\\x9f\\x98\\x82', 'excitedthiswithgirlssunday!#labyrinth#girlsnight#popupcinema', 'goodnight!#goodmorning#rio#carioca#brasil#love#day#sun#fall#autumn#sky#beachâ\\x80¦', 'victorious.#i_am#positive#affirmation', 'ð\\x9f\\x94´fridayhistoryoutfitpostð\\x9f\\x94\\x9b#fashion#look#friendsfluencers', 'ð\\x9f\\x8c\\x8eteamwith#new&amp;showwhat#phillysuppophilly&amp;combat', 'family#baby#son#boyfriend#family#love#make#memories', 'bihdayfriendmusicdirectorð\\x9f\\x8e\\x82ð\\x9f\\x8e\\x88ð\\x9f\\x8e¸ð\\x9f\\x8e·ð\\x9f\\x8e¶ð\\x9f\\x8d¸ð\\x9f\\x8d»ð\\x9f\\x8dºð\\x9f\\x8d»ð\\x9f\\x8d»ð\\x9f\\x8d»', '#bill-of-materials#uncover#take#unleashed#dazzling#oomf#gmr#created#toolkit', 'happywor.kconference:rightmindsetleadsculture-of-developmentorganizations#work#mindset', 'markyourcalendarsnow!!', 'dang', \"longbellyain'tshitbettermakefakepages\", 'thankfulbeingablethink.#thankful#positive', 'headed#stratford-upon-avonsuppo', 'happy.#i_am#positive#affirmation', 'bookenduringconviction:fredkorematsu&amp;quest#justice#humanrightshtâ\\x80¦', 'thankfulhavingcleansheets.#thankful#positive', 'fullvegas#broke', 'bypo:echocide#waterislife#poetry#poem#solidarity#nodapl#climatejustice#climatechage#epa#classwar', 'whatmotivatesanyonewalkintonightclubslaughterinnocentpeople?worldgonemad!!!', 'onlyraces.thereonlyracehumanrace.', '#nationalicedday!!!ó¾\\x81\\x8eó¾\\x8c§ó¾¬\\x94#celebratingoffering#deliciousblends,teasand...', 'stepssell#structuredsettlement#read#share#home#write#vitorr#staup#live#usa#england#house', 'bride:womanwithfineprospecthappinessbehindher.â\\x80\\x94ambrosebierce#wedding#love', 'theirthesevids,dontmeantheywotching,theyare,different,therehilariouâ\\x80¦', 'with', '#swnycstas#sweparis', 'active.#i_am#positive#affirmation', 'thisangeldeathpleasestop...#ripkeshiearlier,#ripamodushuaiburepoedlydiedchestpains.', 'insidehomeorlandoterrorist#omar#mateen#loser#belief#fanatic#islam#culture#anger', '#jacksonvilleroostersimulation:wantclimbvastexpansemountains.reachedleakage', \"don'tcountdays,makedayscount.#spring#memoriesð\\x9f\\x8c¸#flowers#...(vine\", 'wanthappier?yourselfthis#simplequestioneverymorning', 'needaddressdehumanisation&amp;stereotypingtackleemploymentpeoplewithdisabilities', 'willneverunderstandpeoplecollegecomebackhangwithhighschoolð\\x9f\\x98\\x82ð\\x9f\\x98\\x82', '#trumpusawhentheycall#homophobic#misogynisttheyreallysayingtheyjealous', 'liveworldrapeenablersbecausecoachfootball.', 'mostsinisteraspect&amp;goalendemic#bjpgovt.#punjab', \"damncan'tbelieveshotkilledconce#thevoice\", 'beautifulframes#michaelfassbender#jamesmcavoy#cherik#mcfassy#mcavoy#shipper#flim', '#eur/gbpdeflatesfromhighs,back0.7920#blog#silver#gold#forex', '2playmaisonjohnny+more!', 'just#fuckedanother#faggot#asscuntwith#strapon.bothð\\x9f\\x92°ð\\x9f\\x94±ð\\x9f\\x91\\x8d', 'mostracistever!!!!!', \"indicativewe'vefallen.\", '#kidsbookstories#0.99only#animals#friendship#adventure#iag#bookboost', '#black&amp;feellikestompingâ\\x80¦?listen#retweet#tampa#miamiâ\\x80¦', 'â\\x80\\x9cbewiththosehelpyourbeing.â\\x80\\x9drumi#peace#love#life#happinessâ\\x80¦', 'abundant.#i_am#positive#affirmation', 'plentyprepgoinglaunch!!thisnightlaunch...finally!#thehelenblake', 'happyworkconference:right/mindsetleadsculture-of-developmentorganizations#work#mindset', 'lucky.#i_am#positive#affirmation', \"becausemakeupisn'tmuch#moneymakerace-baitâ\\x80¦\", 'want#joy#life#time', 'walkerrunning', 'happy#worldgindayliningthemalready!ð\\x9f\\x8d¹ð\\x9f\\x8d¹ð\\x9f\\x8d¹#gin#rhubarb', 'thissecretsauce#employees', 'reliable.#i_am#positive#affirmation', 'joinwithmeð\\x9f\\x91»ð\\x9f\\x99\\x8c#snapchat#musically#smule#like4likes#likeforlikes', 'unproductivetoday', 'wereborn?#life#purpose#god#children', 'calm.#i_am#positive#affirmation', 'thankfulfarmersfarmersmarkets.#thankful#positive', 'verylittleneededmake#life;withinyourself,yourthinking.', 'retweetlovehavinghealthybrain!#healthy', '#allahsoilriyadhrenownedsomedeadliesttrafficworld.â\\x80¦â\\x80¦', 'thankfulpuppies.#thankful#positive', 'amazinghealthbenefitscucumbers!#healthy#doplants!', 'magictidyingbrendapalmer#goodread#amazon#reading#decluttering', 'delayingtactics#sit#bjp1984riots.', 'thankfulcelebrations.#thankful#positive', 'surprise!adamsaleh(davidwood)', \"#fathersday#father's#day#craft#beer#&amp;#kitchencraft#beer#&amp;#kitchentâ\\x80¦\", '#western#academictaughtwrongthings', \"emma'sleavingdon'twantfreefoodfriday=#easesthepain!#lovinrewards\", 'simplethankyoutakes.#customers#marketers#socialmedia#wahm', \"don'tmiss#acapitolfouhcentral#4thofjuly#uscapitol#july4thpbs\", 'lookinggoodbirmingham!!!', 'truthful.#i_am#positive#affirmation', 'sunset!!!â\\x9d¤ï¸\\x8f#islamorada#beachtime#swimming#boatday#beautifullsunset#loveâ\\x80¦', 'thankfultears.#thankful#positive', '#omg!#priyankachopraadmitfacing#hollywood?readinsideknowdetails!!#bollywood#gossipâ\\x80¦', 'smokers:billleakstickershelpavoidthinkingwhatsmokingdoingyou.', 'prayorlando.', 'lovelyhavefourbookstogethercatalogue!#author', 'craigfamily#silenceiscomplicity#theresistance#fascism', 'happymondayeveryone!letsmakegoodweek#mondaymotivation#freshsta#healthyð\\x9f\\x92ª', \"can'twaitryanmainhouse#bbuk\", \"don'trepothis?#eng#euros2016#notallhooligans\", 'groupslidewithsibs#unbiosibs#slideâ\\x80¦', 'happymarriageuniongoodforgivers.â\\x80\\x94robequillen#wedding#love', 'treatlikebeginning.....therewillend.#blessed', 'back!', 'sensitivefanshaverightwith#xmenapocalypsemovieposter?', 'orlandoweepfamilieshumanbeingsmurderedbecausehatredbigotry.#pride2016', 'globalwind#gogreen#cleanenergy!', '#pjk:suicidesnumberoverdoses#hr2646#irrelevant#bill#thathelpsnoone#end#dentalcrisis', 'hellyeahupdates!ð\\x9f\\x91\\x8c#simcity', 'lemmecatchthatbrockbitchstreets', '#yellenwouldmakegreat#politician:saysnothing,peoplebelievedrivel.', 'thiswillamazinglytalkshowthisthursdayhifistudio', '#saturday!hopeenjoythisrecentf-16takeoff#weekend#aviation#avgeek', 'thankfulchallenges.#thankful#positive', 'weekwillthatplane!â\\x9c\\x88ï¸\\x8f#summerholiday#marbsâ\\x98\\x80ï¸\\x8fð\\x9f\\x92\\x83ð\\x9f\\x8f»ð\\x9f\\x91\\x99ð\\x9f\\x8d¹ð\\x9f\\x98\\x80ð\\x9f\\x98\\x8eð\\x9f\\x91\\x8cð\\x9f\\x92ð\\x9f\\x8f»ð\\x9f\\x8dºð\\x9f\\x8d¾', 'patriotsmotherrussia,sure...#treasonoustrump#fascist#puppet#traitor', 'stillshockwinningbestjewellercategorycountybridesawards!#nwwa#wedding#award', 'whattolerantpoliceforce.', 'lifeonlycomesaroundoncewhatevermakes', 'wondermanyhappymemoriesstoremindsthatremember.#memory', 'whiledickheadeatsprawnsdrinksgrange!!!', 'trumpemployeeinstructedwritecolored\"housingapplicationsthatpersonwoulddenied.', 'mainstreetvibes#lifeisgood#mainstreetð\\x9f¦\\x84', 'love#colinkaepernick!deservethataward!thankstandingagainsthatred!', 'alwaysremember,forgotthings.,thatmadeneverforgotthings,thatmade#glad.', \"let'sthisstaed#spnphx#spnfamily#waywardaf\", 'lovesummertimeð\\x9f\\x8c\\x9eð\\x9f\\x8c¿#summerâ\\x98\\x80ï¸\\x8f', 'lovethisquote!!&lt;3&lt;3#retweetlovetoo!#disney#alice#movie#quote#love#disneyland#mickey', '#goodmorning#worldit`s#rainingday', 'ð\\x9f\\x92¥somebullshitð\\x9f\\x92¥goingcolleges/universitiestheseracistviewspoisoningurð\\x9f\\x98³kidsspeak2lateâ\\x80¦', 'tyruswong,â\\x80\\x98bambiâ\\x80\\x99aistthwaedracialbias,dies#animation', '#womenfare2016?#misogyny#genderequity', \"can'twaittreatkidsknewthere#bowlingalley\", 'happychristmaslater', 'whenwillfireprovider,directoreditorapproved\"resolutionswhiteguys?\"', 'havebeenchosen#winnerthisgreat#competition!digitalengagecompetition', 'disgusting#blacklivesmatterdoingwhattheybest:beinglosersmotivatedtheirthesefoolsareâ\\x80¦', '#thursdayeveryone!wishing#sunny#daysâ\\x98\\x80ï¸\\x8f&amp;lots#blue#skies...(vine', 'impressive.#i_am#positive#affirmation', '#stripesbullwilldominateyourbullwilldirectwhateverwantwhen', \"trumpwilllessappealingjuly.delegatesaren'tboundnominatecruz.chancemaga.\", '#olathepolarbearclimbracing:angrypolarbearclimbracing,polarbearlivingcoldplaceslooki', 'saidpersonwithtweetsfollowers.', 'don\\'tevenknowwhatthis.....\"ð\\x9f\\x98°', 'normalizethis:a&amp;eâ\\x80\\x99s#kkkdocuseriescancelled#news#photoops', 'carefulwithadvice.soldsoul.#faust#blacklivesmatter', 'francehaverecentterroristattacks.english\"fans\"willfindpolicetotallyunsympathetic', 'thankfulrainbows.#thankful#positive', 'whatmakeswithmakessmile,laughmuchbreathelovelonglive.', 'nice.#i_am#positive#affirmation', 'brittany9#slut#nude#sexy#naughty#horny#xxx#kinky#wet#porn#snapshot#shy#nasty#hot#young', \"#fathersdayguysthere,#young#oldit'syour#today#enjoyâ\\x80¦\", 'coolevenwhenhavesockâ\\x9d¤ï¸\\x8fsocks.#maximus#puppy#dog#sock#lovesocksâ\\x80¦', 'regrannfrom#prayfororlandoð\\x9f\\x99\\x8f#regrann', 'playingdoublesfriday!ð\\x9f\\x98\\x84', 'impoantthingsallow#child', 'ð\\x9f\\x8c\\x9fð\\x9f\\x8c\\x8cð\\x9f\\x94\\x9d#love#instagood#photoofthedaytop.tags#tbt#cute#beautiful#followme', 'junenewslettercommunityevents:#brokencalendar#sendyoureventdetails', 'electrifying.#i_am#positive#affirmation', 'mightwellusedthiskindresponseyou,especiallycontinuecateryoâ\\x80¦', '#ripchristina#ripgrimmiewillmisschristinagrimmie!#muchlove#rip#mourning', 'curryfouled', 'makeoverweight#dog#health#problem', 'whenfeelstory:recognizing,expressingmanaginganger.#printable,colorb&amp;w!', 'happyw.orkconference:rightmindsetleadsculture-of-developmentorganizations#work#mindset', 'cat.#photogridcuteness.themeyes.#instasize#perfection', 'favoritecaoonsfrom2016:#trump#race#hate', 'thankfuleyesight.#thankful#positive', 'amazing.#i_am#positive#affirmation', \"don'tcountdays,makedayscountð\\x9f\\x98\\x98ð\\x9f\\x98\\x98#flower#friday#vine(vine\", 'danish#imamtried#antijewishincitement#denmark#jail', '#guitar#chillen#writing#coffee#bed#music', 'highesthappinesshappinessmarriage.â\\x80\\x94williamlyonphelps#wedding#love', \"followers!thankmucheveryonecouldn'tdonewithoutall!#grateful#muchlove\", 'glassesjohnlennonworewhenshotkilledyorkdecember8/1980', 'lifeshould#selfhelpecoursedesigned#livinghappyinsideout.', 'thankfulcomfo.#thankful#positive', 'successful.#i_am#positive#affirmation', 'reallylikeð\\x9f\\x91\\x8dð\\x9f\\x8f»#life#live#math#sad#teen', 'bothalwayswannalikeme...', '#antidepressants#ruin#serotoninneveragain#pills', \"#nationalbestfriendsdaydon'thave\", 'popular.#i_am#positive#affirmation', 'harmonious.#i_am#positive#affirmation', 'hatehavingdreams#dream#crying', 'thisgonnamoreinterestingupcomingð\\x9f\\x92\\x93ð\\x9f\\x92\\x93#kuchrangpyarkeaisebhi', 'restpeacefriend.', 'thankfulinternet.#thankful#positive', 'motivationalvideosyoutubecannotinspirewakeearly.#health#fitness', 'relaxingpianomusickeepyour#quietduring#july4th#fireworks', 'healthybody,healthymind#productive', 'coldfoughtoveroil.#teambts#teamsuperjunior#allahsoilâ\\x80¦', '#i_am#positive#affirmation', 'singles#kurdssuspension.', 'regrannfrom#thursday#family', 'launchesdividedcommunityproject', 'aroundhousespoutingwhileyour\"broad\"doeswork.mustnicebeingaâ\\x80¦', 'exerciseyoursmiletoday!#weekend#smile#exercise#fitness', 'plymouthroadlocation#traverwoodreplacesgreenroadstore.', 'tweepscheckthisdudeoutâ¬\\x87ï¸\\x8f', 'jewishtalmudmostbodyworkeverwritten.', \"would'veplayed!ð\\x9f\\x98\\x80ð\\x9f\\x98\\x80\", 'thankfulhavingfreedom.#thankful#positive', \"seeksprobeinto#udtapunjab'leak,pointsfinger#amarinder,#aap\", 'justtheirthesevids,dontmeantheywotching,theytherehilarious,mustwatcâ\\x80¦', 'thankfulhavingsensetouch.#thankful#positive', 'becomingugly#patriarchy#feminist#feminism', 'electronicmusicfrom#bogota#colombia#puntohost#edm#ibiza#fashion#envivo#music#live', '#orchidsearlymorningmakingsmileâ\\x98ºâ\\x9d¤#exciting#orchidsofinstagramâ\\x80¦', \"proudwillrepresentirelandat2016worlduniversityrowingchamp'swomen'sseniorsinglescullð\\x9f\\x92ªð\\x9f\\x8f¼\", 'ð\\x9f\\x8d\\x87â\\x9d¤ï¸\\x8fâ\\x9d¤ï¸\\x8fâ\\x9d¤ï¸\\x8f#june2016#goodmemories#goodtimes#friendship#got7#flyinbangkok#mark', 'terriblenewsaustinyelchinpassedawayð\\x9f\\x98¢ð\\x9f\\x98¢ð\\x9f\\x98¢#gameofthrones#starek#news#news23#ripð\\x9f\\x91\\x87', '#trumpsamericawillsuckbiglygov.cuomocondemnscarlpaladinoâ\\x80\\x98,uglyâ\\x80\\x99remarksobamas', 'adorable.#i_am#positive#affirmation', \"ð\\x9f\\x98\\x80everythingyou'vealwayswantedacrossfunkð\\x9f\\x91\\x8f#selfie#smile#moment#lifeâ\\x80¦\", '#mondaymotivationeveryonedancethisupbeat,#cardiohip-hoproutine:', 'sunday#blessfamo', '#inkedpolarbearclimbracing:angrypolarbearclimbracing,polarbearlivingcoldplaceslookin', \"saletodaydon'tcrossthisbloke!#cheatingwife\", '#bigot', 'every#minutelosesixtyseconds#happiness.ralphwaldoemerson#quote', 'yourvegetables.d.r.a.m#dram#broccoli#lilyachty#music#musicvideo#dance#lovedance#music', \"don't#worry\", 'imaginative.#i_am#positive#affirmation', 'happy*workconference:rightmindsetleadsculture-of-developmentorganizations#work#mindset', 'fromarchives:thoughtshappiness#happiness#contentment#want#blog#grateful#wonderful', 'goodmorning!ð\\x9f\\x98\\x84ð\\x9f\\x99\\x8bð\\x9f\\x8f»ð\\x9f\\x92\\x97#goodmorning#hello#fancywithnewhaircut#letsgooslo,norway', 'ð\\x9f\\x98\\x82over', 'johnsonpublishingsellsebony,magazinestexasfirmchicagotribune', 'thursday#love,alwaysthatshining\"star\",havebeautifulâ\\xad\\x90ð\\x9f\\x8c\\x9fð\\x9f\\x8e¶ð\\x9f\\x8c·â\\x9d¤', 'firstgrimmiediesorlandoshooting?thisworldhome.#confusedð\\x9f\\x92\\x94', 'this#puppy#makes', 'thankfulthisapp.#thankful#positive', 'indeed!#wisdomoverflowsmcgimillionthanksgod!ð\\x9f\\x98\\x87ó¾¬\\x8fó¾\\x8c§ó¾¬\\x98ð\\x9f\\x98\\x87#blessed#forevergratefulfeeling...', 'holman:trulywalkedwalk.lifewelllived.lossmore&gt;&gt;', 'pretty.#i_am#positive#affirmation', 'spirited.#i_am#positive#affirmation', '#like4like#likeforlikealways#hours#tagsforlikes#instapic#instagood#instafashionâ\\x80¦', 'more..morning..#fighting#fashionblogger#fashionillustrator#fashionillustrationâ\\x80¦', 'lookthathomescreen']\n"
          ]
        }
      ]
    },
    {
      "cell_type": "code",
      "source": [
        "def word_vector(tokens, size):\n",
        "    vec = np.zeros((1, size))\n",
        "    count = 0.\n",
        "    for word in tokens:\n",
        "        try:\n",
        "            vec += model_w2v.wv[word].reshape((1, size))\n",
        "            count += 1.\n",
        "        except KeyError:\n",
        "            continue\n",
        "    if count != 0:\n",
        "        vec /= count\n",
        "    return vec"
      ],
      "metadata": {
        "id": "K2LP34mJmBpe"
      },
      "execution_count": null,
      "outputs": []
    },
    {
      "cell_type": "code",
      "source": [
        "import numpy as np\n",
        "import pandas as pd\n",
        "\n",
        "wordvec_arrays = np.zeros((len(tokenized_tweet), 200))  # assuming size=200\n",
        "\n",
        "for i in range(len(tokenized_tweet)):\n",
        "    wordvec_arrays[i,:] = word_vector(tokenized_tweet[i], 200)\n",
        "\n",
        "wordvec_df = pd.DataFrame(wordvec_arrays)\n",
        "print(wordvec_df.shape)"
      ],
      "metadata": {
        "colab": {
          "base_uri": "https://localhost:8080/"
        },
        "id": "LyhphtPmn9RQ",
        "outputId": "3d1fc686-cd66-43f7-ac75-c3297d38146e"
      },
      "execution_count": null,
      "outputs": [
        {
          "output_type": "stream",
          "name": "stdout",
          "text": [
            "(49160, 200)\n"
          ]
        }
      ]
    },
    {
      "cell_type": "code",
      "source": [
        "from tqdm import tqdm\n",
        "tqdm.pandas (desc=\"progress-bar\")\n",
        "from gensim.models.doc2vec import TaggedDocument\n"
      ],
      "metadata": {
        "id": "J-yF_0bDoJMZ"
      },
      "execution_count": null,
      "outputs": []
    },
    {
      "cell_type": "code",
      "source": [
        "from gensim.models.doc2vec import TaggedDocument\n",
        "\n",
        "def add_label(twt):\n",
        "    output = []\n",
        "    for i, s in zip(twt.index, twt):\n",
        "        output.append(TaggedDocument(s, [\"tweet_\" + str(i)]))\n",
        "    return output\n",
        "\n",
        "labeled_tweets = add_label(tokenized_tweet)  # label all the tweets\n"
      ],
      "metadata": {
        "id": "Nw1BG7Qjokyi"
      },
      "execution_count": null,
      "outputs": []
    },
    {
      "cell_type": "code",
      "source": [
        "labeled_tweets[:6]"
      ],
      "metadata": {
        "colab": {
          "base_uri": "https://localhost:8080/"
        },
        "id": "SXqvur_trbde",
        "outputId": "02f01645-ad68-49fc-aaeb-577d07b09503"
      },
      "execution_count": null,
      "outputs": [
        {
          "output_type": "execute_result",
          "data": {
            "text/plain": [
              "[TaggedDocument(words=[], tags=['tweet_0']),\n",
              " TaggedDocument(words=[], tags=['tweet_1']),\n",
              " TaggedDocument(words=[], tags=['tweet_2']),\n",
              " TaggedDocument(words=[], tags=['tweet_3']),\n",
              " TaggedDocument(words=[], tags=['tweet_4']),\n",
              " TaggedDocument(words=[], tags=['tweet_5'])]"
            ]
          },
          "metadata": {},
          "execution_count": 238
        }
      ]
    },
    {
      "cell_type": "code",
      "source": [
        "from gensim.models import Doc2Vec\n",
        "\n",
        "model_d2v = Doc2Vec(\n",
        "    documents=labeled_tweets,  # your labeled/TaggedDocument list\n",
        "    dm=1,            # distributed memory model\n",
        "    dm_mean=1,       # use mean of context vectors\n",
        "    vector_size=200, # number of features\n",
        "    window=5,        # context window\n",
        "    negative=7,      # negative sampling\n",
        "    min_count=5,     # minimum word frequency\n",
        "    workers=4,       # parallel training\n",
        "    epochs=30        # number of training iterations\n",
        ")"
      ],
      "metadata": {
        "id": "OEb4LJq_rhGb"
      },
      "execution_count": null,
      "outputs": []
    },
    {
      "cell_type": "code",
      "source": [
        "docvec_arrays = np.zeros((len(tokenized_tweet), 200))\n",
        "\n",
        "for i in range(len(tokenized_tweet)):\n",
        "    tag = f\"tweet_{i}\"\n",
        "    docvec_arrays[i, :] = model_d2v.dv[tag]  # correct way to access vector\n",
        "\n",
        "docvec_df = pd.DataFrame(docvec_arrays)\n",
        "print(docvec_df.shape)"
      ],
      "metadata": {
        "id": "EVR8tzjMtMOp"
      },
      "execution_count": null,
      "outputs": []
    },
    {
      "cell_type": "code",
      "source": [
        "from sklearn.linear_model import LogisticRegression\n",
        "from sklearn.model_selection import train_test_split\n",
        "from sklearn.metrics import f1_score"
      ],
      "metadata": {
        "id": "A-huFTqHtxX1"
      },
      "execution_count": null,
      "outputs": []
    },
    {
      "cell_type": "code",
      "source": [
        "from sklearn.model_selection import train_test_split\n",
        "from sklearn.linear_model import LogisticRegression\n",
        "from sklearn.metrics import f1_score\n",
        "import numpy as np"
      ],
      "metadata": {
        "id": "eXbP0Dmgt7hb"
      },
      "execution_count": null,
      "outputs": []
    },
    {
      "cell_type": "code",
      "metadata": {
        "id": "2a7cf8b0"
      },
      "source": [
        "import re\n",
        "import nltk\n",
        "import string\n",
        "import warnings\n",
        "import numpy as np\n",
        "import pandas as pd\n",
        "import seaborn as sns\n",
        "import matplotlib.pyplot as plt\n",
        "from sklearn.feature_extraction.text import TfidfVectorizer, CountVectorizer\n",
        "from sklearn.model_selection import train_test_split\n",
        "from sklearn.linear_model import LogisticRegression\n",
        "from sklearn.metrics import f1_score\n",
        "from gensim.models import Word2Vec, Doc2Vec\n",
        "from gensim.models.doc2vec import TaggedDocument\n",
        "from tqdm import tqdm"
      ],
      "execution_count": null,
      "outputs": []
    },
    {
      "cell_type": "code",
      "metadata": {
        "id": "bbddb267"
      },
      "source": [
        "# Load train file line by line and parse manually\n",
        "train_data = []\n",
        "with open(\"/content/train_E6oV3lV.csv\", 'r', encoding='utf-8') as f:\n",
        "    # Skip the header row\n",
        "    next(f)\n",
        "    for line in f:\n",
        "        # Split each line by tab\n",
        "        parts = line.strip().split('\\t')\n",
        "        if len(parts) == 3:\n",
        "            train_data.append(parts)\n",
        "        # Handle potential lines with more or less parts if necessary\n",
        "        # print(f\"Skipping line with incorrect number of parts: {line.strip()}\")\n",
        "\n",
        "\n",
        "# Create a DataFrame from the parsed data\n",
        "train = pd.DataFrame(train_data, columns=[\"tweet_id\", \"label\", \"tweet\"])\n",
        "\n",
        "# Load test file with correct headers\n",
        "test = pd.read_csv(\"/content/test_tweets_anuFYb8.csv\", encoding='utf-8', header=None, names=['tweet_id', 'tweet'])\n",
        "\n",
        "# Combine train and test, keeping the 'label' column only from the train data\n",
        "combi = pd.concat([train, test], ignore_index=True)\n",
        "\n",
        "# Ensure tweet column is string in combi\n",
        "combi['tweet'] = combi['tweet'].astype(str)\n",
        "\n",
        "# Convert 'label' column to numeric, coercing errors\n",
        "combi['label'] = pd.to_numeric(combi['label'], errors='coerce').fillna(-1).astype(int)\n",
        "\n",
        "\n",
        "print(\"Combined data shape:\", combi.shape)\n",
        "display(combi.head())\n",
        "print(\"\\nValue counts for label column after manual loading and combining:\")\n",
        "print(combi['label'].value_counts(dropna=False))"
      ],
      "execution_count": null,
      "outputs": []
    },
    {
      "cell_type": "code",
      "metadata": {
        "id": "25c11537"
      },
      "source": [
        "# Function to remove patterns from text\n",
        "def remove_pattern(input_txt, pattern):\n",
        "    r = re.findall(pattern, str(input_txt))  # Convert to string to handle potential NaN\n",
        "    for i in r:\n",
        "        input_txt = re.sub(i, '', str(input_txt))\n",
        "    return input_txt\n",
        "\n",
        "# Apply cleaning to remove @user\n",
        "combi['tidy_tweet'] = np.vectorize(remove_pattern)(combi['tweet'], r\"@[\\w]*\")\n",
        "\n",
        "# Remove special characters, numbers, and punctuation (keeping hashtags)\n",
        "combi['tidy_tweet'] = combi['tidy_tweet'].str.replace(\"[^a-zA-Z#]\", \" \", regex=True)\n",
        "\n",
        "# Remove short words (length 3 or less)\n",
        "combi['tidy_tweet'] = combi['tidy_tweet'].apply(lambda x: ' '.join([w for w in x.split() if len(w)>3]))\n",
        "\n",
        "# Convert tidy_tweet to string type and fill NaN with empty string\n",
        "combi['tidy_tweet'] = combi['tidy_tweet'].astype(str).fillna('')\n",
        "\n",
        "print(\"Data after cleaning:\")\n",
        "display(combi[['tweet', 'tidy_tweet']].head())"
      ],
      "execution_count": null,
      "outputs": []
    },
    {
      "cell_type": "markdown",
      "metadata": {
        "id": "52a1f7ac"
      },
      "source": [
        "## Data Analysis and Visualization"
      ]
    },
    {
      "cell_type": "markdown",
      "metadata": {
        "id": "7d3ff070"
      },
      "source": [
        "### A) Understanding the common words used in the tweets: WordCloud"
      ]
    },
    {
      "cell_type": "code",
      "metadata": {
        "id": "655ab11b"
      },
      "source": [
        "# Generate word cloud for all tweets\n",
        "all_words = ' '.join([text for text in combi['tidy_tweet']])\n",
        "from wordcloud import WordCloud\n",
        "wordcloud = WordCloud(width=800, height=500, random_state=21, max_font_size=110).generate(all_words)\n",
        "\n",
        "plt.figure(figsize=(10, 7))\n",
        "plt.imshow(wordcloud, interpolation=\"bilinear\")\n",
        "plt.axis('off')\n",
        "plt.title(\"Word Cloud of All Tweets\")\n",
        "plt.show()"
      ],
      "execution_count": null,
      "outputs": []
    },
    {
      "cell_type": "markdown",
      "metadata": {
        "id": "a03fa107"
      },
      "source": [
        "### B) Words in non-racist/sexist tweets (label == 0)"
      ]
    },
    {
      "cell_type": "code",
      "metadata": {
        "id": "2dc9b9da"
      },
      "source": [
        "# Generate word cloud for non-racist/sexist tweets\n",
        "from wordcloud import WordCloud\n",
        "import matplotlib.pyplot as plt\n",
        "\n",
        "# Filter rows where label is 0 (non-racist/sexist), drop NaNs, and join into a single string\n",
        "filtered_tweets = combi[(combi['label'] == 0) & (combi['tidy_tweet'].notnull())]\n",
        "normal_words = ' '.join(filtered_tweets['tidy_tweet'].astype(str).tolist())\n",
        "\n",
        "# Check if it's empty before generating the word cloud\n",
        "if normal_words.strip():\n",
        "    wordcloud = WordCloud(width=800, height=500, random_state=21, max_font_size=110).generate(normal_words)\n",
        "\n",
        "    plt.figure(figsize=(10, 7))\n",
        "    plt.imshow(wordcloud, interpolation=\"bilinear\")\n",
        "    plt.axis('off')\n",
        "    plt.title(\"Word Cloud of Non-Racist/Sexist Tweets\")\n",
        "    plt.show()\n",
        "else:\n",
        "    print(\"No valid tweets found for label 0.\")\n"
      ],
      "execution_count": null,
      "outputs": []
    },
    {
      "cell_type": "markdown",
      "metadata": {
        "id": "5ed44c01"
      },
      "source": [
        "### C) Words in racist/sexist tweets (label == 1)"
      ]
    },
    {
      "cell_type": "code",
      "metadata": {
        "id": "04964473"
      },
      "source": [
        "from wordcloud import WordCloud\n",
        "import matplotlib.pyplot as plt\n",
        "\n",
        "# Filter tweets with label == 1 and ensure tidy_tweet is not null\n",
        "filtered_tweets = combi[(combi['label'] == 1) & (combi['tidy_tweet'].notnull())]\n",
        "\n",
        "# Join all the tweets into a single string\n",
        "negative_words = ' '.join(filtered_tweets['tidy_tweet'].astype(str).tolist())\n",
        "\n",
        "# Check if the text is non-empty before generating the word cloud\n",
        "if negative_words.strip():\n",
        "    wordcloud = WordCloud(width=800, height=500, random_state=21, max_font_size=110).generate(negative_words)\n",
        "\n",
        "    plt.figure(figsize=(10, 7))\n",
        "    plt.imshow(wordcloud, interpolation=\"bilinear\")\n",
        "    plt.axis('off')\n",
        "    plt.title(\"Word Cloud of Racist/Sexist Tweets\")\n",
        "    plt.show()\n",
        "else:\n",
        "    print(\"No valid tweets found for label 1.\")"
      ],
      "execution_count": null,
      "outputs": []
    },
    {
      "cell_type": "markdown",
      "metadata": {
        "id": "82a20ee4"
      },
      "source": [
        "### D) Understanding the impact of Hashtags on tweets sentiment"
      ]
    },
    {
      "cell_type": "code",
      "metadata": {
        "id": "c8d23150"
      },
      "source": [
        "# function to collect hashtags\n",
        "def hashtag_extract(tweets):\n",
        "    hashtags = []\n",
        "    # Loop over the words in the tweet\n",
        "    for tweet in tweets:\n",
        "        ht = re.findall(r\"#(\\w+)\", tweet)\n",
        "        hashtags.append(ht)\n",
        "    return hashtags\n",
        "\n",
        "# extracting hashtags from non racist/sexist tweets\n",
        "# Ensure the label column is not NaN and filter\n",
        "HT_regular = hashtag_extract(combi.loc[combi['label'] == '0', 'tidy_tweet'].astype(str).dropna())\n",
        "\n",
        "# extracting hashtags from racist/sexist tweets\n",
        "# Ensure the label column is not NaN and filter\n",
        "HT_negative = hashtag_extract(combi.loc[combi['label'] == '1', 'tidy_tweet'].astype(str).dropna())\n",
        "\n",
        "# unnesting list\n",
        "HT_regular = sum(HT_regular, [])\n",
        "HT_negative = sum(HT_negative, [])"
      ],
      "execution_count": null,
      "outputs": []
    },
    {
      "cell_type": "markdown",
      "metadata": {
        "id": "5c9bec79"
      },
      "source": [
        "### Non-Racist/Sexist Tweets Hashtag Frequency"
      ]
    },
    {
      "cell_type": "code",
      "metadata": {
        "id": "832a28dd"
      },
      "source": [
        "import nltk\n",
        "a = nltk.FreqDist(HT_regular)\n",
        "d = pd.DataFrame({'Hashtag': list(a.keys()), 'Count': list(a.values())})\n",
        "# selecting top 20 most frequent hashtags\n",
        "d = d.nlargest(columns=\"Count\", n=20)\n",
        "plt.figure(figsize=(16, 5))\n",
        "ax = sns.barplot(data=d, x=\"Hashtag\", y=\"Count\")\n",
        "ax.set(ylabel='Count')\n",
        "plt.xticks(rotation=45, ha='right') # Rotate x-axis labels\n",
        "plt.title(\"Top 20 Hashtags in Non-Racist/Sexist Tweets\")\n",
        "plt.show()"
      ],
      "execution_count": null,
      "outputs": []
    },
    {
      "cell_type": "markdown",
      "metadata": {
        "id": "f23d5bf3"
      },
      "source": [
        "### Racist/Sexist Tweets Hashtag Frequency"
      ]
    },
    {
      "cell_type": "code",
      "metadata": {
        "id": "944c2dd3"
      },
      "source": [
        "import nltk\n",
        "b = nltk.FreqDist(HT_negative)\n",
        "e = pd.DataFrame({'Hashtag': list(b.keys()), 'Count': list(b.values())})\n",
        "# selecting top 20 most frequent hashtags\n",
        "e = e.nlargest(columns=\"Count\", n=20)\n",
        "plt.figure(figsize=(16, 5))\n",
        "ax = sns.barplot(data=e, x=\"Hashtag\", y=\"Count\")\n",
        "ax.set(ylabel='Count')\n",
        "plt.xticks(rotation=45, ha='right') # Rotate x-axis labels\n",
        "# Add frequency count on top of each bar\n",
        "for container in ax.containers:\n",
        "    ax.bar_label(container)\n",
        "plt.title(\"Top 20 Hashtags in Racist/Sexist Tweets\")\n",
        "plt.show()"
      ],
      "execution_count": null,
      "outputs": []
    },
    {
      "cell_type": "code",
      "metadata": {
        "id": "dde12c18"
      },
      "source": [
        "print(combi['label'].value_counts(dropna=False))\n",
        "print(combi['label'].unique())"
      ],
      "execution_count": null,
      "outputs": []
    },
    {
      "cell_type": "markdown",
      "metadata": {
        "id": "5ffac135"
      },
      "source": [
        "## Data Analysis and Visualization (Re-run after fixing label column)"
      ]
    },
    {
      "cell_type": "markdown",
      "metadata": {
        "id": "b34c6359"
      },
      "source": [
        "### A) Understanding the common words used in the tweets: WordCloud"
      ]
    },
    {
      "cell_type": "code",
      "metadata": {
        "id": "02731e03"
      },
      "source": [
        "# Function to remove patterns from text\n",
        "def remove_pattern(input_txt, pattern):\n",
        "    r = re.findall(pattern, str(input_txt))  # Convert to string to handle potential NaN\n",
        "    for i in r:\n",
        "        input_txt = re.sub(i, '', str(input_txt))\n",
        "    return str(input_txt) # Ensure output is string\n",
        "\n",
        "# Apply cleaning to remove @user\n",
        "combi['tidy_tweet'] = np.vectorize(remove_pattern)(combi['tweet'], r\"@[\\w]*\")\n",
        "\n",
        "# Remove special characters, numbers, and punctuation (keeping hashtags and spaces)\n",
        "combi['tidy_tweet'] = combi['tidy_tweet'].str.replace(\"[^a-zA-Z#]\", \" \", regex=True)\n",
        "\n",
        "# Remove short words (length 3 or less)\n",
        "combi['tidy_tweet'] = combi['tidy_tweet'].apply(lambda x: ' '.join([w for w in x.split() if len(w)>3]))\n",
        "\n",
        "# Convert tidy_tweet to string type and fill NaN with empty string\n",
        "combi['tidy_tweet'] = combi['tidy_tweet'].astype(str).fillna('')\n",
        "\n",
        "# Generate word cloud for all tweets\n",
        "all_words = ' '.join([text for text in combi['tidy_tweet']])\n",
        "from wordcloud import WordCloud\n",
        "wordcloud = WordCloud(width=800, height=500, random_state=21, max_font_size=110).generate(all_words)\n",
        "\n",
        "plt.figure(figsize=(10, 7))\n",
        "plt.imshow(wordcloud, interpolation=\"bilinear\")\n",
        "plt.axis('off')\n",
        "plt.title(\"Word Cloud of All Tweets\")\n",
        "plt.show()"
      ],
      "execution_count": null,
      "outputs": []
    },
    {
      "cell_type": "markdown",
      "metadata": {
        "id": "0a66746e"
      },
      "source": [
        "### B) Words in non-racist/sexist tweets (label == 0)"
      ]
    },
    {
      "cell_type": "code",
      "metadata": {
        "id": "be2d3c9f"
      },
      "source": [
        "import re\n",
        "import numpy as np\n",
        "import pandas as pd\n",
        "import matplotlib.pyplot as plt\n",
        "from wordcloud import WordCloud\n",
        "from nltk.corpus import stopwords\n",
        "\n",
        "# Download stopwords\n",
        "import nltk\n",
        "nltk.download('stopwords')\n",
        "stop = set(stopwords.words('english'))\n",
        "\n",
        "# Show label distribution\n",
        "print(\"Label counts:\\n\", combi['label'].value_counts())\n",
        "\n",
        "# Clean function\n",
        "def remove_pattern(input_txt, pattern):\n",
        "    r = re.findall(pattern, str(input_txt))\n",
        "    for i in r:\n",
        "        input_txt = re.sub(i, '', str(input_txt))\n",
        "    return str(input_txt)\n",
        "\n",
        "# Apply cleaning\n",
        "combi['tidy_tweet'] = np.vectorize(remove_pattern)(combi['tweet'], r\"@[\\w]*\")\n",
        "combi['tidy_tweet'] = combi['tidy_tweet'].str.replace(\"[^a-zA-Z#]\", \" \", regex=True)\n",
        "combi['tidy_tweet'] = combi['tidy_tweet'].astype(str).fillna('').str.lower()\n",
        "combi['tidy_tweet'] = combi['tidy_tweet'].apply(lambda x: ' '.join([w for w in x.split() if len(w) >= 3]))\n",
        "combi['tidy_tweet'] = combi['tidy_tweet'].apply(lambda x: ' '.join([w for w in x.split() if w not in stop]))\n",
        "\n",
        "# Show a sample cleaned tweet\n",
        "print(\"\\nSample cleaned tweet:\", combi['tidy_tweet'].iloc[0])\n",
        "\n",
        "# Generate word cloud\n",
        "normal_tweets = combi[combi['label'] == 0]['tidy_tweet'].dropna()\n",
        "if not normal_tweets.empty:\n",
        "    normal_words = ' '.join(normal_tweets)\n",
        "    wordcloud = WordCloud(width=800, height=500, random_state=21, max_font_size=110).generate(normal_words)\n",
        "\n",
        "    plt.figure(figsize=(10, 7))\n",
        "    plt.imshow(wordcloud, interpolation=\"bilinear\")\n",
        "    plt.axis('off')\n",
        "    plt.title(\"Word Cloud of Non-Racist/Sexist Tweets\")\n",
        "    plt.show()\n",
        "else:\n",
        "    print(\"\\n❌ No non-racist/sexist tweets (label 0) found after cleaning!\")\n"
      ],
      "execution_count": null,
      "outputs": []
    },
    {
      "cell_type": "markdown",
      "metadata": {
        "id": "32c16be0"
      },
      "source": [
        "### C) Words in racist/sexist tweets (label == 1)"
      ]
    },
    {
      "cell_type": "code",
      "metadata": {
        "id": "7e1c2da8"
      },
      "source": [
        "import re\n",
        "import numpy as np\n",
        "import matplotlib.pyplot as plt\n",
        "from wordcloud import WordCloud\n",
        "\n",
        "# Function to remove patterns from text\n",
        "def remove_pattern(input_txt, pattern):\n",
        "    r = re.findall(pattern, str(input_txt))  # Convert to string to handle potential NaN\n",
        "    for i in r:\n",
        "        input_txt = re.sub(i, '', str(input_txt))\n",
        "    return str(input_txt)  # Ensure output is string\n",
        "\n",
        "# Apply cleaning to remove @user\n",
        "combi['tidy_tweet'] = np.vectorize(remove_pattern)(combi['tweet'], r\"@[\\w]*\")\n",
        "\n",
        "# Remove special characters, numbers, and punctuation (keep hashtags and spaces)\n",
        "combi['tidy_tweet'] = combi['tidy_tweet'].str.replace(\"[^a-zA-Z#]\", \" \", regex=True)\n",
        "\n",
        "# Convert to string and handle NaN\n",
        "combi['tidy_tweet'] = combi['tidy_tweet'].astype(str).fillna('')\n",
        "\n",
        "# Generate word cloud for racist/sexist tweets (label == 1)\n",
        "negative_tweets = combi[combi['label'] == 1]['tidy_tweet'].dropna()\n",
        "\n",
        "if not negative_tweets.empty:\n",
        "    negative_words = ' '.join(negative_tweets)\n",
        "    wordcloud = WordCloud(width=800, height=500, random_state=21, max_font_size=110).generate(negative_words)\n",
        "\n",
        "    plt.figure(figsize=(10, 7))\n",
        "    plt.imshow(wordcloud, interpolation=\"bilinear\")\n",
        "    plt.axis('off')\n",
        "    plt.title(\"Word Cloud of Racist/Sexist Tweets\")\n",
        "    plt.show()\n",
        "else:\n",
        "    print(\"❌ No racist/sexist tweets found (label = 1) after cleaning.\")\n"
      ],
      "execution_count": null,
      "outputs": []
    },
    {
      "cell_type": "markdown",
      "metadata": {
        "id": "b1b233fa"
      },
      "source": [
        "### D) Understanding the impact of Hashtags on tweets sentiment"
      ]
    },
    {
      "cell_type": "code",
      "metadata": {
        "id": "9d042b94"
      },
      "source": [
        "# Function to remove patterns from text\n",
        "def remove_pattern(input_txt, pattern):\n",
        "    r = re.findall(pattern, str(input_txt))  # Convert to string to handle potential NaN\n",
        "    for i in r:\n",
        "        input_txt = re.sub(i, '', str(input_txt))\n",
        "    return str(input_txt) # Ensure output is string\n",
        "\n",
        "# Apply cleaning to remove @user\n",
        "combi['tidy_tweet'] = np.vectorize(remove_pattern)(combi['tweet'], r\"@[\\w]*\")\n",
        "\n",
        "# Remove special characters, numbers, and punctuation (keeping hashtags and spaces)\n",
        "combi['tidy_tweet'] = combi['tidy_tweet'].str.replace(\"[^a-zA-Z#]\", \" \", regex=True)\n",
        "\n",
        "# Convert tidy_tweet to string type and fill NaN with empty string\n",
        "combi['tidy_tweet'] = combi['tidy_tweet'].astype(str).fillna('')\n",
        "\n",
        "\n",
        "# function to collect hashtags\n",
        "def hashtag_extract(tweets):\n",
        "    hashtags = []\n",
        "    # Loop over the words in the tweet\n",
        "    for tweet in tweets:\n",
        "        ht = re.findall(r\"#(\\w+)\", tweet)\n",
        "        hashtags.append(ht)\n",
        "    return hashtags\n",
        "\n",
        "# extracting hashtags from non racist/sexist tweets\n",
        "# Ensure the label column is not NaN and filter\n",
        "HT_regular = hashtag_extract(combi.loc[combi['label'] == 0, 'tidy_tweet'].astype(str).dropna())\n",
        "\n",
        "# extracting hashtags from racist/sexist tweets\n",
        "# Ensure the label column is not NaN and filter\n",
        "HT_negative = hashtag_extract(combi.loc[combi['label'] == 1, 'tidy_tweet'].astype(str).dropna())\n",
        "\n",
        "# unnesting list\n",
        "HT_regular = sum(HT_regular, [])\n",
        "HT_negative = sum(HT_negative, [])"
      ],
      "execution_count": null,
      "outputs": []
    },
    {
      "cell_type": "markdown",
      "metadata": {
        "id": "ecb36f21"
      },
      "source": [
        "### Non-Racist/Sexist Tweets Hashtag Frequency"
      ]
    },
    {
      "cell_type": "code",
      "metadata": {
        "id": "97567ab6"
      },
      "source": [
        "import nltk\n",
        "\n",
        "# Function to remove patterns from text\n",
        "def remove_pattern(input_txt, pattern):\n",
        "    r = re.findall(pattern, str(input_txt))  # Convert to string to handle potential NaN\n",
        "    for i in r:\n",
        "        input_txt = re.sub(i, '', str(input_txt))\n",
        "    return str(input_txt) # Ensure output is string\n",
        "\n",
        "# Apply cleaning to remove @user\n",
        "combi['tidy_tweet'] = np.vectorize(remove_pattern)(combi['tweet'], r\"@[\\w]*\")\n",
        "\n",
        "# Remove special characters, numbers, and punctuation (keeping hashtags and spaces)\n",
        "combi['tidy_tweet'] = combi['tidy_tweet'].str.replace(\"[^a-zA-Z#]\", \" \", regex=True)\n",
        "\n",
        "# Convert tidy_tweet to string type and fill NaN with empty string\n",
        "combi['tidy_tweet'] = combi['tidy_tweet'].astype(str).fillna('')\n",
        "\n",
        "# extracting hashtags from non racist/sexist tweets\n",
        "# Ensure the label column is not NaN and filter\n",
        "HT_regular = hashtag_extract(combi.loc[combi['label'] == 0, 'tidy_tweet'].astype(str).dropna())\n",
        "\n",
        "a = nltk.FreqDist(HT_regular)\n",
        "d = pd.DataFrame({'Hashtag': list(a.keys()), 'Count': list(a.values())})\n",
        "# selecting top 20 most frequent hashtags\n",
        "d = d.nlargest(columns=\"Count\", n=20)\n",
        "plt.figure(figsize=(16, 5))\n",
        "ax = sns.barplot(data=d, x=\"Hashtag\", y=\"Count\")\n",
        "ax.set(ylabel='Count')\n",
        "plt.xticks(rotation=45, ha='right') # Rotate x-axis labels\n",
        "plt.title(\"Top 20 Hashtags in Non-Racist/Sexist Tweets\")\n",
        "plt.show()"
      ],
      "execution_count": null,
      "outputs": []
    },
    {
      "cell_type": "markdown",
      "metadata": {
        "id": "b612389e"
      },
      "source": [
        "### Racist/Sexist Tweets Hashtag Frequency"
      ]
    },
    {
      "cell_type": "code",
      "metadata": {
        "id": "50ff1c97"
      },
      "source": [
        "import nltk\n",
        "\n",
        "# Function to remove patterns from text\n",
        "def remove_pattern(input_txt, pattern):\n",
        "    r = re.findall(pattern, str(input_txt))  # Convert to string to handle potential NaN\n",
        "    for i in r:\n",
        "        input_txt = re.sub(i, '', str(input_txt))\n",
        "    return str(input_txt) # Ensure output is string\n",
        "\n",
        "# Apply cleaning to remove @user\n",
        "combi['tidy_tweet'] = np.vectorize(remove_pattern)(combi['tweet'], r\"@[\\w]*\")\n",
        "\n",
        "# Remove special characters, numbers, and punctuation (keeping hashtags and spaces)\n",
        "combi['tidy_tweet'] = combi['tidy_tweet'].str.replace(\"[^a-zA-Z#]\", \" \", regex=True)\n",
        "\n",
        "# Convert tidy_tweet to string type and fill NaN with empty string\n",
        "combi['tidy_tweet'] = combi['tidy_tweet'].astype(str).fillna('')\n",
        "\n",
        "\n",
        "# extracting hashtags from racist/sexist tweets\n",
        "# Ensure the label column is not NaN and filter\n",
        "HT_negative = hashtag_extract(combi.loc[combi['label'] == 1, 'tidy_tweet'].astype(str).dropna())\n",
        "\n",
        "\n",
        "b = nltk.FreqDist(HT_negative)\n",
        "e = pd.DataFrame({'Hashtag': list(b.keys()), 'Count': list(b.values())})\n",
        "# selecting top 20 most frequent hashtags\n",
        "e = e.nlargest(columns=\"Count\", n=20)\n",
        "plt.figure(figsize=(16, 5))\n",
        "ax = sns.barplot(data=e, x=\"Hashtag\", y=\"Count\")\n",
        "ax.set(ylabel='Count')\n",
        "plt.xticks(rotation=45, ha='right') # Rotate x-axis labels\n",
        "# Add frequency count on top of each bar\n",
        "for container in ax.containers:\n",
        "    ax.bar_label(container)\n",
        "plt.title(\"Top 20 Hashtags in Racist/Sexist Tweets\")\n",
        "plt.show()"
      ],
      "execution_count": null,
      "outputs": []
    },
    {
      "cell_type": "markdown",
      "metadata": {
        "id": "fc4d28fe"
      },
      "source": [
        "### Inspecting data after cleaning but before removing short words"
      ]
    },
    {
      "cell_type": "code",
      "metadata": {
        "id": "4f893324"
      },
      "source": [
        "# Function to remove patterns from text (redefined for clarity in this inspection step)\n",
        "def remove_pattern(input_txt, pattern):\n",
        "    r = re.findall(pattern, str(input_txt))  # Convert to string to handle potential NaN\n",
        "    for i in r:\n",
        "        input_txt = re.sub(i, '', str(input_txt))\n",
        "    return str(input_txt) # Ensure output is string\n",
        "\n",
        "# Apply cleaning to remove @user\n",
        "combi['temp_tweet'] = np.vectorize(remove_pattern)(combi['tweet'], r\"@[\\w]*\")\n",
        "\n",
        "# Remove special characters, numbers, and punctuation (keeping hashtags and spaces)\n",
        "combi['temp_tweet'] = combi['temp_tweet'].str.replace(\"[^a-zA-Z#]\", \" \", regex=True)\n",
        "\n",
        "# Display some tweets with label 0 before removing short words\n",
        "print(\"Sample tweets with label 0 after initial cleaning:\")\n",
        "display(combi[combi['label'] == 0][['tweet', 'temp_tweet']].head())\n",
        "\n",
        "# Display some tweets with label 1 before removing short words\n",
        "print(\"\\nSample tweets with label 1 after initial cleaning:\")\n",
        "display(combi[combi['label'] == 1][['tweet', 'temp_tweet']].head())\n",
        "\n",
        "# Drop the temporary column\n",
        "combi = combi.drop('temp_tweet', axis=1)"
      ],
      "execution_count": null,
      "outputs": []
    },
    {
      "cell_type": "markdown",
      "metadata": {
        "id": "2d7f8a19"
      },
      "source": [
        "## Data Analysis and Visualization (Re-run after fixing label column and header row)"
      ]
    },
    {
      "cell_type": "markdown",
      "metadata": {
        "id": "adace982"
      },
      "source": [
        "### A) Understanding the common words used in the tweets: WordCloud"
      ]
    },
    {
      "cell_type": "code",
      "metadata": {
        "id": "16eaec87"
      },
      "source": [
        "# Function to remove patterns from text\n",
        "def remove_pattern(input_txt, pattern):\n",
        "    r = re.findall(pattern, str(input_txt))  # Convert to string to handle potential NaN\n",
        "    for i in r:\n",
        "        input_txt = re.sub(i, '', str(input_txt))\n",
        "    return str(input_txt) # Ensure output is string\n",
        "\n",
        "# Apply cleaning to remove @user\n",
        "combi['tidy_tweet'] = np.vectorize(remove_pattern)(combi['tweet'], r\"@[\\w]*\")\n",
        "\n",
        "# Remove special characters, numbers, and punctuation (keeping hashtags and spaces)\n",
        "combi['tidy_tweet'] = combi['tidy_tweet'].str.replace(\"[^a-zA-Z#]\", \" \", regex=True)\n",
        "\n",
        "# Remove short words (length 3 or less)\n",
        "combi['tidy_tweet'] = combi['tidy_tweet'].apply(lambda x: ' '.join([w for w in x.split() if len(w)>3]))\n",
        "\n",
        "# Convert tidy_tweet to string type and fill NaN with empty string\n",
        "combi['tidy_tweet'] = combi['tidy_tweet'].astype(str).fillna('')\n",
        "\n",
        "\n",
        "# Generate word cloud for all tweets\n",
        "all_words = ' '.join([text for text in combi['tidy_tweet']])\n",
        "from wordcloud import WordCloud\n",
        "wordcloud = WordCloud(width=800, height=500, random_state=21, max_font_size=110).generate(all_words)\n",
        "\n",
        "plt.figure(figsize=(10, 7))\n",
        "plt.imshow(wordcloud, interpolation=\"bilinear\")\n",
        "plt.axis('off')\n",
        "plt.title(\"Word Cloud of All Tweets\")\n",
        "plt.show()"
      ],
      "execution_count": null,
      "outputs": []
    },
    {
      "cell_type": "markdown",
      "metadata": {
        "id": "a1091dd4"
      },
      "source": [
        "### B) Words in non-racist/sexist tweets (label == 0)"
      ]
    },
    {
      "cell_type": "code",
      "metadata": {
        "id": "29d14bf6"
      },
      "source": [
        "import re\n",
        "import numpy as np\n",
        "import matplotlib.pyplot as plt\n",
        "from wordcloud import WordCloud\n",
        "\n",
        "# Function to remove patterns like @user\n",
        "def remove_pattern(input_txt, pattern):\n",
        "    r = re.findall(pattern, str(input_txt))\n",
        "    for i in r:\n",
        "        input_txt = re.sub(i, '', str(input_txt))\n",
        "    return str(input_txt)\n",
        "\n",
        "# Clean tweets\n",
        "combi['tidy_tweet'] = np.vectorize(remove_pattern)(combi['tweet'], r\"@[\\w]*\")\n",
        "combi['tidy_tweet'] = combi['tidy_tweet'].str.replace(\"[^a-zA-Z#]\", \" \", regex=True)\n",
        "combi['tidy_tweet'] = combi['tidy_tweet'].apply(lambda x: ' '.join([w for w in x.split() if len(w) > 3]))\n",
        "combi['tidy_tweet'] = combi['tidy_tweet'].astype(str).fillna('')\n",
        "\n",
        "# Generate WordCloud for non-racist/sexist tweets (label == 0)\n",
        "normal_tweets = combi[combi['label'] == 0]['tidy_tweet'].dropna()\n",
        "\n",
        "if not normal_tweets.empty:\n",
        "    normal_words = ' '.join(normal_tweets)\n",
        "    wordcloud = WordCloud(width=800, height=500, random_state=21, max_font_size=110).generate(normal_words)\n",
        "\n",
        "    plt.figure(figsize=(10, 7))\n",
        "    plt.imshow(wordcloud, interpolation=\"bilinear\")\n",
        "    plt.axis('off')\n",
        "    plt.title(\"Word Cloud of Non-Racist/Sexist Tweets\")\n",
        "    plt.show()\n",
        "else:\n",
        "    print(\"❌ No non-racist/sexist tweets found (label = 0) after cleaning.\")"
      ],
      "execution_count": null,
      "outputs": []
    },
    {
      "cell_type": "markdown",
      "metadata": {
        "id": "b5f4a2da"
      },
      "source": [
        "### C) Words in racist/sexist tweets (label == 1)"
      ]
    },
    {
      "cell_type": "code",
      "metadata": {
        "id": "569b873f"
      },
      "source": [
        "# Function to remove patterns from text\n",
        "def remove_pattern(input_txt, pattern):\n",
        "    r = re.findall(pattern, str(input_txt))  # Convert to string to handle potential NaN\n",
        "    for i in r:\n",
        "        input_txt = re.sub(i, '', str(input_txt))\n",
        "    return str(input_txt) # Ensure output is string"
      ],
      "execution_count": null,
      "outputs": []
    },
    {
      "cell_type": "code",
      "source": [
        "# Step 2: Clean the tweets\n",
        "combi['tidy_tweet'] = np.vectorize(remove_pattern)(combi['tweet'], r\"@[\\w]*\")\n",
        "combi['tidy_tweet'] = combi['tidy_tweet'].str.replace(\"[^a-zA-Z#]\", \" \", regex=True)\n",
        "combi['tidy_tweet'] = combi['tidy_tweet'].apply(lambda x: ' '.join([w for w in x.split() if len(w) > 3]))\n",
        "combi['tidy_tweet'] = combi['tidy_tweet'].astype(str).fillna('')\n"
      ],
      "metadata": {
        "id": "KPb8FLEsCXpf"
      },
      "execution_count": null,
      "outputs": []
    },
    {
      "cell_type": "code",
      "source": [
        "# Step 3: Extract negative words\n",
        "negative_words = ' '.join(combi[combi['label'] == 1]['tidy_tweet'].dropna())\n"
      ],
      "metadata": {
        "id": "YkK9jhTaCdnP"
      },
      "execution_count": null,
      "outputs": []
    },
    {
      "cell_type": "code",
      "source": [
        "# Step 4: Generate word cloud only if data exists\n",
        "if negative_words.strip():  # make sure it's not just empty/space\n",
        "    wordcloud = WordCloud(width=800, height=500, random_state=21, max_font_size=110).generate(negative_words)\n",
        "    plt.figure(figsize=(10, 7))\n",
        "    plt.imshow(wordcloud, interpolation=\"bilinear\")\n",
        "    plt.axis('off')\n",
        "    plt.title(\"Word Cloud of Racist/Sexist Tweets\")\n",
        "    plt.show()\n",
        "else:\n",
        "    print(\"❌ No valid words found in racist/sexist tweets after cleaning.\")"
      ],
      "metadata": {
        "id": "-p5ufrHcCh7S"
      },
      "execution_count": null,
      "outputs": []
    },
    {
      "cell_type": "markdown",
      "metadata": {
        "id": "81ad618c"
      },
      "source": [
        "### D) Understanding the impact of Hashtags on tweets sentiment"
      ]
    },
    {
      "cell_type": "code",
      "metadata": {
        "id": "2c09ad57"
      },
      "source": [
        "# Function to remove patterns from text\n",
        "def remove_pattern(input_txt, pattern):\n",
        "    r = re.findall(pattern, str(input_txt))  # Convert to string to handle potential NaN\n",
        "    for i in r:\n",
        "        input_txt = re.sub(i, '', str(input_txt))\n",
        "    return str(input_txt) # Ensure output is string\n",
        "\n",
        "# Apply cleaning to remove @user\n",
        "combi['tidy_tweet'] = np.vectorize(remove_pattern)(combi['tweet'], r\"@[\\w]*\")\n",
        "\n",
        "# Remove special characters, numbers, and punctuation (keeping hashtags and spaces)\n",
        "combi['tidy_tweet'] = combi['tidy_tweet'].str.replace(\"[^a-zA-Z#]\", \" \", regex=True)\n",
        "\n",
        "# Remove short words (length 3 or less)\n",
        "combi['tidy_tweet'] = combi['tidy_tweet'].apply(lambda x: ' '.join([w for w in x.split() if len(w)>3]))\n",
        "\n",
        "# Convert tidy_tweet to string type and fill NaN with empty string\n",
        "combi['tidy_tweet'] = combi['tidy_tweet'].astype(str).fillna('')\n",
        "\n",
        "\n",
        "# function to collect hashtags\n",
        "def hashtag_extract(tweets):\n",
        "    hashtags = []\n",
        "    # Loop over the words in the tweet\n",
        "    for tweet in tweets:\n",
        "        ht = re.findall(r\"#(\\w+)\", tweet)\n",
        "        hashtags.append(ht)\n",
        "    return hashtags\n",
        "\n",
        "# extracting hashtags from non racist/sexist tweets\n",
        "# Ensure the label column is not NaN and filter\n",
        "HT_regular = hashtag_extract(combi.loc[combi['label'] == 0, 'tidy_tweet'].astype(str).dropna())\n",
        "\n",
        "# extracting hashtags from racist/sexist tweets\n",
        "# Ensure the label column is not NaN and filter\n",
        "HT_negative = hashtag_extract(combi.loc[combi['label'] == 1, 'tidy_tweet'].astype(str).dropna())\n",
        "\n",
        "# unnesting list\n",
        "HT_regular = sum(HT_regular, [])\n",
        "HT_negative = sum(HT_negative, [])"
      ],
      "execution_count": null,
      "outputs": []
    },
    {
      "cell_type": "markdown",
      "metadata": {
        "id": "d41c3be0"
      },
      "source": [
        "### Non-Racist/Sexist Tweets Hashtag Frequency"
      ]
    },
    {
      "cell_type": "code",
      "metadata": {
        "id": "baad1096"
      },
      "source": [
        "import nltk\n",
        "\n",
        "# Function to remove patterns from text\n",
        "def remove_pattern(input_txt, pattern):\n",
        "    r = re.findall(pattern, str(input_txt))  # Convert to string to handle potential NaN\n",
        "    for i in r:\n",
        "        input_txt = re.sub(i, '', str(input_txt))\n",
        "    return str(input_txt) # Ensure output is string\n",
        "\n",
        "# Apply cleaning to remove @user\n",
        "combi['tidy_tweet'] = np.vectorize(remove_pattern)(combi['tweet'], r\"@[\\w]*\")\n",
        "\n",
        "# Remove special characters, numbers, and punctuation (keeping hashtags and spaces)\n",
        "combi['tidy_tweet'] = combi['tidy_tweet'].str.replace(\"[^a-zA-Z#]\", \" \", regex=True)\n",
        "\n",
        "# Remove short words (length 3 or less)\n",
        "combi['tidy_tweet'] = combi['tidy_tweet'].apply(lambda x: ' '.join([w for w in x.split() if len(w)>3]))\n",
        "\n",
        "# Convert tidy_tweet to string type and fill NaN with empty string\n",
        "combi['tidy_tweet'] = combi['tidy_tweet'].astype(str).fillna('')\n",
        "\n",
        "# extracting hashtags from non racist/sexist tweets\n",
        "# Ensure the label column is not NaN and filter\n",
        "HT_regular = hashtag_extract(combi.loc[combi['label'] == 0, 'tidy_tweet'].astype(str).dropna())\n",
        "\n",
        "a = nltk.FreqDist(HT_regular)\n",
        "d = pd.DataFrame({'Hashtag': list(a.keys()), 'Count': list(a.values())})\n",
        "# selecting top 20 most frequent hashtags\n",
        "d = d.nlargest(columns=\"Count\", n=20)\n",
        "plt.figure(figsize=(16, 5))\n",
        "ax = sns.barplot(data=d, x=\"Hashtag\", y=\"Count\")\n",
        "ax.set(ylabel='Count')\n",
        "plt.xticks(rotation=45, ha='right') # Rotate x-axis labels\n",
        "plt.title(\"Top 20 Hashtags in Non-Racist/Sexist Tweets\")\n",
        "plt.show()"
      ],
      "execution_count": null,
      "outputs": []
    },
    {
      "cell_type": "markdown",
      "metadata": {
        "id": "4d26fa9b"
      },
      "source": [
        "### Racist/Sexist Tweets Hashtag Frequency"
      ]
    },
    {
      "cell_type": "code",
      "metadata": {
        "id": "7ae0a1f2"
      },
      "source": [
        "import nltk\n",
        "\n",
        "# Function to remove patterns from text\n",
        "def remove_pattern(input_txt, pattern):\n",
        "    r = re.findall(pattern, str(input_txt))  # Convert to string to handle potential NaN\n",
        "    for i in r:\n",
        "        input_txt = re.sub(i, '', str(input_txt))\n",
        "    return str(input_txt) # Ensure output is string\n",
        "\n",
        "# Apply cleaning to remove @user\n",
        "combi['tidy_tweet'] = np.vectorize(remove_pattern)(combi['tweet'], r\"@[\\w]*\")\n",
        "\n",
        "# Remove special characters, numbers, and punctuation (keeping hashtags and spaces)\n",
        "combi['tidy_tweet'] = combi['tidy_tweet'].str.replace(\"[^a-zA-Z#]\", \" \", regex=True)\n",
        "\n",
        "# Remove short words (length 3 or less)\n",
        "combi['tidy_tweet'] = combi['tidy_tweet'].apply(lambda x: ' '.join([w for w in x.split() if len(w)>3]))\n",
        "\n",
        "# Convert tidy_tweet to string type and fill NaN with empty string\n",
        "combi['tidy_tweet'] = combi['tidy_tweet'].astype(str).fillna('')\n",
        "\n",
        "\n",
        "# extracting hashtags from racist/sexist tweets\n",
        "# Ensure the label column is not NaN and filter\n",
        "HT_negative = hashtag_extract(combi.loc[combi['label'] == 1, 'tidy_tweet'].astype(str).dropna())\n",
        "\n",
        "\n",
        "b = nltk.FreqDist(HT_negative)\n",
        "e = pd.DataFrame({'Hashtag': list(b.keys()), 'Count': list(b.values())})\n",
        "# selecting top 20 most frequent hashtags\n",
        "e = e.nlargest(columns=\"Count\", n=20)\n",
        "plt.figure(figsize=(16, 5))\n",
        "ax = sns.barplot(data=e, x=\"Hashtag\", y=\"Count\")\n",
        "ax.set(ylabel='Count')\n",
        "plt.xticks(rotation=45, ha='right') # Rotate x-axis labels\n",
        "# Add frequency count on top of each bar\n",
        "for container in ax.containers:\n",
        "    ax.bar_label(container)\n",
        "plt.title(\"Top 20 Hashtags in Racist/Sexist Tweets\")\n",
        "plt.show()"
      ],
      "execution_count": null,
      "outputs": []
    },
    {
      "cell_type": "code",
      "metadata": {
        "id": "f904ff4b"
      },
      "source": [
        "# Check the number of tweets for each label after cleaning\n",
        "print(\"Count of tweets by label after cleaning:\")\n",
        "print(combi[combi['label'].isin([0, 1])]['label'].value_counts(dropna=False))\n",
        "\n",
        "# Display some of the cleaned tweets for label 0\n",
        "print(\"\\nSample of cleaned tweets (tidy_tweet) for label 0:\")\n",
        "display(combi[combi['label'] == 0]['tidy_tweet'].head())\n",
        "\n",
        "# Display some of the cleaned tweets for label 1\n",
        "print(\"\\nSample of cleaned tweets (tidy_tweet) for label 1:\")\n",
        "display(combi[combi['label'] == 1]['tidy_tweet'].head())"
      ],
      "execution_count": null,
      "outputs": []
    },
    {
      "cell_type": "markdown",
      "metadata": {
        "id": "f13183f6"
      },
      "source": [
        "## Data Analysis and Visualization (Re-run after fixing label column and header row)"
      ]
    },
    {
      "cell_type": "markdown",
      "metadata": {
        "id": "f6b608d5"
      },
      "source": [
        "### A) Understanding the common words used in the tweets: WordCloud"
      ]
    },
    {
      "cell_type": "code",
      "metadata": {
        "id": "9a4f47e8"
      },
      "source": [
        "# Function to remove patterns from text\n",
        "def remove_pattern(input_txt, pattern):\n",
        "    r = re.findall(pattern, str(input_txt))  # Convert to string to handle potential NaN\n",
        "    for i in r:\n",
        "        input_txt = re.sub(i, '', str(input_txt))\n",
        "    return str(input_txt) # Ensure output is string\n",
        "\n",
        "# Apply cleaning to remove @user\n",
        "combi['tidy_tweet'] = np.vectorize(remove_pattern)(combi['tweet'], r\"@[\\w]*\")\n",
        "\n",
        "# Remove special characters, numbers, and punctuation (keeping hashtags and spaces)\n",
        "combi['tidy_tweet'] = combi['tidy_tweet'].str.replace(\"[^a-zA-Z0-9# ]\", \"\", regex=True)\n",
        "\n",
        "\n",
        "# Remove short words (length 3 or less)\n",
        "combi['tidy_tweet'] = combi['tidy_tweet'].apply(lambda x: ' '.join([w for w in x.split() if len(w)>3]))\n",
        "\n",
        "# Convert tidy_tweet to string type and fill NaN with empty string\n",
        "combi['tidy_tweet'] = combi['tidy_tweet'].astype(str).fillna('')\n",
        "\n",
        "\n",
        "# Generate word cloud for all tweets\n",
        "all_words = ' '.join([text for text in combi['tidy_tweet']])\n",
        "from wordcloud import WordCloud\n",
        "wordcloud = WordCloud(width=800, height=500, random_state=21, max_font_size=110).generate(all_words)\n",
        "\n",
        "plt.figure(figsize=(10, 7))\n",
        "plt.imshow(wordcloud, interpolation=\"bilinear\")\n",
        "plt.axis('off')\n",
        "plt.title(\"Word Cloud of All Tweets\")\n",
        "plt.show()"
      ],
      "execution_count": null,
      "outputs": []
    },
    {
      "cell_type": "markdown",
      "metadata": {
        "id": "60e1e6d7"
      },
      "source": [
        "### B) Words in non-racist/sexist tweets (label == 0)"
      ]
    },
    {
      "cell_type": "code",
      "metadata": {
        "id": "40a30070"
      },
      "source": [
        "# Function to remove patterns from text\n",
        "def remove_pattern(input_txt, pattern):\n",
        "    r = re.findall(pattern, str(input_txt))  # Convert to string to handle potential NaN\n",
        "    for i in r:\n",
        "        input_txt = re.sub(i, '', str(input_txt))\n",
        "    return str(input_txt)  # Ensure output is string\n",
        "\n",
        "# Clean tweets\n",
        "combi['tidy_tweet'] = np.vectorize(remove_pattern)(combi['tweet'], r\"@[\\w]*\")\n",
        "combi['tidy_tweet'] = combi['tidy_tweet'].str.replace(\"[^a-zA-Z0-9# ]\", \"\", regex=True)\n",
        "combi['tidy_tweet'] = combi['tidy_tweet'].apply(lambda x: ' '.join([w for w in x.split() if len(w) > 3]))\n",
        "combi['tidy_tweet'] = combi['tidy_tweet'].astype(str).fillna('')\n",
        "\n",
        "# Extract and combine normal (non-racist/sexist) tweets\n",
        "normal_words = ' '.join(combi[combi['label'] == 0]['tidy_tweet'].dropna())\n",
        "\n",
        "# Check if there is any word left to generate the word cloud\n",
        "if normal_words.strip():  # Ensure it's not just empty spaces\n",
        "    wordcloud = WordCloud(width=800, height=500, random_state=21, max_font_size=110).generate(normal_words)\n",
        "\n",
        "    plt.figure(figsize=(10, 7))\n",
        "    plt.imshow(wordcloud, interpolation=\"bilinear\")\n",
        "    plt.axis('off')\n",
        "    plt.title(\"Word Cloud of Non-Racist/Sexist Tweets\")\n",
        "    plt.show()\n",
        "else:\n",
        "    print(\"❌ No valid words found in non-racist/sexist tweets after cleaning.\")\n"
      ],
      "execution_count": null,
      "outputs": []
    },
    {
      "cell_type": "markdown",
      "metadata": {
        "id": "0151bb81"
      },
      "source": [
        "### C) Words in racist/sexist tweets (label == 1)"
      ]
    },
    {
      "cell_type": "code",
      "metadata": {
        "id": "317cb8b3"
      },
      "source": [
        "# Function to remove patterns from text\n",
        "def remove_pattern(input_txt, pattern):\n",
        "    r = re.findall(pattern, str(input_txt))  # Convert to string to handle potential NaN\n",
        "    for i in r:\n",
        "        input_txt = re.sub(i, '', str(input_txt))\n",
        "    return str(input_txt)\n",
        "\n",
        "# Clean the tweets\n",
        "combi['tidy_tweet'] = np.vectorize(remove_pattern)(combi['tweet'], r\"@[\\w]*\")\n",
        "combi['tidy_tweet'] = combi['tidy_tweet'].str.replace(\"[^a-zA-Z0-9# ]\", \"\", regex=True)\n",
        "combi['tidy_tweet'] = combi['tidy_tweet'].apply(lambda x: ' '.join([w for w in x.split() if len(w)>3]))\n",
        "combi['tidy_tweet'] = combi['tidy_tweet'].astype(str).fillna('')\n",
        "\n",
        "# Generate word cloud for racist/sexist tweets (label = 1)\n",
        "negative_words = ' '.join([text for text in combi[combi['label'] == 1]['tidy_tweet'].dropna()])\n",
        "\n",
        "if negative_words.strip():  # only generate if we have at least 1 word\n",
        "    wordcloud = WordCloud(width=800, height=500, random_state=21, max_font_size=110).generate(negative_words)\n",
        "    plt.figure(figsize=(10, 7))\n",
        "    plt.imshow(wordcloud, interpolation=\"bilinear\")\n",
        "    plt.axis('off')\n",
        "    plt.title(\"Word Cloud of Racist/Sexist Tweets\")\n",
        "    plt.show()\n",
        "else:\n",
        "    print(\"⚠️ No racist/sexist tweets (label=1) found or they were all cleaned out.\")\n"
      ],
      "execution_count": null,
      "outputs": []
    },
    {
      "cell_type": "markdown",
      "metadata": {
        "id": "4c1defe1"
      },
      "source": [
        "### D) Understanding the impact of Hashtags on tweets sentiment"
      ]
    },
    {
      "cell_type": "code",
      "metadata": {
        "id": "0052767f"
      },
      "source": [
        "# Function to remove patterns from text\n",
        "def remove_pattern(input_txt, pattern):\n",
        "    r = re.findall(pattern, str(input_txt))  # Convert to string to handle potential NaN\n",
        "    for i in r:\n",
        "        input_txt = re.sub(i, '', str(input_txt))\n",
        "    return str(input_txt) # Ensure output is string\n",
        "\n",
        "# Apply cleaning to remove @user\n",
        "combi['tidy_tweet'] = np.vectorize(remove_pattern)(combi['tweet'], r\"@[\\w]*\")\n",
        "\n",
        "# Remove special characters, numbers, and punctuation (keeping hashtags and spaces)\n",
        "combi['tidy_tweet'] = combi['tidy_tweet'].str.replace(\"[^a-zA-Z0-9# ]\", \"\", regex=True)\n",
        "\n",
        "# Remove short words (length 3 or less)\n",
        "combi['tidy_tweet'] = combi['tidy_tweet'].apply(lambda x: ' '.join([w for w in x.split() if len(w)>3]))\n",
        "\n",
        "# Convert tidy_tweet to string type and fill NaN with empty string\n",
        "combi['tidy_tweet'] = combi['tidy_tweet'].astype(str).fillna('')\n",
        "\n",
        "\n",
        "# function to collect hashtags\n",
        "def hashtag_extract(tweets):\n",
        "    hashtags = []\n",
        "    # Loop over the words in the tweet\n",
        "    for tweet in tweets:\n",
        "        ht = re.findall(r\"#(\\w+)\", tweet)\n",
        "        hashtags.append(ht)\n",
        "    return hashtags\n",
        "\n",
        "# extracting hashtags from non racist/sexist tweets\n",
        "# Ensure the label column is not NaN and filter\n",
        "HT_regular = hashtag_extract(combi.loc[combi['label'] == 0, 'tidy_tweet'].astype(str).dropna())\n",
        "\n",
        "# extracting hashtags from racist/sexist tweets\n",
        "# Ensure the label column is not NaN and filter\n",
        "HT_negative = hashtag_extract(combi.loc[combi['label'] == 1, 'tidy_tweet'].astype(str).dropna())\n",
        "\n",
        "# unnesting list\n",
        "HT_regular = sum(HT_regular, [])\n",
        "HT_negative = sum(HT_negative, [])"
      ],
      "execution_count": null,
      "outputs": []
    },
    {
      "cell_type": "markdown",
      "metadata": {
        "id": "24ae1f20"
      },
      "source": [
        "### Non-Racist/Sexist Tweets Hashtag Frequency"
      ]
    },
    {
      "cell_type": "code",
      "metadata": {
        "id": "fb625514"
      },
      "source": [
        "import nltk\n",
        "\n",
        "# Function to remove patterns from text\n",
        "def remove_pattern(input_txt, pattern):\n",
        "    r = re.findall(pattern, str(input_txt))  # Convert to string to handle potential NaN\n",
        "    for i in r:\n",
        "        input_txt = re.sub(i, '', str(input_txt))\n",
        "    return str(input_txt) # Ensure output is string\n",
        "\n",
        "# Apply cleaning to remove @user\n",
        "combi['tidy_tweet'] = np.vectorize(remove_pattern)(combi['tweet'], r\"@[\\w]*\")\n",
        "\n",
        "# Remove special characters, numbers, and punctuation (keeping hashtags and spaces)\n",
        "combi['tidy_tweet'] = combi['tidy_tweet'].str.replace(\"[^a-zA-Z0-9# ]\", \"\", regex=True)\n",
        "\n",
        "# Remove short words (length 3 or less)\n",
        "combi['tidy_tweet'] = combi['tidy_tweet'].apply(lambda x: ' '.join([w for w in x.split() if len(w)>3]))\n",
        "\n",
        "# Convert tidy_tweet to string type and fill NaN with empty string\n",
        "combi['tidy_tweet'] = combi['tidy_tweet'].astype(str).fillna('')\n",
        "\n",
        "# extracting hashtags from non racist/sexist tweets\n",
        "# Ensure the label column is not NaN and filter\n",
        "HT_regular = hashtag_extract(combi.loc[combi['label'] == 0, 'tidy_tweet'].astype(str).dropna())\n",
        "\n",
        "a = nltk.FreqDist(HT_regular)\n",
        "d = pd.DataFrame({'Hashtag': list(a.keys()), 'Count': list(a.values())})\n",
        "# selecting top 20 most frequent hashtags\n",
        "d = d.nlargest(columns=\"Count\", n=20)\n",
        "plt.figure(figsize=(16, 5))\n",
        "ax = sns.barplot(data=d, x=\"Hashtag\", y=\"Count\")\n",
        "ax.set(ylabel='Count')\n",
        "plt.xticks(rotation=45, ha='right') # Rotate x-axis labels\n",
        "plt.title(\"Top 20 Hashtags in Non-Racist/Sexist Tweets\")\n",
        "plt.show()"
      ],
      "execution_count": null,
      "outputs": []
    },
    {
      "cell_type": "markdown",
      "metadata": {
        "id": "7e93d2bd"
      },
      "source": [
        "### Racist/Sexist Tweets Hashtag Frequency"
      ]
    },
    {
      "cell_type": "code",
      "metadata": {
        "id": "e32440b6"
      },
      "source": [
        "import nltk\n",
        "\n",
        "# Function to remove patterns from text\n",
        "def remove_pattern(input_txt, pattern):\n",
        "    r = re.findall(pattern, str(input_txt))  # Convert to string to handle potential NaN\n",
        "    for i in r:\n",
        "        input_txt = re.sub(i, '', str(input_txt))\n",
        "    return str(input_txt) # Ensure output is string\n",
        "\n",
        "# Apply cleaning to remove @user\n",
        "combi['tidy_tweet'] = np.vectorize(remove_pattern)(combi['tweet'], r\"@[\\w]*\")\n",
        "\n",
        "# Remove special characters, numbers, and punctuation (keeping hashtags and spaces)\n",
        "combi['tidy_tweet'] = combi['tidy_tweet'].str.replace(\"[^a-zA-Z0-9# ]\", \"\", regex=True)\n",
        "\n",
        "# Remove short words (length 3 or less)\n",
        "combi['tidy_tweet'] = combi['tidy_tweet'].apply(lambda x: ' '.join([w for w in x.split() if len(w)>3]))\n",
        "\n",
        "# Convert tidy_tweet to string type and fill NaN with empty string\n",
        "combi['tidy_tweet'] = combi['tidy_tweet'].astype(str).fillna('')\n",
        "\n",
        "\n",
        "# extracting hashtags from racist/sexist tweets\n",
        "# Ensure the label column is not NaN and filter\n",
        "HT_negative = hashtag_extract(combi.loc[combi['label'] == 1, 'tidy_tweet'].astype(str).dropna())\n",
        "\n",
        "\n",
        "b = nltk.FreqDist(HT_negative)\n",
        "e = pd.DataFrame({'Hashtag': list(b.keys()), 'Count': list(b.values())})\n",
        "# selecting top 20 most frequent hashtags\n",
        "e = e.nlargest(columns=\"Count\", n=20)\n",
        "plt.figure(figsize=(16, 5))\n",
        "ax = sns.barplot(data=e, x=\"Hashtag\", y=\"Count\")\n",
        "ax.set(ylabel='Count')\n",
        "plt.xticks(rotation=45, ha='right') # Rotate x-axis labels\n",
        "# Add frequency count on top of each bar\n",
        "for container in ax.containers:\n",
        "    ax.bar_label(container)\n",
        "plt.title(\"Top 20 Hashtags in Racist/Sexist Tweets\")\n",
        "plt.show()"
      ],
      "execution_count": null,
      "outputs": []
    },
    {
      "cell_type": "markdown",
      "metadata": {
        "id": "34601dbc"
      },
      "source": [
        "## Data Analysis and Visualization (Re-run after fixing label column and header row)"
      ]
    },
    {
      "cell_type": "markdown",
      "metadata": {
        "id": "92048f9b"
      },
      "source": [
        "### A) Understanding the common words used in the tweets: WordCloud"
      ]
    },
    {
      "cell_type": "code",
      "metadata": {
        "id": "58569a99"
      },
      "source": [
        "# Function to remove patterns from text\n",
        "def remove_pattern(input_txt, pattern):\n",
        "    r = re.findall(pattern, str(input_txt))  # Convert to string to handle potential NaN\n",
        "    for i in r:\n",
        "        input_txt = re.sub(i, '', str(input_txt))\n",
        "    return str(input_txt) # Ensure output is string\n",
        "\n",
        "# Apply cleaning to remove @user\n",
        "combi['tidy_tweet'] = np.vectorize(remove_pattern)(combi['tweet'], r\"@[\\w]*\")\n",
        "\n",
        "# Remove special characters, numbers, and punctuation (keeping hashtags and spaces)\n",
        "combi['tidy_tweet'] = combi['tidy_tweet'].str.replace(\"[^a-zA-Z#]\", \" \", regex=True)\n",
        "\n",
        "# Remove short words (length 3 or less)\n",
        "combi['tidy_tweet'] = combi['tidy_tweet'].apply(lambda x: ' '.join([w for w in x.split() if len(w)>3]))\n",
        "\n",
        "# Convert tidy_tweet to string type and fill NaN with empty string\n",
        "combi['tidy_tweet'] = combi['tidy_tweet'].astype(str).fillna('')\n",
        "\n",
        "\n",
        "# Generate word cloud for all tweets\n",
        "all_words = ' '.join([text for text in combi['tidy_tweet']])\n",
        "from wordcloud import WordCloud\n",
        "wordcloud = WordCloud(width=800, height=500, random_state=21, max_font_size=110).generate(all_words)\n",
        "\n",
        "plt.figure(figsize=(10, 7))\n",
        "plt.imshow(wordcloud, interpolation=\"bilinear\")\n",
        "plt.axis('off')\n",
        "plt.title(\"Word Cloud of All Tweets\")\n",
        "plt.show()"
      ],
      "execution_count": null,
      "outputs": []
    },
    {
      "cell_type": "markdown",
      "metadata": {
        "id": "555b20e7"
      },
      "source": [
        "### B) Words in non-racist/sexist tweets (label == 0)"
      ]
    },
    {
      "cell_type": "code",
      "metadata": {
        "id": "e9f7a3cb"
      },
      "source": [
        "# Function to remove patterns from text\n",
        "def remove_pattern(input_txt, pattern):\n",
        "    r = re.findall(pattern, str(input_txt))  # Convert to string to handle NaN\n",
        "    for i in r:\n",
        "        input_txt = re.sub(i, '', str(input_txt))\n",
        "    return str(input_txt)\n",
        "\n",
        "# Clean the data\n",
        "combi['tidy_tweet'] = np.vectorize(remove_pattern)(combi['tweet'], r\"@[\\w]*\")\n",
        "combi['tidy_tweet'] = combi['tidy_tweet'].str.replace(\"[^a-zA-Z#]\", \" \", regex=True)\n",
        "combi['tidy_tweet'] = combi['tidy_tweet'].apply(lambda x: ' '.join([w for w in x.split() if len(w) > 3]))\n",
        "combi['tidy_tweet'] = combi['tidy_tweet'].astype(str).fillna('')\n",
        "\n",
        "# Generate word cloud for non-racist/sexist tweets\n",
        "normal_words = ' '.join(combi[combi['label'] == 0]['tidy_tweet'].dropna().tolist()).strip()\n",
        "\n",
        "if normal_words:\n",
        "    wordcloud = WordCloud(width=800, height=500, random_state=21, max_font_size=110).generate(normal_words)\n",
        "    plt.figure(figsize=(10, 7))\n",
        "    plt.imshow(wordcloud, interpolation=\"bilinear\")\n",
        "    plt.axis('off')\n",
        "    plt.title(\"Word Cloud of Non-Racist/Sexist Tweets\")\n",
        "    plt.show()\n",
        "else:\n",
        "    print(\"No words found in non-racist/sexist tweets to generate a word cloud.\")"
      ],
      "execution_count": null,
      "outputs": []
    },
    {
      "cell_type": "markdown",
      "metadata": {
        "id": "be7582ff"
      },
      "source": [
        "### C) Words in racist/sexist tweets (label == 1)"
      ]
    },
    {
      "cell_type": "code",
      "metadata": {
        "id": "260ec022"
      },
      "source": [
        "# Function to remove patterns from text\n",
        "def remove_pattern(input_txt, pattern):\n",
        "    r = re.findall(pattern, str(input_txt))  # Convert to string to handle potential NaN\n",
        "    for i in r:\n",
        "        input_txt = re.sub(i, '', str(input_txt))\n",
        "    return str(input_txt)\n",
        "\n",
        "# Step 1: Clean the tweet text\n",
        "combi['tidy_tweet'] = np.vectorize(remove_pattern)(combi['tweet'], r\"@[\\w]*\")\n",
        "combi['tidy_tweet'] = combi['tidy_tweet'].str.replace(\"[^a-zA-Z#]\", \" \", regex=True)\n",
        "combi['tidy_tweet'] = combi['tidy_tweet'].apply(lambda x: ' '.join([w for w in x.split() if len(w) > 3]))\n",
        "combi['tidy_tweet'] = combi['tidy_tweet'].astype(str).fillna('')\n",
        "\n",
        "# Step 2: Filter label == 1 (racist/sexist tweets)\n",
        "df_negative = combi[combi['label'] == 1].copy()\n",
        "df_negative['tidy_tweet'] = df_negative['tidy_tweet'].astype(str).fillna('')\n",
        "\n",
        "# Step 3: Join words if available\n",
        "negative_words = ' '.join(df_negative['tidy_tweet'].tolist())\n",
        "\n",
        "# Step 4: Generate word cloud only if words are present\n",
        "if negative_words.strip():  # Check if it's not empty\n",
        "    wordcloud = WordCloud(width=800, height=500, random_state=21, max_font_size=110).generate(negative_words)\n",
        "    plt.figure(figsize=(10, 7))\n",
        "    plt.imshow(wordcloud, interpolation=\"bilinear\")\n",
        "    plt.axis('off')\n",
        "    plt.title(\"Word Cloud of Racist/Sexist Tweets\")\n",
        "    plt.show()\n",
        "else:\n",
        "    print(\"No words available in racist/sexist tweets to generate a word cloud.\")\n"
      ],
      "execution_count": null,
      "outputs": []
    },
    {
      "cell_type": "markdown",
      "metadata": {
        "id": "6cf6974e"
      },
      "source": [
        "### D) Understanding the impact of Hashtags on tweets sentiment"
      ]
    },
    {
      "cell_type": "code",
      "metadata": {
        "id": "59765d86"
      },
      "source": [
        "# Function to remove patterns from text\n",
        "def remove_pattern(input_txt, pattern):\n",
        "    r = re.findall(pattern, str(input_txt))  # Convert to string to handle potential NaN\n",
        "    for i in r:\n",
        "        input_txt = re.sub(i, '', str(input_txt))\n",
        "    return str(input_txt) # Ensure output is string\n",
        "\n",
        "# Apply cleaning to remove @user\n",
        "combi['tidy_tweet'] = np.vectorize(remove_pattern)(combi['tweet'], r\"@[\\w]*\")\n",
        "\n",
        "# Remove special characters, numbers, and punctuation (keeping hashtags and spaces)\n",
        "combi['tidy_tweet'] = combi['tidy_tweet'].str.replace(\"[^a-zA-Z#]\", \" \", regex=True)\n",
        "\n",
        "# Remove short words (length 3 or less)\n",
        "combi['tidy_tweet'] = combi['tidy_tweet'].apply(lambda x: ' '.join([w for w in x.split() if len(w)>3]))\n",
        "\n",
        "# Convert tidy_tweet to string type and fill NaN with empty string\n",
        "combi['tidy_tweet'] = combi['tidy_tweet'].astype(str).fillna('')\n",
        "\n",
        "\n",
        "# function to collect hashtags\n",
        "def hashtag_extract(tweets):\n",
        "    hashtags = []\n",
        "    # Loop over the words in the tweet\n",
        "    for tweet in tweets:\n",
        "        ht = re.findall(r\"#(\\w+)\", tweet)\n",
        "        hashtags.append(ht)\n",
        "    return hashtags\n",
        "\n",
        "# extracting hashtags from non racist/sexist tweets\n",
        "# Ensure the label column is not NaN and filter\n",
        "HT_regular = hashtag_extract(combi.loc[combi['label'] == 0, 'tidy_tweet'].astype(str).dropna())\n",
        "\n",
        "# extracting hashtags from racist/sexist tweets\n",
        "# Ensure the label column is not NaN and filter\n",
        "HT_negative = hashtag_extract(combi.loc[combi['label'] == 1, 'tidy_tweet'].astype(str).dropna())\n",
        "\n",
        "# unnesting list\n",
        "HT_regular = sum(HT_regular, [])\n",
        "HT_negative = sum(HT_negative, [])"
      ],
      "execution_count": null,
      "outputs": []
    },
    {
      "cell_type": "markdown",
      "metadata": {
        "id": "b2750944"
      },
      "source": [
        "### Non-Racist/Sexist Tweets Hashtag Frequency"
      ]
    },
    {
      "cell_type": "code",
      "metadata": {
        "id": "90147728"
      },
      "source": [
        "import nltk\n",
        "\n",
        "# Function to remove patterns from text\n",
        "def remove_pattern(input_txt, pattern):\n",
        "    r = re.findall(pattern, str(input_txt))  # Convert to string to handle potential NaN\n",
        "    for i in r:\n",
        "        input_txt = re.sub(i, '', str(input_txt))\n",
        "    return str(input_txt) # Ensure output is string\n",
        "\n",
        "# Apply cleaning to remove @user\n",
        "combi['tidy_tweet'] = np.vectorize(remove_pattern)(combi['tweet'], r\"@[\\w]*\")\n",
        "\n",
        "# Remove special characters, numbers, and punctuation (keeping hashtags and spaces)\n",
        "combi['tidy_tweet'] = combi['tidy_tweet'].str.replace(\"[^a-zA-Z#]\", \" \", regex=True)\n",
        "\n",
        "# Remove short words (length 3 or less)\n",
        "combi['tidy_tweet'] = combi['tidy_tweet'].apply(lambda x: ' '.join([w for w in x.split() if len(w)>3]))\n",
        "\n",
        "# Convert tidy_tweet to string type and fill NaN with empty string\n",
        "combi['tidy_tweet'] = combi['tidy_tweet'].astype(str).fillna('')\n",
        "\n",
        "# extracting hashtags from non racist/sexist tweets\n",
        "# Ensure the label column is not NaN and filter\n",
        "HT_regular = hashtag_extract(combi.loc[combi['label'] == 0, 'tidy_tweet'].astype(str).dropna())\n",
        "\n",
        "a = nltk.FreqDist(HT_regular)\n",
        "d = pd.DataFrame({'Hashtag': list(a.keys()), 'Count': list(a.values())})\n",
        "# selecting top 20 most frequent hashtags\n",
        "d = d.nlargest(columns=\"Count\", n=20)\n",
        "plt.figure(figsize=(16, 5))\n",
        "ax = sns.barplot(data=d, x=\"Hashtag\", y=\"Count\")\n",
        "ax.set(ylabel='Count')\n",
        "plt.xticks(rotation=45, ha='right') # Rotate x-axis labels\n",
        "plt.title(\"Top 20 Hashtags in Non-Racist/Sexist Tweets\")\n",
        "plt.show()"
      ],
      "execution_count": null,
      "outputs": []
    },
    {
      "cell_type": "markdown",
      "metadata": {
        "id": "05b92260"
      },
      "source": [
        "### Racist/Sexist Tweets Hashtag Frequency"
      ]
    },
    {
      "cell_type": "code",
      "metadata": {
        "id": "a68e6a77"
      },
      "source": [
        "import nltk\n",
        "\n",
        "# Function to remove patterns from text\n",
        "def remove_pattern(input_txt, pattern):\n",
        "    r = re.findall(pattern, str(input_txt))  # Convert to string to handle potential NaN\n",
        "    for i in r:\n",
        "        input_txt = re.sub(i, '', str(input_txt))\n",
        "    return str(input_txt) # Ensure output is string\n",
        "\n",
        "# Apply cleaning to remove @user\n",
        "combi['tidy_tweet'] = np.vectorize(remove_pattern)(combi['tweet'], r\"@[\\w]*\")\n",
        "\n",
        "# Remove special characters, numbers, and punctuation (keeping hashtags and spaces)\n",
        "combi['tidy_tweet'] = combi['tidy_tweet'].str.replace(\"[^a-zA-Z#]\", \" \", regex=True)\n",
        "\n",
        "# Remove short words (length 3 or less)\n",
        "combi['tidy_tweet'] = combi['tidy_tweet'].apply(lambda x: ' '.join([w for w in x.split() if len(w)>3]))\n",
        "\n",
        "# Convert tidy_tweet to string type and fill NaN with empty string\n",
        "combi['tidy_tweet'] = combi['tidy_tweet'].astype(str).fillna('')\n",
        "\n",
        "\n",
        "# extracting hashtags from racist/sexist tweets\n",
        "# Ensure the label column is not NaN and filter\n",
        "HT_negative = hashtag_extract(combi.loc[combi['label'] == 1, 'tidy_tweet'].astype(str).dropna())\n",
        "\n",
        "\n",
        "b = nltk.FreqDist(HT_negative)\n",
        "e = pd.DataFrame({'Hashtag': list(b.keys()), 'Count': list(b.values())})\n",
        "# selecting top 20 most frequent hashtags\n",
        "e = e.nlargest(columns=\"Count\", n=20)\n",
        "plt.figure(figsize=(16, 5))\n",
        "ax = sns.barplot(data=e, x=\"Hashtag\", y=\"Count\")\n",
        "ax.set(ylabel='Count')\n",
        "plt.xticks(rotation=45, ha='right') # Rotate x-axis labels\n",
        "# Add frequency count on top of each bar\n",
        "for container in ax.containers:\n",
        "    ax.bar_label(container)\n",
        "plt.title(\"Top 20 Hashtags in Racist/Sexist Tweets\")\n",
        "plt.show()"
      ],
      "execution_count": null,
      "outputs": []
    },
    {
      "cell_type": "markdown",
      "metadata": {
        "id": "f5594ede"
      },
      "source": [
        "### Inspecting cleaned tweets by label"
      ]
    },
    {
      "cell_type": "code",
      "metadata": {
        "id": "1f6d9413"
      },
      "source": [
        "# Function to remove patterns from text\n",
        "def remove_pattern(input_txt, pattern):\n",
        "    r = re.findall(pattern, str(input_txt))  # Convert to string to handle potential NaN\n",
        "    for i in r:\n",
        "        input_txt = re.sub(i, '', str(input_txt))\n",
        "    return str(input_txt) # Ensure output is string\n",
        "\n",
        "# Apply cleaning to remove @user\n",
        "combi['tidy_tweet'] = np.vectorize(remove_pattern)(combi['tweet'], r\"@[\\w]*\")\n",
        "\n",
        "# Remove special characters, numbers, and punctuation (keeping hashtags and spaces)\n",
        "combi['tidy_tweet'] = combi['tidy_tweet'].str.replace(\"[^a-zA-Z#]\", \" \", regex=True)\n",
        "\n",
        "# Convert tidy_tweet to string type and fill NaN with empty string\n",
        "combi['tidy_tweet'] = combi['tidy_tweet'].astype(str).fillna('')\n",
        "\n",
        "# Filter for label 0 and inspect\n",
        "cleaned_tweets_label_0 = combi[combi['label'] == 0]['tidy_tweet'].astype(str).dropna()\n",
        "print(\"Sample of cleaned tweets (tidy_tweet) for label 0:\")\n",
        "display(cleaned_tweets_label_0.head())\n",
        "print(\"\\nNumber of cleaned tweets for label 0:\", len(cleaned_tweets_label_0))\n",
        "\n",
        "# Filter for label 1 and inspect\n",
        "cleaned_tweets_label_1 = combi[combi['label'] == 1]['tidy_tweet'].astype(str).dropna()\n",
        "print(\"\\nSample of cleaned tweets (tidy_tweet) for label 1:\")\n",
        "display(cleaned_tweets_label_1.head())\n",
        "print(\"\\nNumber of cleaned tweets for label 1:\", len(cleaned_tweets_label_1))"
      ],
      "execution_count": null,
      "outputs": []
    },
    {
      "cell_type": "markdown",
      "metadata": {
        "id": "ca96be74"
      },
      "source": [
        "### Inspecting data after cleaning but before removing short words"
      ]
    },
    {
      "cell_type": "code",
      "metadata": {
        "id": "1d78a149"
      },
      "source": [
        "# Function to remove patterns from text (redefined for clarity in this inspection step)\n",
        "def remove_pattern(input_txt, pattern):\n",
        "    r = re.findall(pattern, str(input_txt))  # Convert to string to handle potential NaN\n",
        "    for i in r:\n",
        "        input_txt = re.sub(i, '', str(input_txt))\n",
        "    return str(input_txt) # Ensure output is string\n",
        "\n",
        "# Apply cleaning to remove @user\n",
        "combi['temp_tweet'] = np.vectorize(remove_pattern)(combi['tweet'], r\"@[\\w]*\")\n",
        "\n",
        "# Remove special characters, numbers, and punctuation (keeping hashtags and spaces)\n",
        "combi['temp_tweet'] = combi['temp_tweet'].str.replace(\"[^a-zA-Z#]\", \" \", regex=True)\n",
        "\n",
        "# Display some tweets with label 0 after initial cleaning\n",
        "print(\"Sample tweets with label 0 after initial cleaning:\")\n",
        "display(combi[combi['label'] == 0][['tweet', 'temp_tweet']].head())\n",
        "\n",
        "# Display some tweets with label 1 after initial cleaning\n",
        "print(\"\\nSample tweets with label 1 after initial cleaning:\")\n",
        "display(combi[combi['label'] == 1][['tweet', 'temp_tweet']].head())\n",
        "\n",
        "# Drop the temporary column\n",
        "combi = combi.drop('temp_tweet', axis=1)"
      ],
      "execution_count": null,
      "outputs": []
    },
    {
      "cell_type": "code",
      "metadata": {
        "id": "04c3c43a"
      },
      "source": [
        "print(combi['label'].value_counts(dropna=False))\n",
        "print(combi['label'].unique())"
      ],
      "execution_count": null,
      "outputs": []
    },
    {
      "cell_type": "markdown",
      "metadata": {
        "id": "331401e5"
      },
      "source": [
        "## Data Analysis and Visualization (Re-run after fixing label column and header row)"
      ]
    },
    {
      "cell_type": "markdown",
      "metadata": {
        "id": "fc734a00"
      },
      "source": [
        "### A) Understanding the common words used in the tweets: WordCloud"
      ]
    },
    {
      "cell_type": "code",
      "metadata": {
        "id": "a8fcdce7"
      },
      "source": [
        "# Function to remove patterns from text\n",
        "def remove_pattern(input_txt, pattern):\n",
        "    r = re.findall(pattern, str(input_txt))  # Convert to string to handle potential NaN\n",
        "    for i in r:\n",
        "        input_txt = re.sub(i, '', str(input_txt))\n",
        "    return str(input_txt) # Ensure output is string\n",
        "\n",
        "# Apply cleaning to remove @user\n",
        "combi['tidy_tweet'] = np.vectorize(remove_pattern)(combi['tweet'], r\"@[\\w]*\")\n",
        "\n",
        "# Remove special characters, numbers, and punctuation (keeping hashtags and spaces)\n",
        "combi['tidy_tweet'] = combi['tidy_tweet'].str.replace(\"[^a-zA-Z#]\", \" \", regex=True)\n",
        "\n",
        "# Convert tidy_tweet to string type and fill NaN with empty string\n",
        "combi['tidy_tweet'] = combi['tidy_tweet'].astype(str).fillna('')\n",
        "\n",
        "\n",
        "# Generate word cloud for all tweets\n",
        "all_words = ' '.join([text for text in combi['tidy_tweet']])\n",
        "from wordcloud import WordCloud\n",
        "wordcloud = WordCloud(width=800, height=500, random_state=21, max_font_size=110).generate(all_words)\n",
        "\n",
        "plt.figure(figsize=(10, 7))\n",
        "plt.imshow(wordcloud, interpolation=\"bilinear\")\n",
        "plt.axis('off')\n",
        "plt.title(\"Word Cloud of All Tweets\")\n",
        "plt.show()"
      ],
      "execution_count": null,
      "outputs": []
    },
    {
      "cell_type": "markdown",
      "metadata": {
        "id": "fc2abe8e"
      },
      "source": [
        "### B) Words in non-racist/sexist tweets (label == 0)"
      ]
    },
    {
      "cell_type": "code",
      "metadata": {
        "id": "cdedf8ca"
      },
      "source": [
        "# Function to remove patterns from text\n",
        "def remove_pattern(input_txt, pattern):\n",
        "    r = re.findall(pattern, str(input_txt))  # Convert to string to handle potential NaN\n",
        "    for i in r:\n",
        "        input_txt = re.sub(i, '', str(input_txt))\n",
        "    return str(input_txt) # Ensure output is string\n",
        "\n",
        "# Apply cleaning to remove @user\n",
        "combi['tidy_tweet'] = np.vectorize(remove_pattern)(combi['tweet'], r\"@[\\w]*\")\n",
        "\n",
        "# Remove special characters, numbers, and punctuation (keeping hashtags and spaces)\n",
        "combi['tidy_tweet'] = combi['tidy_tweet'].str.replace(\"[^a-zA-Z#]\", \" \", regex=True)\n",
        "\n",
        "# Remove short words (length <= 3)\n",
        "combi['tidy_tweet'] = combi['tidy_tweet'].apply(lambda x: ' '.join([w for w in x.split() if len(w) > 3]))\n",
        "\n",
        "# Fill NaNs with empty string\n",
        "combi['tidy_tweet'] = combi['tidy_tweet'].astype(str).fillna('')\n",
        "\n",
        "# Generate word cloud only if there are valid non-racist tweets\n",
        "filtered_df = combi[(combi['label'] == 0) & (combi['tidy_tweet'].str.strip() != '')]\n",
        "\n",
        "if not filtered_df.empty:\n",
        "    normal_words = ' '.join(filtered_df['tidy_tweet'])\n",
        "    if normal_words.strip():  # Ensure it's not just empty/space\n",
        "        wordcloud = WordCloud(width=800, height=500, random_state=21, max_font_size=110).generate(normal_words)\n",
        "        plt.figure(figsize=(10, 7))\n",
        "        plt.imshow(wordcloud, interpolation=\"bilinear\")\n",
        "        plt.axis('off')\n",
        "        plt.title(\"Word Cloud of Non-Racist/Sexist Tweets\")\n",
        "        plt.show()\n",
        "    else:\n",
        "        print(\"No valid words found for non-racist tweets after cleaning.\")\n",
        "else:\n",
        "    print(\"No non-racist tweets found.\")\n"
      ],
      "execution_count": null,
      "outputs": []
    },
    {
      "cell_type": "markdown",
      "metadata": {
        "id": "986fb8b4"
      },
      "source": [
        "### C) Words in racist/sexist tweets (label == 1)"
      ]
    },
    {
      "cell_type": "code",
      "metadata": {
        "id": "b5d7cfd7"
      },
      "source": [
        "from wordcloud import WordCloud\n",
        "import matplotlib.pyplot as plt\n",
        "import re\n",
        "import numpy as np\n",
        "\n",
        "# Function to remove patterns from text\n",
        "def remove_pattern(input_txt, pattern):\n",
        "    r = re.findall(pattern, str(input_txt))  # Convert to string to handle potential NaN\n",
        "    for i in r:\n",
        "        input_txt = re.sub(i, '', str(input_txt))\n",
        "    return str(input_txt)  # Ensure output is string\n",
        "\n",
        "# Apply cleaning to remove @user\n",
        "combi['tidy_tweet'] = np.vectorize(remove_pattern)(combi['tweet'], r\"@[\\w]*\")\n",
        "\n",
        "# Remove special characters, numbers, and punctuation (keeping hashtags and spaces)\n",
        "combi['tidy_tweet'] = combi['tidy_tweet'].str.replace(\"[^a-zA-Z#]\", \" \", regex=True)\n",
        "\n",
        "# Convert tidy_tweet to string type and fill NaN with empty string\n",
        "combi['tidy_tweet'] = combi['tidy_tweet'].astype(str).fillna('')\n",
        "\n",
        "# Generate word cloud for racist/sexist tweets (label == 1)\n",
        "negative_words = ' '.join([text for text in combi[combi['label'] == 1]['tidy_tweet'].dropna()])\n",
        "if negative_words.strip():  # Check if there's any content\n",
        "    wordcloud = WordCloud(width=800, height=500, random_state=21, max_font_size=110).generate(negative_words)\n",
        "    plt.figure(figsize=(10, 7))\n",
        "    plt.imshow(wordcloud, interpolation=\"bilinear\")\n",
        "    plt.axis('off')\n",
        "    plt.title(\"Word Cloud of Racist/Sexist Tweets\")\n",
        "    plt.show()\n",
        "else:\n",
        "    print(\"No racist/sexist tweets found to generate a word cloud.\")\n"
      ],
      "execution_count": null,
      "outputs": []
    },
    {
      "cell_type": "markdown",
      "metadata": {
        "id": "2a848e86"
      },
      "source": [
        "### D) Understanding the impact of Hashtags on tweets sentiment"
      ]
    },
    {
      "cell_type": "code",
      "metadata": {
        "id": "35dae55b"
      },
      "source": [
        "# Function to remove patterns from text\n",
        "def remove_pattern(input_txt, pattern):\n",
        "    r = re.findall(pattern, str(input_txt))  # Convert to string to handle potential NaN\n",
        "    for i in r:\n",
        "        input_txt = re.sub(i, '', str(input_txt))\n",
        "    return str(input_txt) # Ensure output is string\n",
        "\n",
        "# Apply cleaning to remove @user\n",
        "combi['tidy_tweet'] = np.vectorize(remove_pattern)(combi['tweet'], r\"@[\\w]*\")\n",
        "\n",
        "# Remove special characters, numbers, and punctuation (keeping hashtags and spaces)\n",
        "combi['tidy_tweet'] = combi['tidy_tweet'].str.replace(\"[^a-zA-Z#]\", \" \", regex=True)\n",
        "\n",
        "# Convert tidy_tweet to string type and fill NaN with empty string\n",
        "combi['tidy_tweet'] = combi['tidy_tweet'].astype(str).fillna('')\n",
        "\n",
        "\n",
        "# function to collect hashtags\n",
        "def hashtag_extract(tweets):\n",
        "    hashtags = []\n",
        "    # Loop over the words in the tweet\n",
        "    for tweet in tweets:\n",
        "        ht = re.findall(r\"#(\\w+)\", tweet)\n",
        "        hashtags.append(ht)\n",
        "    return hashtags\n",
        "\n",
        "# extracting hashtags from non racist/sexist tweets\n",
        "# Ensure the label column is not NaN and filter\n",
        "HT_regular = hashtag_extract(combi.loc[combi['label'] == 0, 'tidy_tweet'].astype(str).dropna())\n",
        "\n",
        "# extracting hashtags from racist/sexist tweets\n",
        "# Ensure the label column is not NaN and filter\n",
        "HT_negative = hashtag_extract(combi.loc[combi['label'] == 1, 'tidy_tweet'].astype(str).dropna())\n",
        "\n",
        "# unnesting list\n",
        "HT_regular = sum(HT_regular, [])\n",
        "HT_negative = sum(HT_negative, [])"
      ],
      "execution_count": null,
      "outputs": []
    },
    {
      "cell_type": "markdown",
      "metadata": {
        "id": "97a15caf"
      },
      "source": [
        "### Non-Racist/Sexist Tweets Hashtag Frequency"
      ]
    },
    {
      "cell_type": "code",
      "metadata": {
        "id": "6cde409b"
      },
      "source": [
        "import nltk\n",
        "\n",
        "# Function to remove patterns from text\n",
        "def remove_pattern(input_txt, pattern):\n",
        "    r = re.findall(pattern, str(input_txt))  # Convert to string to handle potential NaN\n",
        "    for i in r:\n",
        "        input_txt = re.sub(i, '', str(input_txt))\n",
        "    return str(input_txt) # Ensure output is string\n",
        "\n",
        "# Apply cleaning to remove @user\n",
        "combi['tidy_tweet'] = np.vectorize(remove_pattern)(combi['tweet'], r\"@[\\w]*\")\n",
        "\n",
        "# Remove special characters, numbers, and punctuation (keeping hashtags and spaces)\n",
        "combi['tidy_tweet'] = combi['tidy_tweet'].str.replace(\"[^a-zA-Z#]\", \" \", regex=True)\n",
        "\n",
        "# Convert tidy_tweet to string type and fill NaN with empty string\n",
        "combi['tidy_tweet'] = combi['tidy_tweet'].astype(str).fillna('')\n",
        "\n",
        "# extracting hashtags from non racist/sexist tweets\n",
        "# Ensure the label column is not NaN and filter\n",
        "HT_regular = hashtag_extract(combi.loc[combi['label'] == 0, 'tidy_tweet'].astype(str).dropna())\n",
        "\n",
        "a = nltk.FreqDist(HT_regular)\n",
        "d = pd.DataFrame({'Hashtag': list(a.keys()), 'Count': list(a.values())})\n",
        "# selecting top 20 most frequent hashtags\n",
        "d = d.nlargest(columns=\"Count\", n=20)\n",
        "plt.figure(figsize=(16, 5))\n",
        "ax = sns.barplot(data=d, x=\"Hashtag\", y=\"Count\")\n",
        "ax.set(ylabel='Count')\n",
        "plt.xticks(rotation=45, ha='right') # Rotate x-axis labels\n",
        "plt.title(\"Top 20 Hashtags in Non-Racist/Sexist Tweets\")\n",
        "plt.show()"
      ],
      "execution_count": null,
      "outputs": []
    },
    {
      "cell_type": "markdown",
      "metadata": {
        "id": "57beb994"
      },
      "source": [
        "### Racist/Sexist Tweets Hashtag Frequency"
      ]
    },
    {
      "cell_type": "code",
      "metadata": {
        "id": "227b7bb7"
      },
      "source": [
        "import nltk\n",
        "\n",
        "# Function to remove patterns from text\n",
        "def remove_pattern(input_txt, pattern):\n",
        "    r = re.findall(pattern, str(input_txt))  # Convert to string to handle potential NaN\n",
        "    for i in r:\n",
        "        input_txt = re.sub(i, '', str(input_txt))\n",
        "    return str(input_txt) # Ensure output is string\n",
        "\n",
        "# Apply cleaning to remove @user\n",
        "combi['tidy_tweet'] = np.vectorize(remove_pattern)(combi['tweet'], r\"@[\\w]*\")\n",
        "\n",
        "# Remove special characters, numbers, and punctuation (keeping hashtags and spaces)\n",
        "combi['tidy_tweet'] = combi['tidy_tweet'].str.replace(\"[^a-zA-Z#]\", \" \", regex=True)\n",
        "\n",
        "# Convert tidy_tweet to string type and fill NaN with empty string\n",
        "combi['tidy_tweet'] = combi['tidy_tweet'].astype(str).fillna('')\n",
        "\n",
        "\n",
        "# extracting hashtags from racist/sexist tweets\n",
        "# Ensure the label column is not NaN and filter\n",
        "HT_negative = hashtag_extract(combi.loc[combi['label'] == 1, 'tidy_tweet'].astype(str).dropna())\n",
        "\n",
        "\n",
        "b = nltk.FreqDist(HT_negative)\n",
        "e = pd.DataFrame({'Hashtag': list(b.keys()), 'Count': list(b.values())})\n",
        "# selecting top 20 most frequent hashtags\n",
        "e = e.nlargest(columns=\"Count\", n=20)\n",
        "plt.figure(figsize=(16, 5))\n",
        "ax = sns.barplot(data=e, x=\"Hashtag\", y=\"Count\")\n",
        "ax.set(ylabel='Count')\n",
        "plt.xticks(rotation=45, ha='right') # Rotate x-axis labels\n",
        "# Add frequency count on top of each bar\n",
        "for container in ax.containers:\n",
        "    ax.bar_label(container)\n",
        "plt.title(\"Top 20 Hashtags in Racist/Sexist Tweets\")\n",
        "plt.show()"
      ],
      "execution_count": null,
      "outputs": []
    },
    {
      "cell_type": "markdown",
      "metadata": {
        "id": "750259fc"
      },
      "source": [
        "### Inspecting cleaned tweets by label"
      ]
    },
    {
      "cell_type": "code",
      "metadata": {
        "id": "53c6f91a"
      },
      "source": [
        "# Function to remove patterns from text\n",
        "def remove_pattern(input_txt, pattern):\n",
        "    r = re.findall(pattern, str(input_txt))  # Convert to string to handle potential NaN\n",
        "    for i in r:\n",
        "        input_txt = re.sub(i, '', str(input_txt))\n",
        "    return str(input_txt) # Ensure output is string\n",
        "\n",
        "# Apply cleaning to remove @user\n",
        "combi['tidy_tweet'] = np.vectorize(remove_pattern)(combi['tweet'], r\"@[\\w]*\")\n",
        "\n",
        "# Remove special characters, numbers, and punctuation (keeping hashtags and spaces)\n",
        "combi['tidy_tweet'] = combi['tidy_tweet'].str.replace(\"[^a-zA-Z#]\", \" \", regex=True)\n",
        "\n",
        "# Convert tidy_tweet to string type and fill NaN with empty string\n",
        "combi['tidy_tweet'] = combi['tidy_tweet'].astype(str).fillna('')\n",
        "\n",
        "# Filter for label 0 and inspect\n",
        "cleaned_tweets_label_0 = combi[combi['label'] == 0]['tidy_tweet'].astype(str).dropna()\n",
        "print(\"Sample of cleaned tweets (tidy_tweet) for label 0:\")\n",
        "display(cleaned_tweets_label_0.head())\n",
        "print(\"\\nNumber of cleaned tweets for label 0:\", len(cleaned_tweets_label_0))\n",
        "\n",
        "# Filter for label 1 and inspect\n",
        "cleaned_tweets_label_1 = combi[combi['label'] == 1]['tidy_tweet'].astype(str).dropna()\n",
        "print(\"\\nSample of cleaned tweets (tidy_tweet) for label 1:\")\n",
        "display(cleaned_tweets_label_1.head())\n",
        "print(\"\\nNumber of cleaned tweets for label 1:\", len(cleaned_tweets_label_1))"
      ],
      "execution_count": null,
      "outputs": []
    },
    {
      "cell_type": "markdown",
      "metadata": {
        "id": "b7748536"
      },
      "source": [
        "## Data Analysis and Visualization (Re-run after fixing label column and header row)"
      ]
    },
    {
      "cell_type": "markdown",
      "metadata": {
        "id": "89871d19"
      },
      "source": [
        "### A) Understanding the common words used in the tweets: WordCloud"
      ]
    },
    {
      "cell_type": "code",
      "metadata": {
        "id": "5b74375c"
      },
      "source": [
        "# Function to remove patterns from text\n",
        "def remove_pattern(input_txt, pattern):\n",
        "    r = re.findall(pattern, str(input_txt))  # Convert to string to handle potential NaN\n",
        "    for i in r:\n",
        "        input_txt = re.sub(i, '', str(input_txt))\n",
        "    return str(input_txt) # Ensure output is string\n",
        "\n",
        "# Apply cleaning to remove @user\n",
        "combi['tidy_tweet'] = np.vectorize(remove_pattern)(combi['tweet'], r\"@[\\w]*\")\n",
        "\n",
        "# Remove special characters, numbers, and punctuation (keeping hashtags and spaces)\n",
        "combi['tidy_tweet'] = combi['tidy_tweet'].str.replace(\"[^a-zA-Z#]\", \" \", regex=True)\n",
        "\n",
        "# Convert tidy_tweet to string type and fill NaN with empty string\n",
        "combi['tidy_tweet'] = combi['tidy_tweet'].astype(str).fillna('')\n",
        "\n",
        "\n",
        "# Generate word cloud for all tweets\n",
        "all_words = ' '.join([text for text in combi['tidy_tweet']])\n",
        "from wordcloud import WordCloud\n",
        "wordcloud = WordCloud(width=800, height=500, random_state=21, max_font_size=110).generate(all_words)\n",
        "\n",
        "plt.figure(figsize=(10, 7))\n",
        "plt.imshow(wordcloud, interpolation=\"bilinear\")\n",
        "plt.axis('off')\n",
        "plt.title(\"Word Cloud of All Tweets\")\n",
        "plt.show()"
      ],
      "execution_count": null,
      "outputs": []
    },
    {
      "cell_type": "markdown",
      "metadata": {
        "id": "ceb65015"
      },
      "source": [
        "### B) Words in non-racist/sexist tweets (label == 0)"
      ]
    },
    {
      "cell_type": "code",
      "metadata": {
        "id": "86811af1"
      },
      "source": [
        "# Step 1: Check if any tweets exist with label 0\n",
        "label_0_tweets = combi[combi['label'] == 0]['tidy_tweet'].dropna().astype(str)\n",
        "print(\"Number of label 0 tweets:\", label_0_tweets.shape[0])\n",
        "\n",
        "# Step 2: Join them into one string\n",
        "normal_words = ' '.join([text for text in label_0_tweets if text.strip() != \"\"])\n",
        "print(\"Length of joined normal_words string:\", len(normal_words))\n",
        "\n",
        "# Step 3: Check if normal_words is not empty\n",
        "if normal_words.strip():  # make sure it's not just empty/space\n",
        "    wordcloud = WordCloud(width=800, height=500, random_state=21, max_font_size=110).generate(normal_words)\n",
        "    plt.figure(figsize=(10, 7))\n",
        "    plt.imshow(wordcloud, interpolation=\"bilinear\")\n",
        "    plt.axis('off')\n",
        "    plt.title(\"Word Cloud of Non-Racist/Sexist Tweets\")\n",
        "    plt.show()\n",
        "else:\n",
        "    print(\"No words available for word cloud. Check preprocessing or label data.\")\n"
      ],
      "execution_count": null,
      "outputs": []
    },
    {
      "cell_type": "markdown",
      "metadata": {
        "id": "63560c24"
      },
      "source": [
        "### C) Words in racist/sexist tweets (label == 1)"
      ]
    },
    {
      "cell_type": "code",
      "metadata": {
        "id": "df5fe940"
      },
      "source": [
        "# Step 1: Check if label 1 data exists\n",
        "label_1_tweets = combi[combi['label'] == 1]['tidy_tweet'].dropna().astype(str)\n",
        "print(\"Number of tweets with label 1:\", label_1_tweets.shape[0])\n",
        "\n",
        "# Step 2: Join the tweets into a single string (removing empty/whitespace-only tweets)\n",
        "negative_words = ' '.join([text for text in label_1_tweets if text.strip() != \"\"])\n",
        "print(\"Length of combined text for word cloud:\", len(negative_words))\n",
        "\n",
        "# Step 3: Only generate the word cloud if words are present\n",
        "if negative_words.strip():\n",
        "    wordcloud = WordCloud(width=800, height=500, random_state=21, max_font_size=110).generate(negative_words)\n",
        "    plt.figure(figsize=(10, 7))\n",
        "    plt.imshow(wordcloud, interpolation=\"bilinear\")\n",
        "    plt.axis('off')\n",
        "    plt.title(\"Word Cloud of Racist/Sexist Tweets\")\n",
        "    plt.show()\n",
        "else:\n",
        "    print(\"❗ No words available to generate a word cloud for label 1. Check if tweets exist or if they were stripped too much.\")\n"
      ],
      "execution_count": null,
      "outputs": []
    },
    {
      "cell_type": "markdown",
      "metadata": {
        "id": "ba716f39"
      },
      "source": [
        "### D) Understanding the impact of Hashtags on tweets sentiment"
      ]
    },
    {
      "cell_type": "code",
      "metadata": {
        "id": "9c25729d"
      },
      "source": [
        "# Function to remove patterns from text\n",
        "def remove_pattern(input_txt, pattern):\n",
        "    r = re.findall(pattern, str(input_txt))  # Convert to string to handle potential NaN\n",
        "    for i in r:\n",
        "        input_txt = re.sub(i, '', str(input_txt))\n",
        "    return str(input_txt) # Ensure output is string\n",
        "\n",
        "# Apply cleaning to remove @user\n",
        "combi['tidy_tweet'] = np.vectorize(remove_pattern)(combi['tweet'], r\"@[\\w]*\")\n",
        "\n",
        "# Remove special characters, numbers, and punctuation (keeping hashtags and spaces)\n",
        "combi['tidy_tweet'] = combi['tidy_tweet'].str.replace(\"[^a-zA-Z#]\", \" \", regex=True)\n",
        "\n",
        "# Convert tidy_tweet to string type and fill NaN with empty string\n",
        "combi['tidy_tweet'] = combi['tidy_tweet'].astype(str).fillna('')\n",
        "\n",
        "\n",
        "# function to collect hashtags\n",
        "def hashtag_extract(tweets):\n",
        "    hashtags = []\n",
        "    # Loop over the words in the tweet\n",
        "    for tweet in tweets:\n",
        "        ht = re.findall(r\"#(\\w+)\", tweet)\n",
        "        hashtags.append(ht)\n",
        "    return hashtags\n",
        "\n",
        "# extracting hashtags from non racist/sexist tweets\n",
        "# Ensure the label column is not NaN and filter\n",
        "HT_regular = hashtag_extract(combi.loc[combi['label'] == 0, 'tidy_tweet'].astype(str).dropna())\n",
        "\n",
        "# extracting hashtags from racist/sexist tweets\n",
        "# Ensure the label column is not NaN and filter\n",
        "HT_negative = hashtag_extract(combi.loc[combi['label'] == 1, 'tidy_tweet'].astype(str).dropna())\n",
        "\n",
        "# unnesting list\n",
        "HT_regular = sum(HT_regular, [])\n",
        "HT_negative = sum(HT_negative, [])"
      ],
      "execution_count": null,
      "outputs": []
    },
    {
      "cell_type": "markdown",
      "metadata": {
        "id": "1fc2a338"
      },
      "source": [
        "### Non-Racist/Sexist Tweets Hashtag Frequency"
      ]
    },
    {
      "cell_type": "code",
      "metadata": {
        "id": "e00fb4ac"
      },
      "source": [
        "import nltk\n",
        "\n",
        "# Function to remove patterns from text\n",
        "def remove_pattern(input_txt, pattern):\n",
        "    r = re.findall(pattern, str(input_txt))  # Convert to string to handle potential NaN\n",
        "    for i in r:\n",
        "        input_txt = re.sub(i, '', str(input_txt))\n",
        "    return str(input_txt) # Ensure output is string\n",
        "\n",
        "# Apply cleaning to remove @user\n",
        "combi['tidy_tweet'] = np.vectorize(remove_pattern)(combi['tweet'], r\"@[\\w]*\")\n",
        "\n",
        "# Remove special characters, numbers, and punctuation (keeping hashtags and spaces)\n",
        "combi['tidy_tweet'] = combi['tidy_tweet'].str.replace(\"[^a-zA-Z#]\", \" \", regex=True)\n",
        "\n",
        "# Convert tidy_tweet to string type and fill NaN with empty string\n",
        "combi['tidy_tweet'] = combi['tidy_tweet'].astype(str).fillna('')\n",
        "\n",
        "# extracting hashtags from non racist/sexist tweets\n",
        "# Ensure the label column is not NaN and filter\n",
        "HT_regular = hashtag_extract(combi.loc[combi['label'] == 0, 'tidy_tweet'].astype(str).dropna())\n",
        "\n",
        "a = nltk.FreqDist(HT_regular)\n",
        "d = pd.DataFrame({'Hashtag': list(a.keys()), 'Count': list(a.values())})\n",
        "# selecting top 20 most frequent hashtags\n",
        "d = d.nlargest(columns=\"Count\", n=20)\n",
        "plt.figure(figsize=(16, 5))\n",
        "ax = sns.barplot(data=d, x=\"Hashtag\", y=\"Count\")\n",
        "ax.set(ylabel='Count')\n",
        "plt.xticks(rotation=45, ha='right') # Rotate x-axis labels\n",
        "plt.title(\"Top 20 Hashtags in Non-Racist/Sexist Tweets\")\n",
        "plt.show()"
      ],
      "execution_count": null,
      "outputs": []
    },
    {
      "cell_type": "markdown",
      "metadata": {
        "id": "c5491098"
      },
      "source": [
        "### Racist/Sexist Tweets Hashtag Frequency"
      ]
    },
    {
      "cell_type": "code",
      "metadata": {
        "id": "b766e246"
      },
      "source": [
        "import nltk\n",
        "\n",
        "# Function to remove patterns from text\n",
        "def remove_pattern(input_txt, pattern):\n",
        "    r = re.findall(pattern, str(input_txt))  # Convert to string to handle potential NaN\n",
        "    for i in r:\n",
        "        input_txt = re.sub(i, '', str(input_txt))\n",
        "    return str(input_txt) # Ensure output is string\n",
        "\n",
        "# Apply cleaning to remove @user\n",
        "combi['tidy_tweet'] = np.vectorize(remove_pattern)(combi['tweet'], r\"@[\\w]*\")\n",
        "\n",
        "# Remove special characters, numbers, and punctuation (keeping hashtags and spaces)\n",
        "combi['tidy_tweet'] = combi['tidy_tweet'].str.replace(\"[^a-zA-Z#]\", \" \", regex=True)\n",
        "\n",
        "# Convert tidy_tweet to string type and fill NaN with empty string\n",
        "combi['tidy_tweet'] = combi['tidy_tweet'].astype(str).fillna('')\n",
        "\n",
        "\n",
        "# extracting hashtags from racist/sexist tweets\n",
        "# Ensure the label column is not NaN and filter\n",
        "HT_negative = hashtag_extract(combi.loc[combi['label'] == 1, 'tidy_tweet'].astype(str).dropna())\n",
        "\n",
        "\n",
        "b = nltk.FreqDist(HT_negative)\n",
        "e = pd.DataFrame({'Hashtag': list(b.keys()), 'Count': list(b.values())})\n",
        "# selecting top 20 most frequent hashtags\n",
        "e = e.nlargest(columns=\"Count\", n=20)\n",
        "plt.figure(figsize=(16, 5))\n",
        "ax = sns.barplot(data=e, x=\"Hashtag\", y=\"Count\")\n",
        "ax.set(ylabel='Count')\n",
        "plt.xticks(rotation=45, ha='right') # Rotate x-axis labels\n",
        "# Add frequency count on top of each bar\n",
        "for container in ax.containers:\n",
        "    ax.bar_label(container)\n",
        "plt.title(\"Top 20 Hashtags in Racist/Sexist Tweets\")\n",
        "plt.show()"
      ],
      "execution_count": null,
      "outputs": []
    },
    {
      "cell_type": "markdown",
      "source": [
        "👉 Heatmap: Co-occurrence of words (from “Feature Engineering” part)\n",
        "This step helps us understand which words appear together frequently, especially in sexist/racist tweets.\n",
        "\n"
      ],
      "metadata": {
        "id": "E7pdt7q2e2QQ"
      }
    },
    {
      "cell_type": "code",
      "source": [
        "# Pivot for heatmap - FIXED\n",
        "co_occur_matrix = pd.DataFrame(\n",
        "    index=sorted([i[0] for i in co_occur_df['pair']]),\n",
        "    columns=sorted([i[1] for i in co_occur_df['pair']])\n",
        ").fillna(0)\n"
      ],
      "metadata": {
        "id": "WYRkuPLweypu"
      },
      "execution_count": null,
      "outputs": []
    },
    {
      "cell_type": "code",
      "source": [
        "# 1. Filter only racist/sexist tweets\n",
        "racist_tweets = combi[combi['label'] == 1]\n",
        "\n",
        "# 2. Extract top 20 most frequent words\n",
        "from collections import Counter\n",
        "top_words = Counter(\" \".join(racist_tweets[\"tidy_tweet\"]).split()).most_common(20)\n",
        "top_words = [word for word, freq in top_words]\n",
        "\n",
        "# 3. Create co-occurrence matrix\n",
        "from itertools import combinations\n",
        "from collections import defaultdict\n",
        "\n",
        "co_occur = defaultdict(int)\n",
        "\n",
        "# Count co-occurrences\n",
        "for tweet in racist_tweets[\"tidy_tweet\"]:\n",
        "    words = [word for word in tweet.split() if word in top_words]\n",
        "    for pair in combinations(sorted(set(words)), 2):  # unique pairs\n",
        "        co_occur[pair] += 1\n",
        "\n",
        "# Convert to DataFrame\n",
        "co_occur_df = pd.DataFrame([(*k, v) for k, v in co_occur.items()], columns=[\"word1\", \"word2\", \"count\"])\n",
        "\n",
        "# 4. Build matrix safely\n",
        "if not co_occur_df.empty:\n",
        "    matrix_index = sorted(set(co_occur_df[\"word1\"]) | set(co_occur_df[\"word2\"]))\n",
        "    co_matrix = pd.DataFrame(index=matrix_index, columns=matrix_index).fillna(0)\n",
        "\n",
        "    for _, row in co_occur_df.iterrows():\n",
        "        co_matrix.at[row[\"word1\"], row[\"word2\"]] = row[\"count\"]\n",
        "        co_matrix.at[row[\"word2\"], row[\"word1\"]] = row[\"count\"]\n",
        "\n",
        "    # 5. Plot heatmap\n",
        "    plt.figure(figsize=(10, 8))\n",
        "    sns.heatmap(co_matrix, cmap=\"Reds\")\n",
        "    plt.title(\"Co-occurrence Heatmap of Top Words in Racist/Sexist Tweets\")\n",
        "    plt.show()\n",
        "else:\n",
        "    print(\"Co-occurrence DataFrame is empty — no pairs found.\")\n"
      ],
      "metadata": {
        "id": "rTtqdyGnfC2g"
      },
      "execution_count": null,
      "outputs": []
    },
    {
      "cell_type": "markdown",
      "source": [
        "✅ Text Vectorization for Model Building\n",
        "We’ll now:\n",
        "\n",
        "Convert tweets into numerical features using TF-IDF (Term Frequency-Inverse Document Frequency).\n",
        "\n",
        "Train a Logistic Regression model.\n",
        "\n",
        "Evaluate it.\n",
        "\n"
      ],
      "metadata": {
        "id": "u3T5quE7fkMv"
      }
    },
    {
      "cell_type": "code",
      "source": [
        "from sklearn.feature_extraction.text import TfidfVectorizer\n",
        "\n",
        "# Create TF-IDF vectors for all tweets\n",
        "tfidf = TfidfVectorizer(max_features=5000)  # You can adjust this value\n",
        "X_tfidf = tfidf.fit_transform(combi['tidy_tweet'])\n",
        "\n",
        "# Target variable\n",
        "y = combi['label']\n"
      ],
      "metadata": {
        "id": "0a7cA41PfXPU"
      },
      "execution_count": null,
      "outputs": []
    },
    {
      "cell_type": "markdown",
      "source": [
        "🤖 2. Train-Test Split"
      ],
      "metadata": {
        "id": "GbjJrJ6nfsxL"
      }
    },
    {
      "cell_type": "code",
      "source": [
        "from sklearn.model_selection import train_test_split\n",
        "\n",
        "X_train, X_valid, y_train, y_valid = train_test_split(X_tfidf, y, stratify=y, random_state=42, test_size=0.2)\n"
      ],
      "metadata": {
        "id": "M09_cb5ffqCj"
      },
      "execution_count": null,
      "outputs": []
    },
    {
      "cell_type": "markdown",
      "source": [
        " 3. Logistic Regression Model"
      ],
      "metadata": {
        "id": "h2PpnPBLf0Gb"
      }
    },
    {
      "cell_type": "code",
      "source": [
        "print(\"Unique labels:\", combi['label'].unique())\n",
        "print(combi['label'].value_counts())\n"
      ],
      "metadata": {
        "id": "BCVr-UbkgCXA"
      },
      "execution_count": null,
      "outputs": []
    },
    {
      "cell_type": "code",
      "source": [
        "import pandas as pd\n",
        "import numpy as np\n",
        "import re\n",
        "import string\n",
        "import nltk\n",
        "from nltk.corpus import stopwords\n",
        "from sklearn.model_selection import train_test_split\n",
        "from sklearn.feature_extraction.text import CountVectorizer\n",
        "from sklearn.linear_model import LogisticRegression\n",
        "from sklearn.metrics import accuracy_score, confusion_matrix, classification_report\n",
        "\n",
        "nltk.download('stopwords')\n",
        "stop = set(stopwords.words('english'))\n",
        "\n",
        "# Load your train.csv\n",
        "train = pd.read_csv('/content/train_E6oV3lV.csv')\n",
        "\n",
        "# Function to clean tweets\n",
        "def clean_tweet(tweet):\n",
        "    tweet = str(tweet)\n",
        "    tweet = tweet.lower()\n",
        "    tweet = re.sub(r'@\\w+', '', tweet)  # remove mentions\n",
        "    tweet = re.sub(r'http\\S+|www\\S+|https\\S+', '', tweet, flags=re.MULTILINE)  # remove URLs\n",
        "    tweet = re.sub(r'\\d+', '', tweet)  # remove digits\n",
        "    tweet = re.sub(r'#\\w+', '', tweet)  # remove hashtags\n",
        "    tweet = tweet.translate(str.maketrans('', '', string.punctuation))  # remove punctuations\n",
        "    tweet = ' '.join([word for word in tweet.split() if word not in stop])  # remove stopwords\n",
        "    return tweet\n",
        "\n",
        "# Apply cleaning\n",
        "train['clean_tweet'] = train['tweet'].apply(clean_tweet)\n",
        "\n",
        "# Split features and labels\n",
        "X = train['clean_tweet']\n",
        "y = train['label']\n",
        "\n",
        "# Vectorize the text using Bag-of-Words\n",
        "vectorizer = CountVectorizer()\n",
        "X_vect = vectorizer.fit_transform(X)\n",
        "\n",
        "# Split into training and validation\n",
        "X_train, X_val, y_train, y_val = train_test_split(X_vect, y, test_size=0.2, random_state=42)\n",
        "\n",
        "# Train Logistic Regression model\n",
        "logreg = LogisticRegression(max_iter=1000)\n",
        "logreg.fit(X_train, y_train)\n",
        "\n",
        "# Predict and evaluate\n",
        "y_pred = logreg.predict(X_val)\n",
        "print(\"Accuracy:\", accuracy_score(y_val, y_pred))\n",
        "print(\"\\nConfusion Matrix:\\n\", confusion_matrix(y_val, y_pred))\n",
        "print(\"\\nClassification Report:\\n\", classification_report(y_val, y_pred))"
      ],
      "metadata": {
        "id": "MIUNeJomf2IY"
      },
      "execution_count": null,
      "outputs": []
    },
    {
      "cell_type": "markdown",
      "source": [
        "✅ Step: Predict Sentiment on test.csv and Create Submission File\n",
        "This part aligns with the Analytics Vidhya course requirement: generate predictions for the test data and prepare the CSV for submission."
      ],
      "metadata": {
        "id": "Xv7KTz81g_oK"
      }
    },
    {
      "cell_type": "code",
      "source": [
        "# Load test data\n",
        "test = pd.read_csv('/content/test_tweets_anuFYb8.csv')\n",
        "\n",
        "# Apply same cleaning function\n",
        "test['clean_tweet'] = test['tweet'].apply(clean_tweet)\n",
        "\n",
        "# Vectorize using the SAME vectorizer as used on training data\n",
        "X_test = vectorizer.transform(test['clean_tweet'])\n",
        "\n",
        "# Predict using trained model\n",
        "test_preds = logreg.predict(X_test)\n",
        "\n",
        "# Prepare submission file\n",
        "submission = pd.DataFrame({\n",
        "    'id': test['id'],\n",
        "    'label': test_preds\n",
        "})\n",
        "\n",
        "# Save to CSV\n",
        "submission.to_csv('submission_logreg.csv', index=False)\n",
        "\n",
        "print(\"✅ Submission file 'submission_logreg.csv' created successfully!\")\n"
      ],
      "metadata": {
        "id": "8VDesLUog5VD"
      },
      "execution_count": null,
      "outputs": []
    },
    {
      "cell_type": "code",
      "source": [
        "!git config --global user.name \"asha2409\""
      ],
      "metadata": {
        "id": "RL-31vFmmze5"
      },
      "execution_count": null,
      "outputs": []
    },
    {
      "cell_type": "code",
      "source": [
        "!git config --global user.email \"ashiasha2409@gmail.com\""
      ],
      "metadata": {
        "id": "oQV_fsBum31x"
      },
      "execution_count": null,
      "outputs": []
    },
    {
      "cell_type": "code",
      "source": [
        "!git clone https://github.com/asha2409/SentimentAnalysis.git"
      ],
      "metadata": {
        "id": "-hc09jp2m9D5"
      },
      "execution_count": null,
      "outputs": []
    },
    {
      "cell_type": "code",
      "source": [
        "import os\n",
        "\n",
        "os.listdir('/content')\n"
      ],
      "metadata": {
        "id": "Y5e5YHkGopu2"
      },
      "execution_count": null,
      "outputs": []
    },
    {
      "cell_type": "code",
      "source": [
        "import os\n",
        "import shutil\n",
        "\n",
        "# Destination folder (GitHub repo folder)\n",
        "dest_dir = '/content/twitter-sentiment-logreg'\n",
        "\n",
        "# Create it if doesn't exist\n",
        "if not os.path.exists(dest_dir):\n",
        "    os.makedirs(dest_dir)\n",
        "\n",
        "# List of items to move\n",
        "files_to_move = [\n",
        "    'test_tweets_anuFYb8.csv',\n",
        "    'train_E6oV3lV.csv',\n",
        "    'submission_logreg.csv',\n",
        "    'SentimentAnalysis'\n",
        "]\n",
        "\n",
        "# Move files\n",
        "for item in files_to_move:\n",
        "    src = os.path.join('/content', item)\n",
        "    dst = os.path.join(dest_dir, item)\n",
        "    try:\n",
        "        shutil.move(src, dst)\n",
        "        print(f\"✅ Moved: {item}\")\n",
        "    except Exception as e:\n",
        "        print(f\"❌ Failed to move {item}: {e}\")\n"
      ],
      "metadata": {
        "id": "0Fy1go1mpOxN"
      },
      "execution_count": null,
      "outputs": []
    },
    {
      "cell_type": "code",
      "source": [],
      "metadata": {
        "id": "KDdO7PwhpoHK"
      },
      "execution_count": null,
      "outputs": []
    },
    {
      "cell_type": "code",
      "source": [
        "%cd /content/twitter-sentiment-logreg\n",
        "\n",
        "!git config --global user.email \"ashiasha2409@gmail.com\"\n",
        "!git config --global user.name \"asha2409\"\n",
        "\n",
        "!git add .\n",
        "!git commit -m \"Added sentiment analysis project files\"\n",
        "!git push origin main\n"
      ],
      "metadata": {
        "id": "mhRBYbDapXMz"
      },
      "execution_count": null,
      "outputs": []
    },
    {
      "cell_type": "code",
      "source": [
        "%cd /content/twitter-sentiment-logreg\n"
      ],
      "metadata": {
        "id": "QHQukFPrpnMj"
      },
      "execution_count": null,
      "outputs": []
    },
    {
      "cell_type": "code",
      "source": [
        "!git add .\n",
        "!git commit -m \"Initial commit: Sentiment Analysis project\"\n"
      ],
      "metadata": {
        "id": "b0x0Mi-7p4xD"
      },
      "execution_count": null,
      "outputs": []
    },
    {
      "cell_type": "code",
      "source": [
        "%cd /content\n",
        "!rm -rf twitter-sentiment-logreg\n"
      ],
      "metadata": {
        "id": "X8nhNEQCqWlM"
      },
      "execution_count": null,
      "outputs": []
    },
    {
      "cell_type": "code",
      "source": [
        "%cd /content/twitter-sentiment-logreg\n"
      ],
      "metadata": {
        "id": "B9tEumV3vFZ8"
      },
      "execution_count": null,
      "outputs": []
    },
    {
      "cell_type": "code",
      "source": [
        "%cd /content/SentimentAnalysis/SentimentAnalysis/SentimentAnalysis/SentimentAnalysis\n"
      ],
      "metadata": {
        "id": "z0isft22vfyS"
      },
      "execution_count": null,
      "outputs": []
    },
    {
      "cell_type": "code",
      "source": [
        "!ls\n"
      ],
      "metadata": {
        "id": "He_kJfB2vj7X"
      },
      "execution_count": null,
      "outputs": []
    },
    {
      "cell_type": "code",
      "source": [
        "!rm README.md\n"
      ],
      "metadata": {
        "id": "jtVYkhYlv1jR"
      },
      "execution_count": null,
      "outputs": []
    },
    {
      "cell_type": "code",
      "source": [
        "!ls\n"
      ],
      "metadata": {
        "id": "AyyEAMAEv3jJ"
      },
      "execution_count": null,
      "outputs": []
    },
    {
      "cell_type": "code",
      "source": [
        "!rm -rf /content/SentimentAnalysis\n"
      ],
      "metadata": {
        "id": "BQQO7K_8wAW_"
      },
      "execution_count": null,
      "outputs": []
    },
    {
      "cell_type": "code",
      "source": [
        "from google.colab import files\n",
        "files.upload(SentimentAnalysis.ipynb)  # no argument needed — this opens file upload dialog\n"
      ],
      "metadata": {
        "id": "6ocXVMW_wn7V"
      },
      "execution_count": null,
      "outputs": []
    }
  ],
  "metadata": {
    "colab": {
      "provenance": []
    },
    "kernelspec": {
      "display_name": "Python 3",
      "name": "python3"
    },
    "language_info": {
      "name": "python"
    }
  },
  "nbformat": 4,
  "nbformat_minor": 0
}